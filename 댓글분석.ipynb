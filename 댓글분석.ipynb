{
  "nbformat": 4,
  "nbformat_minor": 0,
  "metadata": {
    "colab": {
      "name": "댓글분석.ipynb",
      "provenance": [],
      "collapsed_sections": [
        "8ToErRAoWnot",
        "rfrodHQfvLFH"
      ],
      "include_colab_link": true
    },
    "kernelspec": {
      "name": "python3",
      "display_name": "Python 3"
    },
    "language_info": {
      "name": "python"
    }
  },
  "cells": [
    {
      "cell_type": "markdown",
      "metadata": {
        "id": "view-in-github",
        "colab_type": "text"
      },
      "source": [
        "<a href=\"https://colab.research.google.com/github/IDF13/mulcam_army/blob/sumin/%EB%8C%93%EA%B8%80%EB%B6%84%EC%84%9D.ipynb\" target=\"_parent\"><img src=\"https://colab.research.google.com/assets/colab-badge.svg\" alt=\"Open In Colab\"/></a>"
      ]
    },
    {
      "cell_type": "markdown",
      "metadata": {
        "id": "8ToErRAoWnot"
      },
      "source": [
        "# 텍스트 분석 라이브러리 초기화"
      ]
    },
    {
      "cell_type": "code",
      "metadata": {
        "id": "S4vObRUpWMvJ"
      },
      "source": [
        "import pandas as pd\n",
        "import numpy as np\n",
        "import re\n",
        "import matplotlib.pyplot as plt\n",
        "%matplotlib inline\n",
        "# 시각화 결과가 선명하게 표시\n",
        "%config InlineBackend.figure_fromat = 'retina'\n",
        "# range 대신 처리 시간을 알려주는 라이브러리\n",
        "from tqdm import trange"
      ],
      "execution_count": 3,
      "outputs": []
    },
    {
      "cell_type": "markdown",
      "metadata": {
        "id": "rfrodHQfvLFH"
      },
      "source": [
        "# 시각화를 위한 한글폰트 설정"
      ]
    },
    {
      "cell_type": "code",
      "metadata": {
        "id": "inmZf3uPs9VE"
      },
      "source": [
        "# 윈도우 한글폰트 설정\n",
        "plt.rc(\"font\", family='Malgun Gothic')"
      ],
      "execution_count": 6,
      "outputs": []
    },
    {
      "cell_type": "markdown",
      "metadata": {
        "id": "wH9GaL_Yva01"
      },
      "source": [
        "# 유튜브 크롤링 파일 로드"
      ]
    },
    {
      "cell_type": "code",
      "metadata": {
        "colab": {
          "base_uri": "https://localhost:8080/",
          "height": 412
        },
        "id": "1YjZj4Yaoajx",
        "outputId": "cbc43455-fff7-4fef-8fa0-6eabdcf2dab9"
      },
      "source": [
        "path = '/content/drive/MyDrive/[공유] Mulcam_Army 공유폴더!/크롤링 한 자료/youtube/영상별 댓글/이진수/'\n",
        "\n",
        "shinee = 'comments_youtube_SHINee.csv'\n",
        "sf9 = 'comments_youtube_SF9.csv'\n",
        "seventeen = 'comments_youtube_SEVENTEEN.csv'\n",
        "red_velvet = 'comments_youtube_RED VELVET.csv'\n",
        "purple_kiss = 'comments_youtube_PURPLE KISS.csv'\n",
        "pentagon = 'comments_youtube_PENTAGON.csv'\n",
        "park_jihoon = 'comments_youtube_PARK JIHOON.csv'\n",
        "oneus = 'comments_youtube_ONEUS.csv'\n",
        "nuest = \"comments_youtube_NU'EST.csv\"\n",
        "nct = \"comments_youtube_NCT.csv\"\n",
        "\n",
        "df1 = pd.read_csv(path+shinee, encoding='utf-8', header=None)\n",
        "df2 = pd.read_csv(path+sf9, encoding='utf-8', header=None)\n",
        "df3 = pd.read_csv(path+seventeen, encoding='utf-8', header=None)\n",
        "df4 = pd.read_csv(path+red_velvet, encoding='utf-8', header=None)\n",
        "df5 = pd.read_csv(path+purple_kiss, encoding='utf-8', header=None)\n",
        "df6 = pd.read_csv(path+pentagon, encoding='utf-8', header=None)\n",
        "df7 = pd.read_csv(path+park_jihoon, encoding='utf-8', header=None)\n",
        "df8 = pd.read_csv(path+oneus, encoding='utf-8', header=None)\n",
        "df9 = pd.read_csv(path+nuest, encoding='utf-8', header=None)\n",
        "df10 = pd.read_csv(path+nct, encoding='utf-8', header=None)\n",
        "\n",
        "frames = [df1,df2,df3,df4,df5,df6,df7,df8,df9,df10]\n",
        "keys = ['shinee','sf9','seventeen','red_velvet','purple_kiss','pentagon','park_jihoon','oneus','nuest','nct']\n",
        "\n",
        "# df.loc['key_name']으로 데이터 프레임만 따로 뽑아낼 수 있다.\n",
        "# df = pd.concat(frames,keys=keys,ignore_index=True)\n",
        "df = pd.concat(frames, ignore_index=True)\n",
        "df.columns=['comment','like']\n",
        "df"
      ],
      "execution_count": 7,
      "outputs": [
        {
          "output_type": "error",
          "ename": "FileNotFoundError",
          "evalue": "ignored",
          "traceback": [
            "\u001b[0;31m---------------------------------------------------------------------------\u001b[0m",
            "\u001b[0;31mFileNotFoundError\u001b[0m                         Traceback (most recent call last)",
            "\u001b[0;32m<ipython-input-7-c63adf75d073>\u001b[0m in \u001b[0;36m<module>\u001b[0;34m()\u001b[0m\n\u001b[1;32m     12\u001b[0m \u001b[0mnct\u001b[0m \u001b[0;34m=\u001b[0m \u001b[0;34m\"comments_youtube_NCT.csv\"\u001b[0m\u001b[0;34m\u001b[0m\u001b[0;34m\u001b[0m\u001b[0m\n\u001b[1;32m     13\u001b[0m \u001b[0;34m\u001b[0m\u001b[0m\n\u001b[0;32m---> 14\u001b[0;31m \u001b[0mdf1\u001b[0m \u001b[0;34m=\u001b[0m \u001b[0mpd\u001b[0m\u001b[0;34m.\u001b[0m\u001b[0mread_csv\u001b[0m\u001b[0;34m(\u001b[0m\u001b[0mpath\u001b[0m\u001b[0;34m+\u001b[0m\u001b[0mshinee\u001b[0m\u001b[0;34m,\u001b[0m \u001b[0mencoding\u001b[0m\u001b[0;34m=\u001b[0m\u001b[0;34m'utf-8'\u001b[0m\u001b[0;34m,\u001b[0m \u001b[0mheader\u001b[0m\u001b[0;34m=\u001b[0m\u001b[0;32mNone\u001b[0m\u001b[0;34m)\u001b[0m\u001b[0;34m\u001b[0m\u001b[0;34m\u001b[0m\u001b[0m\n\u001b[0m\u001b[1;32m     15\u001b[0m \u001b[0mdf2\u001b[0m \u001b[0;34m=\u001b[0m \u001b[0mpd\u001b[0m\u001b[0;34m.\u001b[0m\u001b[0mread_csv\u001b[0m\u001b[0;34m(\u001b[0m\u001b[0mpath\u001b[0m\u001b[0;34m+\u001b[0m\u001b[0msf9\u001b[0m\u001b[0;34m,\u001b[0m \u001b[0mencoding\u001b[0m\u001b[0;34m=\u001b[0m\u001b[0;34m'utf-8'\u001b[0m\u001b[0;34m,\u001b[0m \u001b[0mheader\u001b[0m\u001b[0;34m=\u001b[0m\u001b[0;32mNone\u001b[0m\u001b[0;34m)\u001b[0m\u001b[0;34m\u001b[0m\u001b[0;34m\u001b[0m\u001b[0m\n\u001b[1;32m     16\u001b[0m \u001b[0mdf3\u001b[0m \u001b[0;34m=\u001b[0m \u001b[0mpd\u001b[0m\u001b[0;34m.\u001b[0m\u001b[0mread_csv\u001b[0m\u001b[0;34m(\u001b[0m\u001b[0mpath\u001b[0m\u001b[0;34m+\u001b[0m\u001b[0mseventeen\u001b[0m\u001b[0;34m,\u001b[0m \u001b[0mencoding\u001b[0m\u001b[0;34m=\u001b[0m\u001b[0;34m'utf-8'\u001b[0m\u001b[0;34m,\u001b[0m \u001b[0mheader\u001b[0m\u001b[0;34m=\u001b[0m\u001b[0;32mNone\u001b[0m\u001b[0;34m)\u001b[0m\u001b[0;34m\u001b[0m\u001b[0;34m\u001b[0m\u001b[0m\n",
            "\u001b[0;32m/usr/local/lib/python3.7/dist-packages/pandas/io/parsers.py\u001b[0m in \u001b[0;36mread_csv\u001b[0;34m(filepath_or_buffer, sep, delimiter, header, names, index_col, usecols, squeeze, prefix, mangle_dupe_cols, dtype, engine, converters, true_values, false_values, skipinitialspace, skiprows, skipfooter, nrows, na_values, keep_default_na, na_filter, verbose, skip_blank_lines, parse_dates, infer_datetime_format, keep_date_col, date_parser, dayfirst, cache_dates, iterator, chunksize, compression, thousands, decimal, lineterminator, quotechar, quoting, doublequote, escapechar, comment, encoding, dialect, error_bad_lines, warn_bad_lines, delim_whitespace, low_memory, memory_map, float_precision)\u001b[0m\n\u001b[1;32m    686\u001b[0m     )\n\u001b[1;32m    687\u001b[0m \u001b[0;34m\u001b[0m\u001b[0m\n\u001b[0;32m--> 688\u001b[0;31m     \u001b[0;32mreturn\u001b[0m \u001b[0m_read\u001b[0m\u001b[0;34m(\u001b[0m\u001b[0mfilepath_or_buffer\u001b[0m\u001b[0;34m,\u001b[0m \u001b[0mkwds\u001b[0m\u001b[0;34m)\u001b[0m\u001b[0;34m\u001b[0m\u001b[0;34m\u001b[0m\u001b[0m\n\u001b[0m\u001b[1;32m    689\u001b[0m \u001b[0;34m\u001b[0m\u001b[0m\n\u001b[1;32m    690\u001b[0m \u001b[0;34m\u001b[0m\u001b[0m\n",
            "\u001b[0;32m/usr/local/lib/python3.7/dist-packages/pandas/io/parsers.py\u001b[0m in \u001b[0;36m_read\u001b[0;34m(filepath_or_buffer, kwds)\u001b[0m\n\u001b[1;32m    452\u001b[0m \u001b[0;34m\u001b[0m\u001b[0m\n\u001b[1;32m    453\u001b[0m     \u001b[0;31m# Create the parser.\u001b[0m\u001b[0;34m\u001b[0m\u001b[0;34m\u001b[0m\u001b[0;34m\u001b[0m\u001b[0m\n\u001b[0;32m--> 454\u001b[0;31m     \u001b[0mparser\u001b[0m \u001b[0;34m=\u001b[0m \u001b[0mTextFileReader\u001b[0m\u001b[0;34m(\u001b[0m\u001b[0mfp_or_buf\u001b[0m\u001b[0;34m,\u001b[0m \u001b[0;34m**\u001b[0m\u001b[0mkwds\u001b[0m\u001b[0;34m)\u001b[0m\u001b[0;34m\u001b[0m\u001b[0;34m\u001b[0m\u001b[0m\n\u001b[0m\u001b[1;32m    455\u001b[0m \u001b[0;34m\u001b[0m\u001b[0m\n\u001b[1;32m    456\u001b[0m     \u001b[0;32mif\u001b[0m \u001b[0mchunksize\u001b[0m \u001b[0;32mor\u001b[0m \u001b[0miterator\u001b[0m\u001b[0;34m:\u001b[0m\u001b[0;34m\u001b[0m\u001b[0;34m\u001b[0m\u001b[0m\n",
            "\u001b[0;32m/usr/local/lib/python3.7/dist-packages/pandas/io/parsers.py\u001b[0m in \u001b[0;36m__init__\u001b[0;34m(self, f, engine, **kwds)\u001b[0m\n\u001b[1;32m    946\u001b[0m             \u001b[0mself\u001b[0m\u001b[0;34m.\u001b[0m\u001b[0moptions\u001b[0m\u001b[0;34m[\u001b[0m\u001b[0;34m\"has_index_names\"\u001b[0m\u001b[0;34m]\u001b[0m \u001b[0;34m=\u001b[0m \u001b[0mkwds\u001b[0m\u001b[0;34m[\u001b[0m\u001b[0;34m\"has_index_names\"\u001b[0m\u001b[0;34m]\u001b[0m\u001b[0;34m\u001b[0m\u001b[0;34m\u001b[0m\u001b[0m\n\u001b[1;32m    947\u001b[0m \u001b[0;34m\u001b[0m\u001b[0m\n\u001b[0;32m--> 948\u001b[0;31m         \u001b[0mself\u001b[0m\u001b[0;34m.\u001b[0m\u001b[0m_make_engine\u001b[0m\u001b[0;34m(\u001b[0m\u001b[0mself\u001b[0m\u001b[0;34m.\u001b[0m\u001b[0mengine\u001b[0m\u001b[0;34m)\u001b[0m\u001b[0;34m\u001b[0m\u001b[0;34m\u001b[0m\u001b[0m\n\u001b[0m\u001b[1;32m    949\u001b[0m \u001b[0;34m\u001b[0m\u001b[0m\n\u001b[1;32m    950\u001b[0m     \u001b[0;32mdef\u001b[0m \u001b[0mclose\u001b[0m\u001b[0;34m(\u001b[0m\u001b[0mself\u001b[0m\u001b[0;34m)\u001b[0m\u001b[0;34m:\u001b[0m\u001b[0;34m\u001b[0m\u001b[0;34m\u001b[0m\u001b[0m\n",
            "\u001b[0;32m/usr/local/lib/python3.7/dist-packages/pandas/io/parsers.py\u001b[0m in \u001b[0;36m_make_engine\u001b[0;34m(self, engine)\u001b[0m\n\u001b[1;32m   1178\u001b[0m     \u001b[0;32mdef\u001b[0m \u001b[0m_make_engine\u001b[0m\u001b[0;34m(\u001b[0m\u001b[0mself\u001b[0m\u001b[0;34m,\u001b[0m \u001b[0mengine\u001b[0m\u001b[0;34m=\u001b[0m\u001b[0;34m\"c\"\u001b[0m\u001b[0;34m)\u001b[0m\u001b[0;34m:\u001b[0m\u001b[0;34m\u001b[0m\u001b[0;34m\u001b[0m\u001b[0m\n\u001b[1;32m   1179\u001b[0m         \u001b[0;32mif\u001b[0m \u001b[0mengine\u001b[0m \u001b[0;34m==\u001b[0m \u001b[0;34m\"c\"\u001b[0m\u001b[0;34m:\u001b[0m\u001b[0;34m\u001b[0m\u001b[0;34m\u001b[0m\u001b[0m\n\u001b[0;32m-> 1180\u001b[0;31m             \u001b[0mself\u001b[0m\u001b[0;34m.\u001b[0m\u001b[0m_engine\u001b[0m \u001b[0;34m=\u001b[0m \u001b[0mCParserWrapper\u001b[0m\u001b[0;34m(\u001b[0m\u001b[0mself\u001b[0m\u001b[0;34m.\u001b[0m\u001b[0mf\u001b[0m\u001b[0;34m,\u001b[0m \u001b[0;34m**\u001b[0m\u001b[0mself\u001b[0m\u001b[0;34m.\u001b[0m\u001b[0moptions\u001b[0m\u001b[0;34m)\u001b[0m\u001b[0;34m\u001b[0m\u001b[0;34m\u001b[0m\u001b[0m\n\u001b[0m\u001b[1;32m   1181\u001b[0m         \u001b[0;32melse\u001b[0m\u001b[0;34m:\u001b[0m\u001b[0;34m\u001b[0m\u001b[0;34m\u001b[0m\u001b[0m\n\u001b[1;32m   1182\u001b[0m             \u001b[0;32mif\u001b[0m \u001b[0mengine\u001b[0m \u001b[0;34m==\u001b[0m \u001b[0;34m\"python\"\u001b[0m\u001b[0;34m:\u001b[0m\u001b[0;34m\u001b[0m\u001b[0;34m\u001b[0m\u001b[0m\n",
            "\u001b[0;32m/usr/local/lib/python3.7/dist-packages/pandas/io/parsers.py\u001b[0m in \u001b[0;36m__init__\u001b[0;34m(self, src, **kwds)\u001b[0m\n\u001b[1;32m   1991\u001b[0m         \u001b[0;32mif\u001b[0m \u001b[0mkwds\u001b[0m\u001b[0;34m.\u001b[0m\u001b[0mget\u001b[0m\u001b[0;34m(\u001b[0m\u001b[0;34m\"compression\"\u001b[0m\u001b[0;34m)\u001b[0m \u001b[0;32mis\u001b[0m \u001b[0;32mNone\u001b[0m \u001b[0;32mand\u001b[0m \u001b[0mencoding\u001b[0m\u001b[0;34m:\u001b[0m\u001b[0;34m\u001b[0m\u001b[0;34m\u001b[0m\u001b[0m\n\u001b[1;32m   1992\u001b[0m             \u001b[0;32mif\u001b[0m \u001b[0misinstance\u001b[0m\u001b[0;34m(\u001b[0m\u001b[0msrc\u001b[0m\u001b[0;34m,\u001b[0m \u001b[0mstr\u001b[0m\u001b[0;34m)\u001b[0m\u001b[0;34m:\u001b[0m\u001b[0;34m\u001b[0m\u001b[0;34m\u001b[0m\u001b[0m\n\u001b[0;32m-> 1993\u001b[0;31m                 \u001b[0msrc\u001b[0m \u001b[0;34m=\u001b[0m \u001b[0mopen\u001b[0m\u001b[0;34m(\u001b[0m\u001b[0msrc\u001b[0m\u001b[0;34m,\u001b[0m \u001b[0;34m\"rb\"\u001b[0m\u001b[0;34m)\u001b[0m\u001b[0;34m\u001b[0m\u001b[0;34m\u001b[0m\u001b[0m\n\u001b[0m\u001b[1;32m   1994\u001b[0m                 \u001b[0mself\u001b[0m\u001b[0;34m.\u001b[0m\u001b[0mhandles\u001b[0m\u001b[0;34m.\u001b[0m\u001b[0mappend\u001b[0m\u001b[0;34m(\u001b[0m\u001b[0msrc\u001b[0m\u001b[0;34m)\u001b[0m\u001b[0;34m\u001b[0m\u001b[0;34m\u001b[0m\u001b[0m\n\u001b[1;32m   1995\u001b[0m \u001b[0;34m\u001b[0m\u001b[0m\n",
            "\u001b[0;31mFileNotFoundError\u001b[0m: [Errno 2] No such file or directory: '/content/drive/MyDrive/[공유] Mulcam_Army 공유폴더!/크롤링 한 자료/youtube/영상별 댓글/이진수/comments_youtube_SHINee.csv'"
          ]
        }
      ]
    },
    {
      "cell_type": "markdown",
      "metadata": {
        "id": "nxkmIeN-2Pr3"
      },
      "source": [
        "# 네트워크 오류 등으로 발생한 중복 입력 값 제거\n",
        "- 빈도 수 중복 방지\n",
        "- 대문자 소문자로 바꾸기"
      ]
    },
    {
      "cell_type": "code",
      "metadata": {
        "colab": {
          "base_uri": "https://localhost:8080/"
        },
        "id": "Jpe4y4Ov2V5R",
        "outputId": "6679ca0f-ac1d-4740-b942-ad2c684e7a3d"
      },
      "source": [
        "# 중복 값 제거\n",
        "print('중복 제거 전 :',df.shape)\n",
        "df = df.drop_duplicates(['comment'],keep='last',ignore_index=True)\n",
        "print('중복 제거 후 :',df.shape)"
      ],
      "execution_count": null,
      "outputs": [
        {
          "output_type": "stream",
          "name": "stdout",
          "text": [
            "중복 제거 전 : (35165, 2)\n",
            "중복 제거 후 : (31610, 2)\n"
          ]
        }
      ]
    },
    {
      "cell_type": "code",
      "metadata": {
        "colab": {
          "base_uri": "https://localhost:8080/",
          "height": 419
        },
        "id": "eVSVdivExudN",
        "outputId": "3d88358c-aa63-48b3-95e7-ba656107b89f"
      },
      "source": [
        "# 제거 값 = NaN -> null 값으로 변환 및 행 제거\n",
        "# df.to_csv('confern.csv',encoding='utf-8-sig')\n",
        "df"
      ],
      "execution_count": null,
      "outputs": [
        {
          "output_type": "execute_result",
          "data": {
            "text/html": [
              "<div>\n",
              "<style scoped>\n",
              "    .dataframe tbody tr th:only-of-type {\n",
              "        vertical-align: middle;\n",
              "    }\n",
              "\n",
              "    .dataframe tbody tr th {\n",
              "        vertical-align: top;\n",
              "    }\n",
              "\n",
              "    .dataframe thead th {\n",
              "        text-align: right;\n",
              "    }\n",
              "</style>\n",
              "<table border=\"1\" class=\"dataframe\">\n",
              "  <thead>\n",
              "    <tr style=\"text-align: right;\">\n",
              "      <th></th>\n",
              "      <th>comment</th>\n",
              "      <th>like</th>\n",
              "    </tr>\n",
              "  </thead>\n",
              "  <tbody>\n",
              "    <tr>\n",
              "      <th>0</th>\n",
              "      <td>1:17 투피엠, 하이라이트 다같이 부루마블 하던 썰\\r\\r\\n3:17 &lt;누난 너무...</td>\n",
              "      <td>5.7천</td>\n",
              "    </tr>\n",
              "    <tr>\n",
              "      <th>1</th>\n",
              "      <td>험난한 가요계에 재디치의 등장이라니,,, 이거 재밌어지겠는걸?😎\\r\\n09:02 재...</td>\n",
              "      <td>8.6천</td>\n",
              "    </tr>\n",
              "    <tr>\n",
              "      <th>2</th>\n",
              "      <td>ㅋㅋ 샤이니들 은은히 미쳤다는 말이 맞네 ㅋㅋㅋ</td>\n",
              "      <td>3.7천</td>\n",
              "    </tr>\n",
              "    <tr>\n",
              "      <th>3</th>\n",
              "      <td>그나저나 종현이 그냥 오늘 다른 스케쥴 있어서 빠진 거 같아\\r\\n늘 옆에 있는것처...</td>\n",
              "      <td>3천</td>\n",
              "    </tr>\n",
              "    <tr>\n",
              "      <th>4</th>\n",
              "      <td>문특 샤이니편은 진짜 레전드로 재미있음… 이렇게 자주 돌려 보는 영상 처음이야 ㅠ.ㅠ</td>\n",
              "      <td>25</td>\n",
              "    </tr>\n",
              "    <tr>\n",
              "      <th>...</th>\n",
              "      <td>...</td>\n",
              "      <td>...</td>\n",
              "    </tr>\n",
              "    <tr>\n",
              "      <th>31605</th>\n",
              "      <td>Lol</td>\n",
              "      <td>1</td>\n",
              "    </tr>\n",
              "    <tr>\n",
              "      <th>31606</th>\n",
              "      <td>Gerçekten mi ben bunu nasıl fark edemedim</td>\n",
              "      <td>0</td>\n",
              "    </tr>\n",
              "    <tr>\n",
              "      <th>31607</th>\n",
              "      <td>@nani wo!  IWKSIDDKISODLSPSS9DÜS8ADP7EP8SKFIR...</td>\n",
              "      <td>0</td>\n",
              "    </tr>\n",
              "    <tr>\n",
              "      <th>31608</th>\n",
              "      <td>Thanks Sherlock</td>\n",
              "      <td>0</td>\n",
              "    </tr>\n",
              "    <tr>\n",
              "      <th>31609</th>\n",
              "      <td>wbk lol</td>\n",
              "      <td>0</td>\n",
              "    </tr>\n",
              "  </tbody>\n",
              "</table>\n",
              "<p>31610 rows × 2 columns</p>\n",
              "</div>"
            ],
            "text/plain": [
              "                                                 comment  like\n",
              "0      1:17 투피엠, 하이라이트 다같이 부루마블 하던 썰\\r\\r\\n3:17 <누난 너무...  5.7천\n",
              "1      험난한 가요계에 재디치의 등장이라니,,, 이거 재밌어지겠는걸?😎\\r\\n09:02 재...  8.6천\n",
              "2                             ㅋㅋ 샤이니들 은은히 미쳤다는 말이 맞네 ㅋㅋㅋ  3.7천\n",
              "3      그나저나 종현이 그냥 오늘 다른 스케쥴 있어서 빠진 거 같아\\r\\n늘 옆에 있는것처...    3천\n",
              "4        문특 샤이니편은 진짜 레전드로 재미있음… 이렇게 자주 돌려 보는 영상 처음이야 ㅠ.ㅠ    25\n",
              "...                                                  ...   ...\n",
              "31605                                                Lol     1\n",
              "31606          Gerçekten mi ben bunu nasıl fark edemedim     0\n",
              "31607   @nani wo!  IWKSIDDKISODLSPSS9DÜS8ADP7EP8SKFIR...     0\n",
              "31608                                    Thanks Sherlock     0\n",
              "31609                                            wbk lol     0\n",
              "\n",
              "[31610 rows x 2 columns]"
            ]
          },
          "metadata": {},
          "execution_count": 5
        }
      ]
    },
    {
      "cell_type": "code",
      "metadata": {
        "id": "mfH3lfjo28Zn"
      },
      "source": [
        "# 소문자로 바꾸기 보류\n",
        "#comment_result['comment'] = comment_result['comment'].str.lower()\n",
        "# copy_data.to_csv('concat_txt.csv',encoding='utf-8-sig')\n",
        "#comment_result['comment']"
      ],
      "execution_count": null,
      "outputs": []
    },
    {
      "cell_type": "markdown",
      "metadata": {
        "id": "LOG32SXU-bj1"
      },
      "source": [
        "# 언어 정제"
      ]
    },
    {
      "cell_type": "code",
      "metadata": {
        "colab": {
          "base_uri": "https://localhost:8080/"
        },
        "id": "6Sw8TsgfP94r",
        "outputId": "24d1a539-6470-4f0a-abb0-c06e5f39ecad"
      },
      "source": [
        "# 전처리 전 원본 보존\n",
        "import copy\n",
        "copy_data = copy.deepcopy(df)\n",
        "copy_data.info()"
      ],
      "execution_count": null,
      "outputs": [
        {
          "output_type": "stream",
          "name": "stdout",
          "text": [
            "<class 'pandas.core.frame.DataFrame'>\n",
            "RangeIndex: 31610 entries, 0 to 31609\n",
            "Data columns (total 2 columns):\n",
            " #   Column   Non-Null Count  Dtype \n",
            "---  ------   --------------  ----- \n",
            " 0   comment  31610 non-null  object\n",
            " 1   like     31610 non-null  object\n",
            "dtypes: object(2)\n",
            "memory usage: 494.0+ KB\n"
          ]
        }
      ]
    },
    {
      "cell_type": "code",
      "metadata": {
        "id": "Kxez9TFDVTYp"
      },
      "source": [
        "emoji_pattern = re.compile(\"[\"\n",
        "        u\"\\U0001F600-\\U0001F64F\"  # emoticons\n",
        "        u\"\\U0001F300-\\U0001F5FF\"  # symbols & pictographs\n",
        "        u\"\\U0001F680-\\U0001F6FF\"  # transport & map symbols\n",
        "        u\"\\U0001F1E0-\\U0001F1FF\"  # flags (iOS)\n",
        "                           \"]+\", flags=re.UNICODE)\n",
        "\n",
        "#분석에 어긋나는 불용어구 제외 (특수문자, 의성어)\n",
        "han = re.compile(r'[ㄱ-ㅎㅏ-ㅣ!?~,\".\\n\\r#\\ufeff\\u200d]')"
      ],
      "execution_count": null,
      "outputs": []
    },
    {
      "cell_type": "code",
      "metadata": {
        "colab": {
          "base_uri": "https://localhost:8080/"
        },
        "id": "53hkWVCvVdER",
        "outputId": "e43a50f9-9a08-4e73-dc45-ba4229c7b506"
      },
      "source": [
        "comment_list = []\n",
        "for i in trange(len(copy_data['comment'])):\n",
        "  comment_list.append(copy_data.comment.iloc[i])"
      ],
      "execution_count": null,
      "outputs": [
        {
          "output_type": "stream",
          "name": "stderr",
          "text": [
            "100%|██████████| 31610/31610 [00:00<00:00, 56664.11it/s]\n"
          ]
        }
      ]
    },
    {
      "cell_type": "code",
      "metadata": {
        "id": "FHzd7O3PWG1B"
      },
      "source": [
        "comment_result = []\n",
        "\n",
        "for i in comment_list:\n",
        "    tokens = re.sub(emoji_pattern,\"\",i)\n",
        "    tokens = re.sub(han,\"\",tokens)\n",
        "    comment_result.append(tokens)\n",
        "\n",
        "comment_result = pd.DataFrame(comment_result, columns=[\"comment\"])"
      ],
      "execution_count": null,
      "outputs": []
    },
    {
      "cell_type": "code",
      "metadata": {
        "colab": {
          "base_uri": "https://localhost:8080/",
          "height": 419
        },
        "id": "PJXfTHrRWuDQ",
        "outputId": "d82fa838-74ba-416a-bec9-6ff941c4812d"
      },
      "source": [
        "comment_result"
      ],
      "execution_count": null,
      "outputs": [
        {
          "output_type": "execute_result",
          "data": {
            "text/html": [
              "<div>\n",
              "<style scoped>\n",
              "    .dataframe tbody tr th:only-of-type {\n",
              "        vertical-align: middle;\n",
              "    }\n",
              "\n",
              "    .dataframe tbody tr th {\n",
              "        vertical-align: top;\n",
              "    }\n",
              "\n",
              "    .dataframe thead th {\n",
              "        text-align: right;\n",
              "    }\n",
              "</style>\n",
              "<table border=\"1\" class=\"dataframe\">\n",
              "  <thead>\n",
              "    <tr style=\"text-align: right;\">\n",
              "      <th></th>\n",
              "      <th>comment</th>\n",
              "    </tr>\n",
              "  </thead>\n",
              "  <tbody>\n",
              "    <tr>\n",
              "      <th>0</th>\n",
              "      <td>1:17 투피엠 하이라이트 다같이 부루마블 하던 썰3:17 &lt;누난 너무 예뻐&gt;의 그...</td>\n",
              "    </tr>\n",
              "    <tr>\n",
              "      <th>1</th>\n",
              "      <td>험난한 가요계에 재디치의 등장이라니 이거 재밌어지겠는걸09:02 재디치 당신을 명예...</td>\n",
              "    </tr>\n",
              "    <tr>\n",
              "      <th>2</th>\n",
              "      <td>샤이니들 은은히 미쳤다는 말이 맞네</td>\n",
              "    </tr>\n",
              "    <tr>\n",
              "      <th>3</th>\n",
              "      <td>그나저나 종현이 그냥 오늘 다른 스케쥴 있어서 빠진 거 같아늘 옆에 있는것처럼 아무...</td>\n",
              "    </tr>\n",
              "    <tr>\n",
              "      <th>4</th>\n",
              "      <td>문특 샤이니편은 진짜 레전드로 재미있음… 이렇게 자주 돌려 보는 영상 처음이야</td>\n",
              "    </tr>\n",
              "    <tr>\n",
              "      <th>...</th>\n",
              "      <td>...</td>\n",
              "    </tr>\n",
              "    <tr>\n",
              "      <th>31605</th>\n",
              "      <td>Lol</td>\n",
              "    </tr>\n",
              "    <tr>\n",
              "      <th>31606</th>\n",
              "      <td>Gerçekten mi ben bunu nasıl fark edemedim</td>\n",
              "    </tr>\n",
              "    <tr>\n",
              "      <th>31607</th>\n",
              "      <td>@nani wo  IWKSIDDKISODLSPSS9DÜS8ADP7EP8SKFIRO...</td>\n",
              "    </tr>\n",
              "    <tr>\n",
              "      <th>31608</th>\n",
              "      <td>Thanks Sherlock</td>\n",
              "    </tr>\n",
              "    <tr>\n",
              "      <th>31609</th>\n",
              "      <td>wbk lol</td>\n",
              "    </tr>\n",
              "  </tbody>\n",
              "</table>\n",
              "<p>31610 rows × 1 columns</p>\n",
              "</div>"
            ],
            "text/plain": [
              "                                                 comment\n",
              "0      1:17 투피엠 하이라이트 다같이 부루마블 하던 썰3:17 <누난 너무 예뻐>의 그...\n",
              "1      험난한 가요계에 재디치의 등장이라니 이거 재밌어지겠는걸09:02 재디치 당신을 명예...\n",
              "2                                   샤이니들 은은히 미쳤다는 말이 맞네 \n",
              "3      그나저나 종현이 그냥 오늘 다른 스케쥴 있어서 빠진 거 같아늘 옆에 있는것처럼 아무...\n",
              "4           문특 샤이니편은 진짜 레전드로 재미있음… 이렇게 자주 돌려 보는 영상 처음이야 \n",
              "...                                                  ...\n",
              "31605                                                Lol\n",
              "31606          Gerçekten mi ben bunu nasıl fark edemedim\n",
              "31607   @nani wo  IWKSIDDKISODLSPSS9DÜS8ADP7EP8SKFIRO...\n",
              "31608                                    Thanks Sherlock\n",
              "31609                                            wbk lol\n",
              "\n",
              "[31610 rows x 1 columns]"
            ]
          },
          "metadata": {},
          "execution_count": 11
        }
      ]
    },
    {
      "cell_type": "markdown",
      "metadata": {
        "id": "w2LuMhUVxVQt"
      },
      "source": [
        "# 언어별 분류 작업\n",
        "- 정확도가 높은 fasttext 모듈로 분류"
      ]
    },
    {
      "cell_type": "code",
      "metadata": {
        "colab": {
          "base_uri": "https://localhost:8080/"
        },
        "id": "fs0c1dP1PtzW",
        "outputId": "52f04601-046f-4dbd-e0a3-140490c028c7"
      },
      "source": [
        "!pip install fasttext"
      ],
      "execution_count": null,
      "outputs": [
        {
          "output_type": "stream",
          "name": "stdout",
          "text": [
            "Requirement already satisfied: fasttext in /usr/local/lib/python3.7/dist-packages (0.9.2)\n",
            "Requirement already satisfied: setuptools>=0.7.0 in /usr/local/lib/python3.7/dist-packages (from fasttext) (57.4.0)\n",
            "Requirement already satisfied: numpy in /usr/local/lib/python3.7/dist-packages (from fasttext) (1.19.5)\n",
            "Requirement already satisfied: pybind11>=2.2 in /usr/local/lib/python3.7/dist-packages (from fasttext) (2.7.1)\n"
          ]
        }
      ]
    },
    {
      "cell_type": "code",
      "metadata": {
        "colab": {
          "base_uri": "https://localhost:8080/"
        },
        "id": "hDcqTQD1Y8gJ",
        "outputId": "f2a9010a-0998-49ff-c261-bdc9556e4511"
      },
      "source": [
        "import fasttext\n",
        "model = fasttext.load_model('/content/drive/MyDrive/ML Deep/자연어처리/lid.176.ftz')\n",
        "\n",
        "predict = []\n",
        "for t in comment_result.comment:\n",
        "  predict.append(model.predict(t,k=1))\n"
      ],
      "execution_count": null,
      "outputs": [
        {
          "output_type": "stream",
          "name": "stderr",
          "text": [
            "Warning : `load_model` does not return WordVectorModel or SupervisedModel any more, but a `FastText` object which is very similar.\n"
          ]
        }
      ]
    },
    {
      "cell_type": "code",
      "metadata": {
        "colab": {
          "base_uri": "https://localhost:8080/",
          "height": 419
        },
        "id": "xIhyXVzPaxYw",
        "outputId": "07ff3006-ce9e-44de-c0e1-4c571ca1bf37"
      },
      "source": [
        "ty = pd.DataFrame(predict)\n",
        "\n",
        "comment = []\n",
        "for num, txt in enumerate(ty[0]):\n",
        "  #print(txt)\n",
        "  #if num == 30:\n",
        "   # break\n",
        "  \n",
        "  txt = str(txt)\n",
        "\n",
        "  if txt == \"('__label__ko',)\":\n",
        "    b = re.sub(txt,\"ko\",txt)\n",
        "    comment.append(b)\n",
        "  elif txt == \"('__label__en',)\":\n",
        "    b = re.sub(txt,\"en\",txt)\n",
        "    comment.append(b)\n",
        "  elif txt == \"('__label__id',)\":\n",
        "    b = re.sub(txt,\"id\",txt)\n",
        "    comment.append(b)\n",
        "  else:\n",
        "    b = re.sub(txt,\"etc\",txt)\n",
        "    comment.append(b)\n",
        "\n",
        "\n",
        "comment[:10]\n",
        "comment = pd.DataFrame(comment)\n",
        "comment"
      ],
      "execution_count": null,
      "outputs": [
        {
          "output_type": "execute_result",
          "data": {
            "text/html": [
              "<div>\n",
              "<style scoped>\n",
              "    .dataframe tbody tr th:only-of-type {\n",
              "        vertical-align: middle;\n",
              "    }\n",
              "\n",
              "    .dataframe tbody tr th {\n",
              "        vertical-align: top;\n",
              "    }\n",
              "\n",
              "    .dataframe thead th {\n",
              "        text-align: right;\n",
              "    }\n",
              "</style>\n",
              "<table border=\"1\" class=\"dataframe\">\n",
              "  <thead>\n",
              "    <tr style=\"text-align: right;\">\n",
              "      <th></th>\n",
              "      <th>0</th>\n",
              "    </tr>\n",
              "  </thead>\n",
              "  <tbody>\n",
              "    <tr>\n",
              "      <th>0</th>\n",
              "      <td>(ko)</td>\n",
              "    </tr>\n",
              "    <tr>\n",
              "      <th>1</th>\n",
              "      <td>(ko)</td>\n",
              "    </tr>\n",
              "    <tr>\n",
              "      <th>2</th>\n",
              "      <td>(ko)</td>\n",
              "    </tr>\n",
              "    <tr>\n",
              "      <th>3</th>\n",
              "      <td>(ko)</td>\n",
              "    </tr>\n",
              "    <tr>\n",
              "      <th>4</th>\n",
              "      <td>(ko)</td>\n",
              "    </tr>\n",
              "    <tr>\n",
              "      <th>...</th>\n",
              "      <td>...</td>\n",
              "    </tr>\n",
              "    <tr>\n",
              "      <th>31605</th>\n",
              "      <td>(en)</td>\n",
              "    </tr>\n",
              "    <tr>\n",
              "      <th>31606</th>\n",
              "      <td>(etc)</td>\n",
              "    </tr>\n",
              "    <tr>\n",
              "      <th>31607</th>\n",
              "      <td>(etc)</td>\n",
              "    </tr>\n",
              "    <tr>\n",
              "      <th>31608</th>\n",
              "      <td>(en)</td>\n",
              "    </tr>\n",
              "    <tr>\n",
              "      <th>31609</th>\n",
              "      <td>(etc)</td>\n",
              "    </tr>\n",
              "  </tbody>\n",
              "</table>\n",
              "<p>31610 rows × 1 columns</p>\n",
              "</div>"
            ],
            "text/plain": [
              "           0\n",
              "0       (ko)\n",
              "1       (ko)\n",
              "2       (ko)\n",
              "3       (ko)\n",
              "4       (ko)\n",
              "...      ...\n",
              "31605   (en)\n",
              "31606  (etc)\n",
              "31607  (etc)\n",
              "31608   (en)\n",
              "31609  (etc)\n",
              "\n",
              "[31610 rows x 1 columns]"
            ]
          },
          "metadata": {},
          "execution_count": 14
        }
      ]
    },
    {
      "cell_type": "code",
      "metadata": {
        "id": "Yf9VJy4Cd_HP"
      },
      "source": [
        "like = pd.DataFrame(copy_data['like'])\n",
        "data = pd.concat([comment_result,like, comment],axis=1)"
      ],
      "execution_count": null,
      "outputs": []
    },
    {
      "cell_type": "code",
      "metadata": {
        "colab": {
          "base_uri": "https://localhost:8080/",
          "height": 419
        },
        "id": "3j7Ldj2-i6wM",
        "outputId": "5d10f5fb-5fb6-4900-b2d6-c8687da9fbb1"
      },
      "source": [
        "data.columns = ['comment','like','lang']\n",
        "data"
      ],
      "execution_count": null,
      "outputs": [
        {
          "output_type": "execute_result",
          "data": {
            "text/html": [
              "<div>\n",
              "<style scoped>\n",
              "    .dataframe tbody tr th:only-of-type {\n",
              "        vertical-align: middle;\n",
              "    }\n",
              "\n",
              "    .dataframe tbody tr th {\n",
              "        vertical-align: top;\n",
              "    }\n",
              "\n",
              "    .dataframe thead th {\n",
              "        text-align: right;\n",
              "    }\n",
              "</style>\n",
              "<table border=\"1\" class=\"dataframe\">\n",
              "  <thead>\n",
              "    <tr style=\"text-align: right;\">\n",
              "      <th></th>\n",
              "      <th>comment</th>\n",
              "      <th>like</th>\n",
              "      <th>lang</th>\n",
              "    </tr>\n",
              "  </thead>\n",
              "  <tbody>\n",
              "    <tr>\n",
              "      <th>0</th>\n",
              "      <td>1:17 투피엠 하이라이트 다같이 부루마블 하던 썰3:17 &lt;누난 너무 예뻐&gt;의 그...</td>\n",
              "      <td>5.7천</td>\n",
              "      <td>(ko)</td>\n",
              "    </tr>\n",
              "    <tr>\n",
              "      <th>1</th>\n",
              "      <td>험난한 가요계에 재디치의 등장이라니 이거 재밌어지겠는걸09:02 재디치 당신을 명예...</td>\n",
              "      <td>8.6천</td>\n",
              "      <td>(ko)</td>\n",
              "    </tr>\n",
              "    <tr>\n",
              "      <th>2</th>\n",
              "      <td>샤이니들 은은히 미쳤다는 말이 맞네</td>\n",
              "      <td>3.7천</td>\n",
              "      <td>(ko)</td>\n",
              "    </tr>\n",
              "    <tr>\n",
              "      <th>3</th>\n",
              "      <td>그나저나 종현이 그냥 오늘 다른 스케쥴 있어서 빠진 거 같아늘 옆에 있는것처럼 아무...</td>\n",
              "      <td>3천</td>\n",
              "      <td>(ko)</td>\n",
              "    </tr>\n",
              "    <tr>\n",
              "      <th>4</th>\n",
              "      <td>문특 샤이니편은 진짜 레전드로 재미있음… 이렇게 자주 돌려 보는 영상 처음이야</td>\n",
              "      <td>25</td>\n",
              "      <td>(ko)</td>\n",
              "    </tr>\n",
              "    <tr>\n",
              "      <th>...</th>\n",
              "      <td>...</td>\n",
              "      <td>...</td>\n",
              "      <td>...</td>\n",
              "    </tr>\n",
              "    <tr>\n",
              "      <th>31605</th>\n",
              "      <td>Lol</td>\n",
              "      <td>1</td>\n",
              "      <td>(en)</td>\n",
              "    </tr>\n",
              "    <tr>\n",
              "      <th>31606</th>\n",
              "      <td>Gerçekten mi ben bunu nasıl fark edemedim</td>\n",
              "      <td>0</td>\n",
              "      <td>(etc)</td>\n",
              "    </tr>\n",
              "    <tr>\n",
              "      <th>31607</th>\n",
              "      <td>@nani wo  IWKSIDDKISODLSPSS9DÜS8ADP7EP8SKFIRO...</td>\n",
              "      <td>0</td>\n",
              "      <td>(etc)</td>\n",
              "    </tr>\n",
              "    <tr>\n",
              "      <th>31608</th>\n",
              "      <td>Thanks Sherlock</td>\n",
              "      <td>0</td>\n",
              "      <td>(en)</td>\n",
              "    </tr>\n",
              "    <tr>\n",
              "      <th>31609</th>\n",
              "      <td>wbk lol</td>\n",
              "      <td>0</td>\n",
              "      <td>(etc)</td>\n",
              "    </tr>\n",
              "  </tbody>\n",
              "</table>\n",
              "<p>31610 rows × 3 columns</p>\n",
              "</div>"
            ],
            "text/plain": [
              "                                                 comment  like   lang\n",
              "0      1:17 투피엠 하이라이트 다같이 부루마블 하던 썰3:17 <누난 너무 예뻐>의 그...  5.7천   (ko)\n",
              "1      험난한 가요계에 재디치의 등장이라니 이거 재밌어지겠는걸09:02 재디치 당신을 명예...  8.6천   (ko)\n",
              "2                                   샤이니들 은은히 미쳤다는 말이 맞네   3.7천   (ko)\n",
              "3      그나저나 종현이 그냥 오늘 다른 스케쥴 있어서 빠진 거 같아늘 옆에 있는것처럼 아무...    3천   (ko)\n",
              "4           문특 샤이니편은 진짜 레전드로 재미있음… 이렇게 자주 돌려 보는 영상 처음이야     25   (ko)\n",
              "...                                                  ...   ...    ...\n",
              "31605                                                Lol     1   (en)\n",
              "31606          Gerçekten mi ben bunu nasıl fark edemedim     0  (etc)\n",
              "31607   @nani wo  IWKSIDDKISODLSPSS9DÜS8ADP7EP8SKFIRO...     0  (etc)\n",
              "31608                                    Thanks Sherlock     0   (en)\n",
              "31609                                            wbk lol     0  (etc)\n",
              "\n",
              "[31610 rows x 3 columns]"
            ]
          },
          "metadata": {},
          "execution_count": 16
        }
      ]
    },
    {
      "cell_type": "code",
      "metadata": {
        "id": "4yMpc0NOlZnz"
      },
      "source": [
        "data_ko = pd.DataFrame([kor[:1] for kor in data.values if kor[2] == '(ko)'], columns=['comment'])\n",
        "data_en = pd.DataFrame([en[:1] for en in data.values if en[2] == '(en)'], columns=['comment'])\n"
      ],
      "execution_count": null,
      "outputs": []
    },
    {
      "cell_type": "code",
      "metadata": {
        "colab": {
          "base_uri": "https://localhost:8080/",
          "height": 419
        },
        "id": "5-X8UEvzFM37",
        "outputId": "16b6d0ec-1c8a-4e64-d959-ab73d65a78ed"
      },
      "source": [
        "data_ko"
      ],
      "execution_count": null,
      "outputs": [
        {
          "output_type": "execute_result",
          "data": {
            "text/html": [
              "<div>\n",
              "<style scoped>\n",
              "    .dataframe tbody tr th:only-of-type {\n",
              "        vertical-align: middle;\n",
              "    }\n",
              "\n",
              "    .dataframe tbody tr th {\n",
              "        vertical-align: top;\n",
              "    }\n",
              "\n",
              "    .dataframe thead th {\n",
              "        text-align: right;\n",
              "    }\n",
              "</style>\n",
              "<table border=\"1\" class=\"dataframe\">\n",
              "  <thead>\n",
              "    <tr style=\"text-align: right;\">\n",
              "      <th></th>\n",
              "      <th>comment</th>\n",
              "    </tr>\n",
              "  </thead>\n",
              "  <tbody>\n",
              "    <tr>\n",
              "      <th>0</th>\n",
              "      <td>1:17 투피엠 하이라이트 다같이 부루마블 하던 썰3:17 &lt;누난 너무 예뻐&gt;의 그...</td>\n",
              "    </tr>\n",
              "    <tr>\n",
              "      <th>1</th>\n",
              "      <td>험난한 가요계에 재디치의 등장이라니 이거 재밌어지겠는걸09:02 재디치 당신을 명예...</td>\n",
              "    </tr>\n",
              "    <tr>\n",
              "      <th>2</th>\n",
              "      <td>샤이니들 은은히 미쳤다는 말이 맞네</td>\n",
              "    </tr>\n",
              "    <tr>\n",
              "      <th>3</th>\n",
              "      <td>그나저나 종현이 그냥 오늘 다른 스케쥴 있어서 빠진 거 같아늘 옆에 있는것처럼 아무...</td>\n",
              "    </tr>\n",
              "    <tr>\n",
              "      <th>4</th>\n",
              "      <td>문특 샤이니편은 진짜 레전드로 재미있음… 이렇게 자주 돌려 보는 영상 처음이야</td>\n",
              "    </tr>\n",
              "    <tr>\n",
              "      <th>...</th>\n",
              "      <td>...</td>\n",
              "    </tr>\n",
              "    <tr>\n",
              "      <th>4539</th>\n",
              "      <td>1gvu</td>\n",
              "    </tr>\n",
              "    <tr>\n",
              "      <th>4540</th>\n",
              "      <td>The lyrics of this song wrap around my head이 노...</td>\n",
              "    </tr>\n",
              "    <tr>\n",
              "      <th>4541</th>\n",
              "      <td>이거거등</td>\n",
              "    </tr>\n",
              "    <tr>\n",
              "      <th>4542</th>\n",
              "      <td>Semangat str3aming guys</td>\n",
              "    </tr>\n",
              "    <tr>\n",
              "      <th>4543</th>\n",
              "      <td>Semangat str3aming nya guysssss</td>\n",
              "    </tr>\n",
              "  </tbody>\n",
              "</table>\n",
              "<p>4544 rows × 1 columns</p>\n",
              "</div>"
            ],
            "text/plain": [
              "                                                comment\n",
              "0     1:17 투피엠 하이라이트 다같이 부루마블 하던 썰3:17 <누난 너무 예뻐>의 그...\n",
              "1     험난한 가요계에 재디치의 등장이라니 이거 재밌어지겠는걸09:02 재디치 당신을 명예...\n",
              "2                                  샤이니들 은은히 미쳤다는 말이 맞네 \n",
              "3     그나저나 종현이 그냥 오늘 다른 스케쥴 있어서 빠진 거 같아늘 옆에 있는것처럼 아무...\n",
              "4          문특 샤이니편은 진짜 레전드로 재미있음… 이렇게 자주 돌려 보는 영상 처음이야 \n",
              "...                                                 ...\n",
              "4539                                               1gvu\n",
              "4540  The lyrics of this song wrap around my head이 노...\n",
              "4541                                               이거거등\n",
              "4542                            Semangat str3aming guys\n",
              "4543                    Semangat str3aming nya guysssss\n",
              "\n",
              "[4544 rows x 1 columns]"
            ]
          },
          "metadata": {},
          "execution_count": 18
        }
      ]
    },
    {
      "cell_type": "code",
      "metadata": {
        "colab": {
          "base_uri": "https://localhost:8080/"
        },
        "id": "11vY726LIi56",
        "outputId": "db38da6f-1c7e-4eae-8e7b-0b785e11df3d"
      },
      "source": [
        "!pip install git+https://github.com/haven-jeon/PyKoSpacing.git"
      ],
      "execution_count": null,
      "outputs": [
        {
          "output_type": "stream",
          "name": "stdout",
          "text": [
            "/bin/bash: atp: command not found\n"
          ]
        }
      ]
    },
    {
      "cell_type": "code",
      "metadata": {
        "colab": {
          "base_uri": "https://localhost:8080/",
          "height": 334
        },
        "id": "J63l-fQuKpwp",
        "outputId": "b886461f-74ee-42f8-da39-352dcdb0e169"
      },
      "source": [
        "from pykospacing import spacing"
      ],
      "execution_count": null,
      "outputs": [
        {
          "output_type": "error",
          "ename": "ImportError",
          "evalue": "ignored",
          "traceback": [
            "\u001b[0;31m---------------------------------------------------------------------------\u001b[0m",
            "\u001b[0;31mImportError\u001b[0m                               Traceback (most recent call last)",
            "\u001b[0;32m<ipython-input-22-6c5cf9e59f47>\u001b[0m in \u001b[0;36m<module>\u001b[0;34m()\u001b[0m\n\u001b[0;32m----> 1\u001b[0;31m \u001b[0;32mfrom\u001b[0m \u001b[0mpykospacing\u001b[0m \u001b[0;32mimport\u001b[0m \u001b[0mspacing\u001b[0m\u001b[0;34m\u001b[0m\u001b[0;34m\u001b[0m\u001b[0m\n\u001b[0m",
            "\u001b[0;31mImportError\u001b[0m: cannot import name 'spacing' from 'pykospacing' (/usr/local/lib/python3.7/dist-packages/pykospacing/__init__.py)",
            "",
            "\u001b[0;31m---------------------------------------------------------------------------\u001b[0;32m\nNOTE: If your import is failing due to a missing package, you can\nmanually install dependencies using either !pip or !apt.\n\nTo view examples of installing some common dependencies, click the\n\"Open Examples\" button below.\n\u001b[0;31m---------------------------------------------------------------------------\u001b[0m\n"
          ],
          "errorDetails": {
            "actions": [
              {
                "action": "open_url",
                "actionText": "Open Examples",
                "url": "/notebooks/snippets/importing_libraries.ipynb"
              }
            ]
          }
        }
      ]
    },
    {
      "cell_type": "code",
      "metadata": {
        "id": "O62PyzogLLR6"
      },
      "source": [
        ""
      ],
      "execution_count": null,
      "outputs": []
    }
  ]
}