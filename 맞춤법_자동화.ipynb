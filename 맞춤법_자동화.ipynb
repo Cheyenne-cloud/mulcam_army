# 맞춤법 검사기를 활용
from selenium import webdriver
from selenium.webdriver.common.keys import Keys
from bs4 import BeautifulSoup
import time
import pandas as pd
#import kss


df = pd.read_csv('name_artists.csv', encoding='cp949')
head_name = df['korName']   

head_name = list(head_name)

options = webdriver.ChromeOptions()
options.add_experimental_option('excludeSwitches', ['enable-logging'])
dr = webdriver.Chrome('C:/Users/idf20/Anaconda3/chromedriver.exe',options=options)
dr.implicitly_wait(3)
url ='https://search.naver.com/search.naver?sm=tab_hty.top&where=nexearch&query=%EB%A7%9E%EC%B6%A4%EB%B2%95+%EA%B2%80%EC%82%AC%EA%B8%B0&oquery=%EB%84%A4%EC%9D%B4%EB%B2%84+%EB%A7%9E%EC%B6%A4%EB%B2%95+%EA%B2%80%EC%82%AC%EA%B8%B0&tqi=hgWPDsprvmsssNGtOyZssssssPK-369988'
dr.get(url)

time.sleep(2)

for file_name in head_name:
    f = open(file_name + '_wiki.txt','r',encoding='utf-8')  
    lines = f.read()
    f.close()
    
    ready_list=[]
    while (len(lines) > 500):
        temp_str = lines[:500]
        last_space = temp_str.rfind("\n")
        temp_str = lines[0:last_space]
        # print(temp_str)
        ready_list.append(temp_str)

        lines = lines[last_space:]

    ready_list.append(lines)

    textarea = dr.find_element_by_class_name('txt_gray')

    new_str = ''
    for ready in ready_list:
        textarea.send_keys(Keys.CONTROL, 'a')
        textarea.send_keys(ready)

        elem = dr.find_element_by_class_name('btn_check')
        elem.click()

        time.sleep(1)

        bs = BeautifulSoup(dr.page_source,'html.parser')
        st = bs.select("p._result_text.stand_txt")[0].text
        new_str += st.replace('. ', '.\n')
    time.sleep(3)
    dr.refresh()
    fp = open(file_name + '_refine.txt','w', encoding='utf-8')
    fp.write(new_str)
    fp.close()
    
    # driver 종료
    # dr.quit()
    print("{name}: 완료".format(name=file_name))

