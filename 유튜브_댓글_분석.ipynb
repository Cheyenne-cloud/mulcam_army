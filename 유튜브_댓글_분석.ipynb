{
  "nbformat": 4,
  "nbformat_minor": 0,
  "metadata": {
    "colab": {
      "name": "유튜브_댓글_분석.ipynb",
      "provenance": [],
      "collapsed_sections": [
        "8ToErRAoWnot",
        "rfrodHQfvLFH"
      ],
      "include_colab_link": true
    },
    "kernelspec": {
      "name": "python3",
      "display_name": "Python 3"
    },
    "language_info": {
      "name": "python"
    }
  },
  "cells": [
    {
      "cell_type": "markdown",
      "metadata": {
        "id": "view-in-github",
        "colab_type": "text"
      },
      "source": [
        "<a href=\"https://colab.research.google.com/github/IDF13/mulcam_army/blob/sumin/%EC%9C%A0%ED%8A%9C%EB%B8%8C_%EB%8C%93%EA%B8%80_%EB%B6%84%EC%84%9D.ipynb\" target=\"_parent\"><img src=\"https://colab.research.google.com/assets/colab-badge.svg\" alt=\"Open In Colab\"/></a>"
      ]
    },
    {
      "cell_type": "markdown",
      "metadata": {
        "id": "8ToErRAoWnot"
      },
      "source": [
        "# 텍스트 분석 라이브러리 초기화"
      ]
    },
    {
      "cell_type": "code",
      "metadata": {
        "id": "S4vObRUpWMvJ"
      },
      "source": [
        "import pandas as pd\n",
        "import numpy as np\n",
        "import re\n",
        "import matplotlib.pyplot as plt\n",
        "%matplotlib inline\n",
        "# 시각화 결과가 선명하게 표시\n",
        "%config InlineBackend.figure_fromat = 'retina'\n",
        "# range 대신 처리 시간을 알려주는 라이브러리\n",
        "from tqdm import trange"
      ],
      "execution_count": null,
      "outputs": []
    },
    {
      "cell_type": "markdown",
      "metadata": {
        "id": "rfrodHQfvLFH"
      },
      "source": [
        "# 시각화를 위한 한글폰트 설정"
      ]
    },
    {
      "cell_type": "code",
      "metadata": {
        "id": "inmZf3uPs9VE"
      },
      "source": [
        "# 윈도우 한글폰트 설정\n",
        "plt.rc(\"font\", family='Malgun Gothic')"
      ],
      "execution_count": null,
      "outputs": []
    },
    {
      "cell_type": "markdown",
      "metadata": {
        "id": "wH9GaL_Yva01"
      },
      "source": [
        "# 유튜브 크롤링 파일 로드"
      ]
    },
    {
      "cell_type": "code",
      "metadata": {
        "colab": {
          "base_uri": "https://localhost:8080/"
        },
        "id": "1YjZj4Yaoajx",
        "outputId": "cbaf2eb8-3d3c-4142-ce17-c1b81b373863"
      },
      "source": [
        "path = '/content/drive/MyDrive/[공유] Mulcam_Army 공유폴더!/크롤링 한 자료/youtube/영상별 댓글/이진수/'\n",
        "\n",
        "shinee = 'comments_youtube_SHINee.csv'\n",
        "sf9 = 'comments_youtube_SF9.csv'\n",
        "seventeen = 'comments_youtube_SEVENTEEN.csv'\n",
        "red_velvet = 'comments_youtube_RED VELVET.csv'\n",
        "purple_kiss = 'comments_youtube_PURPLE KISS.csv'\n",
        "pentagon = 'comments_youtube_PENTAGON.csv'\n",
        "park_jihoon = 'comments_youtube_PARK JIHOON.csv'\n",
        "oneus = 'comments_youtube_ONEUS.csv'\n",
        "nuest = \"comments_youtube_NU'EST.csv\"\n",
        "nct = \"comments_youtube_NCT.csv\"\n",
        "\n",
        "df1 = pd.read_csv(path+shinee, encoding='utf-8', header=None)\n",
        "df2 = pd.read_csv(path+sf9, encoding='utf-8', header=None)\n",
        "df3 = pd.read_csv(path+seventeen, encoding='utf-8', header=None)\n",
        "df4 = pd.read_csv(path+red_velvet, encoding='utf-8', header=None)\n",
        "df5 = pd.read_csv(path+purple_kiss, encoding='utf-8', header=None)\n",
        "df6 = pd.read_csv(path+pentagon, encoding='utf-8', header=None)\n",
        "df7 = pd.read_csv(path+park_jihoon, encoding='utf-8', header=None)\n",
        "df8 = pd.read_csv(path+oneus, encoding='utf-8', header=None)\n",
        "df9 = pd.read_csv(path+nuest, encoding='utf-8', header=None)\n",
        "df10 = pd.read_csv(path+nct, encoding='utf-8', header=None)\n",
        "\n",
        "frames = [df1,df2,df3,df4,df5,df6,df7,df8,df9,df10]\n",
        "keys = ['shinee','sf9','seventeen','red_velvet','purple_kiss','pentagon','park_jihoon','oneus','nuest','nct']\n",
        "\n",
        "# df.loc['key_name']으로 데이터 프레임만 따로 뽑아낼 수 있다.\n",
        "# df = pd.concat(frames,keys=keys,ignore_index=True)\n",
        "df = pd.concat(frames, ignore_index=True)\n",
        "df.columns=['comment','like']\n",
        "df"
      ],
      "execution_count": null,
      "outputs": [
        {
          "output_type": "execute_result",
          "data": {
            "text/html": [
              "<div>\n",
              "<style scoped>\n",
              "    .dataframe tbody tr th:only-of-type {\n",
              "        vertical-align: middle;\n",
              "    }\n",
              "\n",
              "    .dataframe tbody tr th {\n",
              "        vertical-align: top;\n",
              "    }\n",
              "\n",
              "    .dataframe thead th {\n",
              "        text-align: right;\n",
              "    }\n",
              "</style>\n",
              "<table border=\"1\" class=\"dataframe\">\n",
              "  <thead>\n",
              "    <tr style=\"text-align: right;\">\n",
              "      <th></th>\n",
              "      <th>comment</th>\n",
              "      <th>like</th>\n",
              "    </tr>\n",
              "  </thead>\n",
              "  <tbody>\n",
              "    <tr>\n",
              "      <th>0</th>\n",
              "      <td>1:17 투피엠, 하이라이트 다같이 부루마블 하던 썰\\r\\r\\n3:17 &lt;누난 너무...</td>\n",
              "      <td>5.7천</td>\n",
              "    </tr>\n",
              "    <tr>\n",
              "      <th>1</th>\n",
              "      <td>험난한 가요계에 재디치의 등장이라니,,, 이거 재밌어지겠는걸?😎\\r\\n09:02 재...</td>\n",
              "      <td>8.6천</td>\n",
              "    </tr>\n",
              "    <tr>\n",
              "      <th>2</th>\n",
              "      <td>ㅋㅋ 샤이니들 은은히 미쳤다는 말이 맞네 ㅋㅋㅋ</td>\n",
              "      <td>3.7천</td>\n",
              "    </tr>\n",
              "    <tr>\n",
              "      <th>3</th>\n",
              "      <td>그나저나 종현이 그냥 오늘 다른 스케쥴 있어서 빠진 거 같아\\r\\n늘 옆에 있는것처...</td>\n",
              "      <td>3천</td>\n",
              "    </tr>\n",
              "    <tr>\n",
              "      <th>4</th>\n",
              "      <td>문특 샤이니편은 진짜 레전드로 재미있음… 이렇게 자주 돌려 보는 영상 처음이야 ㅠ.ㅠ</td>\n",
              "      <td>25</td>\n",
              "    </tr>\n",
              "    <tr>\n",
              "      <th>...</th>\n",
              "      <td>...</td>\n",
              "      <td>...</td>\n",
              "    </tr>\n",
              "    <tr>\n",
              "      <th>35160</th>\n",
              "      <td>Lol</td>\n",
              "      <td>1</td>\n",
              "    </tr>\n",
              "    <tr>\n",
              "      <th>35161</th>\n",
              "      <td>Gerçekten mi ben bunu nasıl fark edemedim</td>\n",
              "      <td>0</td>\n",
              "    </tr>\n",
              "    <tr>\n",
              "      <th>35162</th>\n",
              "      <td>@nani wo!  IWKSIDDKISODLSPSS9DÜS8ADP7EP8SKFIR...</td>\n",
              "      <td>0</td>\n",
              "    </tr>\n",
              "    <tr>\n",
              "      <th>35163</th>\n",
              "      <td>Thanks Sherlock</td>\n",
              "      <td>0</td>\n",
              "    </tr>\n",
              "    <tr>\n",
              "      <th>35164</th>\n",
              "      <td>wbk lol</td>\n",
              "      <td>0</td>\n",
              "    </tr>\n",
              "  </tbody>\n",
              "</table>\n",
              "<p>35165 rows × 2 columns</p>\n",
              "</div>"
            ],
            "text/plain": [
              "                                                 comment  like\n",
              "0      1:17 투피엠, 하이라이트 다같이 부루마블 하던 썰\\r\\r\\n3:17 <누난 너무...  5.7천\n",
              "1      험난한 가요계에 재디치의 등장이라니,,, 이거 재밌어지겠는걸?😎\\r\\n09:02 재...  8.6천\n",
              "2                             ㅋㅋ 샤이니들 은은히 미쳤다는 말이 맞네 ㅋㅋㅋ  3.7천\n",
              "3      그나저나 종현이 그냥 오늘 다른 스케쥴 있어서 빠진 거 같아\\r\\n늘 옆에 있는것처...    3천\n",
              "4        문특 샤이니편은 진짜 레전드로 재미있음… 이렇게 자주 돌려 보는 영상 처음이야 ㅠ.ㅠ    25\n",
              "...                                                  ...   ...\n",
              "35160                                                Lol     1\n",
              "35161          Gerçekten mi ben bunu nasıl fark edemedim     0\n",
              "35162   @nani wo!  IWKSIDDKISODLSPSS9DÜS8ADP7EP8SKFIR...     0\n",
              "35163                                    Thanks Sherlock     0\n",
              "35164                                            wbk lol     0\n",
              "\n",
              "[35165 rows x 2 columns]"
            ]
          },
          "metadata": {},
          "execution_count": 3
        }
      ]
    },
    {
      "cell_type": "markdown",
      "metadata": {
        "id": "nxkmIeN-2Pr3"
      },
      "source": [
        "# 네트워크 오류 등으로 발생한 중복 입력 값 제거\n",
        "- 빈도 수 중복 방지\n",
        "- 대문자 소문자로 바꾸기"
      ]
    },
    {
      "cell_type": "code",
      "metadata": {
        "colab": {
          "base_uri": "https://localhost:8080/"
        },
        "id": "Jpe4y4Ov2V5R",
        "outputId": "9085e1b9-7bd2-435b-d4b5-3c0571c6e9ec"
      },
      "source": [
        "# 중복 값 제거\n",
        "print('중복 제거 전 :',df.shape)\n",
        "df = df.drop_duplicates(['comment'],keep='last',ignore_index=True)\n",
        "print('중복 제거 후 :',df.shape)"
      ],
      "execution_count": null,
      "outputs": [
        {
          "output_type": "stream",
          "name": "stdout",
          "text": [
            "중복 제거 전 : (35165, 2)\n",
            "중복 제거 후 : (31610, 2)\n"
          ]
        }
      ]
    },
    {
      "cell_type": "code",
      "metadata": {
        "colab": {
          "base_uri": "https://localhost:8080/",
          "height": 419
        },
        "id": "eVSVdivExudN",
        "outputId": "ba927bc5-ad8b-472c-ca0e-93518273f608"
      },
      "source": [
        "# 제거 값 = NaN -> null 값으로 변환 및 행 제거\n",
        "# df.to_csv('confern.csv',encoding='utf-8-sig')\n",
        "df"
      ],
      "execution_count": null,
      "outputs": [
        {
          "output_type": "execute_result",
          "data": {
            "text/html": [
              "<div>\n",
              "<style scoped>\n",
              "    .dataframe tbody tr th:only-of-type {\n",
              "        vertical-align: middle;\n",
              "    }\n",
              "\n",
              "    .dataframe tbody tr th {\n",
              "        vertical-align: top;\n",
              "    }\n",
              "\n",
              "    .dataframe thead th {\n",
              "        text-align: right;\n",
              "    }\n",
              "</style>\n",
              "<table border=\"1\" class=\"dataframe\">\n",
              "  <thead>\n",
              "    <tr style=\"text-align: right;\">\n",
              "      <th></th>\n",
              "      <th>comment</th>\n",
              "      <th>like</th>\n",
              "    </tr>\n",
              "  </thead>\n",
              "  <tbody>\n",
              "    <tr>\n",
              "      <th>0</th>\n",
              "      <td>1:17 투피엠, 하이라이트 다같이 부루마블 하던 썰\\r\\r\\n3:17 &lt;누난 너무...</td>\n",
              "      <td>5.7천</td>\n",
              "    </tr>\n",
              "    <tr>\n",
              "      <th>1</th>\n",
              "      <td>험난한 가요계에 재디치의 등장이라니,,, 이거 재밌어지겠는걸?😎\\r\\n09:02 재...</td>\n",
              "      <td>8.6천</td>\n",
              "    </tr>\n",
              "    <tr>\n",
              "      <th>2</th>\n",
              "      <td>ㅋㅋ 샤이니들 은은히 미쳤다는 말이 맞네 ㅋㅋㅋ</td>\n",
              "      <td>3.7천</td>\n",
              "    </tr>\n",
              "    <tr>\n",
              "      <th>3</th>\n",
              "      <td>그나저나 종현이 그냥 오늘 다른 스케쥴 있어서 빠진 거 같아\\r\\n늘 옆에 있는것처...</td>\n",
              "      <td>3천</td>\n",
              "    </tr>\n",
              "    <tr>\n",
              "      <th>4</th>\n",
              "      <td>문특 샤이니편은 진짜 레전드로 재미있음… 이렇게 자주 돌려 보는 영상 처음이야 ㅠ.ㅠ</td>\n",
              "      <td>25</td>\n",
              "    </tr>\n",
              "    <tr>\n",
              "      <th>...</th>\n",
              "      <td>...</td>\n",
              "      <td>...</td>\n",
              "    </tr>\n",
              "    <tr>\n",
              "      <th>31605</th>\n",
              "      <td>Lol</td>\n",
              "      <td>1</td>\n",
              "    </tr>\n",
              "    <tr>\n",
              "      <th>31606</th>\n",
              "      <td>Gerçekten mi ben bunu nasıl fark edemedim</td>\n",
              "      <td>0</td>\n",
              "    </tr>\n",
              "    <tr>\n",
              "      <th>31607</th>\n",
              "      <td>@nani wo!  IWKSIDDKISODLSPSS9DÜS8ADP7EP8SKFIR...</td>\n",
              "      <td>0</td>\n",
              "    </tr>\n",
              "    <tr>\n",
              "      <th>31608</th>\n",
              "      <td>Thanks Sherlock</td>\n",
              "      <td>0</td>\n",
              "    </tr>\n",
              "    <tr>\n",
              "      <th>31609</th>\n",
              "      <td>wbk lol</td>\n",
              "      <td>0</td>\n",
              "    </tr>\n",
              "  </tbody>\n",
              "</table>\n",
              "<p>31610 rows × 2 columns</p>\n",
              "</div>"
            ],
            "text/plain": [
              "                                                 comment  like\n",
              "0      1:17 투피엠, 하이라이트 다같이 부루마블 하던 썰\\r\\r\\n3:17 <누난 너무...  5.7천\n",
              "1      험난한 가요계에 재디치의 등장이라니,,, 이거 재밌어지겠는걸?😎\\r\\n09:02 재...  8.6천\n",
              "2                             ㅋㅋ 샤이니들 은은히 미쳤다는 말이 맞네 ㅋㅋㅋ  3.7천\n",
              "3      그나저나 종현이 그냥 오늘 다른 스케쥴 있어서 빠진 거 같아\\r\\n늘 옆에 있는것처...    3천\n",
              "4        문특 샤이니편은 진짜 레전드로 재미있음… 이렇게 자주 돌려 보는 영상 처음이야 ㅠ.ㅠ    25\n",
              "...                                                  ...   ...\n",
              "31605                                                Lol     1\n",
              "31606          Gerçekten mi ben bunu nasıl fark edemedim     0\n",
              "31607   @nani wo!  IWKSIDDKISODLSPSS9DÜS8ADP7EP8SKFIR...     0\n",
              "31608                                    Thanks Sherlock     0\n",
              "31609                                            wbk lol     0\n",
              "\n",
              "[31610 rows x 2 columns]"
            ]
          },
          "metadata": {},
          "execution_count": 5
        }
      ]
    },
    {
      "cell_type": "code",
      "metadata": {
        "id": "mfH3lfjo28Zn"
      },
      "source": [
        "# 소문자로 바꾸기 보류\n",
        "#comment_result['comment'] = comment_result['comment'].str.lower()\n",
        "# copy_data.to_csv('concat_txt.csv',encoding='utf-8-sig')\n",
        "#comment_result['comment']"
      ],
      "execution_count": null,
      "outputs": []
    },
    {
      "cell_type": "markdown",
      "metadata": {
        "id": "LOG32SXU-bj1"
      },
      "source": [
        "# 언어 정제"
      ]
    },
    {
      "cell_type": "code",
      "metadata": {
        "colab": {
          "base_uri": "https://localhost:8080/"
        },
        "id": "6Sw8TsgfP94r",
        "outputId": "29c05d7b-8040-46a9-83ab-a18ce00ea634"
      },
      "source": [
        "# 전처리 전 원본 보존\n",
        "import copy\n",
        "copy_data = copy.deepcopy(df)\n",
        "copy_data.info()"
      ],
      "execution_count": null,
      "outputs": [
        {
          "output_type": "stream",
          "name": "stdout",
          "text": [
            "<class 'pandas.core.frame.DataFrame'>\n",
            "RangeIndex: 31610 entries, 0 to 31609\n",
            "Data columns (total 2 columns):\n",
            " #   Column   Non-Null Count  Dtype \n",
            "---  ------   --------------  ----- \n",
            " 0   comment  31610 non-null  object\n",
            " 1   like     31610 non-null  object\n",
            "dtypes: object(2)\n",
            "memory usage: 494.0+ KB\n"
          ]
        }
      ]
    },
    {
      "cell_type": "code",
      "metadata": {
        "id": "Kxez9TFDVTYp"
      },
      "source": [
        "emoji_pattern = re.compile(\"[\"\n",
        "        u\"\\U0001F600-\\U0001F64F\"  # emoticons\n",
        "        u\"\\U0001F300-\\U0001F5FF\"  # symbols & pictographs\n",
        "        u\"\\U0001F680-\\U0001F6FF\"  # transport & map symbols\n",
        "        u\"\\U0001F1E0-\\U0001F1FF\"  # flags (iOS)\n",
        "                           \"]+\", flags=re.UNICODE)\n",
        "\n",
        "#분석에 어긋나는 불용어구 제외 (특수문자, 의성어)\n",
        "han = re.compile(r'[ㄱ-ㅎㅏ-ㅣ!?~,\".\\n\\r#\\ufeff\\u200d]')"
      ],
      "execution_count": null,
      "outputs": []
    },
    {
      "cell_type": "code",
      "metadata": {
        "colab": {
          "base_uri": "https://localhost:8080/"
        },
        "id": "53hkWVCvVdER",
        "outputId": "a0652073-1998-449c-8524-b3043d8fbd4a"
      },
      "source": [
        "comment_list = []\n",
        "for i in trange(len(copy_data['comment'])):\n",
        "  comment_list.append(copy_data.comment.iloc[i])"
      ],
      "execution_count": null,
      "outputs": [
        {
          "output_type": "stream",
          "name": "stderr",
          "text": [
            "100%|██████████| 31610/31610 [00:00<00:00, 62891.68it/s]\n"
          ]
        }
      ]
    },
    {
      "cell_type": "code",
      "metadata": {
        "id": "FHzd7O3PWG1B"
      },
      "source": [
        "comment_result = []\n",
        "\n",
        "for i in comment_list:\n",
        "    tokens = re.sub(emoji_pattern,\"\",i)\n",
        "    tokens = re.sub(han,\"\",tokens)\n",
        "    comment_result.append(tokens)\n",
        "\n",
        "comment_result = pd.DataFrame(comment_result, columns=[\"comment\"])"
      ],
      "execution_count": null,
      "outputs": []
    },
    {
      "cell_type": "code",
      "metadata": {
        "colab": {
          "base_uri": "https://localhost:8080/",
          "height": 419
        },
        "id": "PJXfTHrRWuDQ",
        "outputId": "6a75d82f-6b65-41d0-dfbf-deb0eedbfd7e"
      },
      "source": [
        "comment_result"
      ],
      "execution_count": null,
      "outputs": [
        {
          "output_type": "execute_result",
          "data": {
            "text/html": [
              "<div>\n",
              "<style scoped>\n",
              "    .dataframe tbody tr th:only-of-type {\n",
              "        vertical-align: middle;\n",
              "    }\n",
              "\n",
              "    .dataframe tbody tr th {\n",
              "        vertical-align: top;\n",
              "    }\n",
              "\n",
              "    .dataframe thead th {\n",
              "        text-align: right;\n",
              "    }\n",
              "</style>\n",
              "<table border=\"1\" class=\"dataframe\">\n",
              "  <thead>\n",
              "    <tr style=\"text-align: right;\">\n",
              "      <th></th>\n",
              "      <th>comment</th>\n",
              "    </tr>\n",
              "  </thead>\n",
              "  <tbody>\n",
              "    <tr>\n",
              "      <th>0</th>\n",
              "      <td>1:17 투피엠 하이라이트 다같이 부루마블 하던 썰3:17 &lt;누난 너무 예뻐&gt;의 그...</td>\n",
              "    </tr>\n",
              "    <tr>\n",
              "      <th>1</th>\n",
              "      <td>험난한 가요계에 재디치의 등장이라니 이거 재밌어지겠는걸09:02 재디치 당신을 명예...</td>\n",
              "    </tr>\n",
              "    <tr>\n",
              "      <th>2</th>\n",
              "      <td>샤이니들 은은히 미쳤다는 말이 맞네</td>\n",
              "    </tr>\n",
              "    <tr>\n",
              "      <th>3</th>\n",
              "      <td>그나저나 종현이 그냥 오늘 다른 스케쥴 있어서 빠진 거 같아늘 옆에 있는것처럼 아무...</td>\n",
              "    </tr>\n",
              "    <tr>\n",
              "      <th>4</th>\n",
              "      <td>문특 샤이니편은 진짜 레전드로 재미있음… 이렇게 자주 돌려 보는 영상 처음이야</td>\n",
              "    </tr>\n",
              "    <tr>\n",
              "      <th>...</th>\n",
              "      <td>...</td>\n",
              "    </tr>\n",
              "    <tr>\n",
              "      <th>31605</th>\n",
              "      <td>Lol</td>\n",
              "    </tr>\n",
              "    <tr>\n",
              "      <th>31606</th>\n",
              "      <td>Gerçekten mi ben bunu nasıl fark edemedim</td>\n",
              "    </tr>\n",
              "    <tr>\n",
              "      <th>31607</th>\n",
              "      <td>@nani wo  IWKSIDDKISODLSPSS9DÜS8ADP7EP8SKFIRO...</td>\n",
              "    </tr>\n",
              "    <tr>\n",
              "      <th>31608</th>\n",
              "      <td>Thanks Sherlock</td>\n",
              "    </tr>\n",
              "    <tr>\n",
              "      <th>31609</th>\n",
              "      <td>wbk lol</td>\n",
              "    </tr>\n",
              "  </tbody>\n",
              "</table>\n",
              "<p>31610 rows × 1 columns</p>\n",
              "</div>"
            ],
            "text/plain": [
              "                                                 comment\n",
              "0      1:17 투피엠 하이라이트 다같이 부루마블 하던 썰3:17 <누난 너무 예뻐>의 그...\n",
              "1      험난한 가요계에 재디치의 등장이라니 이거 재밌어지겠는걸09:02 재디치 당신을 명예...\n",
              "2                                   샤이니들 은은히 미쳤다는 말이 맞네 \n",
              "3      그나저나 종현이 그냥 오늘 다른 스케쥴 있어서 빠진 거 같아늘 옆에 있는것처럼 아무...\n",
              "4           문특 샤이니편은 진짜 레전드로 재미있음… 이렇게 자주 돌려 보는 영상 처음이야 \n",
              "...                                                  ...\n",
              "31605                                                Lol\n",
              "31606          Gerçekten mi ben bunu nasıl fark edemedim\n",
              "31607   @nani wo  IWKSIDDKISODLSPSS9DÜS8ADP7EP8SKFIRO...\n",
              "31608                                    Thanks Sherlock\n",
              "31609                                            wbk lol\n",
              "\n",
              "[31610 rows x 1 columns]"
            ]
          },
          "metadata": {},
          "execution_count": 10
        }
      ]
    },
    {
      "cell_type": "markdown",
      "metadata": {
        "id": "w2LuMhUVxVQt"
      },
      "source": [
        "# 언어별 분류 작업\n",
        "- 정확도가 높은 fasttext 모듈로 분류"
      ]
    },
    {
      "cell_type": "code",
      "metadata": {
        "colab": {
          "base_uri": "https://localhost:8080/"
        },
        "id": "fs0c1dP1PtzW",
        "outputId": "cea9ab7f-61b2-4914-ca3e-47b01e94b370"
      },
      "source": [
        "!pip install fasttext"
      ],
      "execution_count": null,
      "outputs": [
        {
          "output_type": "stream",
          "name": "stdout",
          "text": [
            "Collecting fasttext\n",
            "  Downloading fasttext-0.9.2.tar.gz (68 kB)\n",
            "\u001b[?25l\r\u001b[K     |████▊                           | 10 kB 27.8 MB/s eta 0:00:01\r\u001b[K     |█████████▌                      | 20 kB 31.8 MB/s eta 0:00:01\r\u001b[K     |██████████████▎                 | 30 kB 11.8 MB/s eta 0:00:01\r\u001b[K     |███████████████████             | 40 kB 9.3 MB/s eta 0:00:01\r\u001b[K     |███████████████████████▉        | 51 kB 5.1 MB/s eta 0:00:01\r\u001b[K     |████████████████████████████▋   | 61 kB 5.7 MB/s eta 0:00:01\r\u001b[K     |████████████████████████████████| 68 kB 3.1 MB/s \n",
            "\u001b[?25hCollecting pybind11>=2.2\n",
            "  Using cached pybind11-2.7.1-py2.py3-none-any.whl (200 kB)\n",
            "Requirement already satisfied: setuptools>=0.7.0 in /usr/local/lib/python3.7/dist-packages (from fasttext) (57.4.0)\n",
            "Requirement already satisfied: numpy in /usr/local/lib/python3.7/dist-packages (from fasttext) (1.19.5)\n",
            "Building wheels for collected packages: fasttext\n",
            "  Building wheel for fasttext (setup.py) ... \u001b[?25l\u001b[?25hdone\n",
            "  Created wheel for fasttext: filename=fasttext-0.9.2-cp37-cp37m-linux_x86_64.whl size=3094268 sha256=109d26b667925720c0047954c8fd38f19d645dc168cca4c8e694d3ba4dcaa93b\n",
            "  Stored in directory: /root/.cache/pip/wheels/4e/ca/bf/b020d2be95f7641801a6597a29c8f4f19e38f9c02a345bab9b\n",
            "Successfully built fasttext\n",
            "Installing collected packages: pybind11, fasttext\n",
            "Successfully installed fasttext-0.9.2 pybind11-2.7.1\n"
          ]
        }
      ]
    },
    {
      "cell_type": "code",
      "metadata": {
        "colab": {
          "base_uri": "https://localhost:8080/"
        },
        "id": "hDcqTQD1Y8gJ",
        "outputId": "d02cf47d-9f6c-4699-d8b9-50234b33ce23"
      },
      "source": [
        "import fasttext\n",
        "model = fasttext.load_model('/content/drive/MyDrive/ML Deep/자연어처리/lid.176.ftz')\n",
        "\n",
        "predict = []\n",
        "for t in comment_result.comment:\n",
        "  predict.append(model.predict(t,k=1))\n"
      ],
      "execution_count": null,
      "outputs": [
        {
          "output_type": "stream",
          "name": "stderr",
          "text": [
            "Warning : `load_model` does not return WordVectorModel or SupervisedModel any more, but a `FastText` object which is very similar.\n"
          ]
        }
      ]
    },
    {
      "cell_type": "code",
      "metadata": {
        "colab": {
          "base_uri": "https://localhost:8080/",
          "height": 419
        },
        "id": "xIhyXVzPaxYw",
        "outputId": "529e6dc6-b67f-46c4-b0af-9952b3a22c00"
      },
      "source": [
        "ty = pd.DataFrame(predict)\n",
        "\n",
        "comment = []\n",
        "for num, txt in enumerate(ty[0]):\n",
        "  #print(txt)\n",
        "  #if num == 30:\n",
        "   # break\n",
        "  \n",
        "  txt = str(txt)\n",
        "\n",
        "  if txt == \"('__label__ko',)\":\n",
        "    b = re.sub(txt,\"ko\",txt)\n",
        "    comment.append(b)\n",
        "  elif txt == \"('__label__en',)\":\n",
        "    b = re.sub(txt,\"en\",txt)\n",
        "    comment.append(b)\n",
        "  elif txt == \"('__label__id',)\":\n",
        "    b = re.sub(txt,\"id\",txt)\n",
        "    comment.append(b)\n",
        "  else:\n",
        "    b = re.sub(txt,\"etc\",txt)\n",
        "    comment.append(b)\n",
        "\n",
        "\n",
        "comment[:10]\n",
        "comment = pd.DataFrame(comment)\n",
        "comment"
      ],
      "execution_count": null,
      "outputs": [
        {
          "output_type": "execute_result",
          "data": {
            "text/html": [
              "<div>\n",
              "<style scoped>\n",
              "    .dataframe tbody tr th:only-of-type {\n",
              "        vertical-align: middle;\n",
              "    }\n",
              "\n",
              "    .dataframe tbody tr th {\n",
              "        vertical-align: top;\n",
              "    }\n",
              "\n",
              "    .dataframe thead th {\n",
              "        text-align: right;\n",
              "    }\n",
              "</style>\n",
              "<table border=\"1\" class=\"dataframe\">\n",
              "  <thead>\n",
              "    <tr style=\"text-align: right;\">\n",
              "      <th></th>\n",
              "      <th>0</th>\n",
              "    </tr>\n",
              "  </thead>\n",
              "  <tbody>\n",
              "    <tr>\n",
              "      <th>0</th>\n",
              "      <td>(ko)</td>\n",
              "    </tr>\n",
              "    <tr>\n",
              "      <th>1</th>\n",
              "      <td>(ko)</td>\n",
              "    </tr>\n",
              "    <tr>\n",
              "      <th>2</th>\n",
              "      <td>(ko)</td>\n",
              "    </tr>\n",
              "    <tr>\n",
              "      <th>3</th>\n",
              "      <td>(ko)</td>\n",
              "    </tr>\n",
              "    <tr>\n",
              "      <th>4</th>\n",
              "      <td>(ko)</td>\n",
              "    </tr>\n",
              "    <tr>\n",
              "      <th>...</th>\n",
              "      <td>...</td>\n",
              "    </tr>\n",
              "    <tr>\n",
              "      <th>31605</th>\n",
              "      <td>(en)</td>\n",
              "    </tr>\n",
              "    <tr>\n",
              "      <th>31606</th>\n",
              "      <td>(etc)</td>\n",
              "    </tr>\n",
              "    <tr>\n",
              "      <th>31607</th>\n",
              "      <td>(etc)</td>\n",
              "    </tr>\n",
              "    <tr>\n",
              "      <th>31608</th>\n",
              "      <td>(en)</td>\n",
              "    </tr>\n",
              "    <tr>\n",
              "      <th>31609</th>\n",
              "      <td>(etc)</td>\n",
              "    </tr>\n",
              "  </tbody>\n",
              "</table>\n",
              "<p>31610 rows × 1 columns</p>\n",
              "</div>"
            ],
            "text/plain": [
              "           0\n",
              "0       (ko)\n",
              "1       (ko)\n",
              "2       (ko)\n",
              "3       (ko)\n",
              "4       (ko)\n",
              "...      ...\n",
              "31605   (en)\n",
              "31606  (etc)\n",
              "31607  (etc)\n",
              "31608   (en)\n",
              "31609  (etc)\n",
              "\n",
              "[31610 rows x 1 columns]"
            ]
          },
          "metadata": {},
          "execution_count": 13
        }
      ]
    },
    {
      "cell_type": "code",
      "metadata": {
        "id": "Yf9VJy4Cd_HP"
      },
      "source": [
        "like = pd.DataFrame(copy_data['like'])\n",
        "data = pd.concat([comment_result,like, comment],axis=1)"
      ],
      "execution_count": null,
      "outputs": []
    },
    {
      "cell_type": "code",
      "metadata": {
        "colab": {
          "base_uri": "https://localhost:8080/",
          "height": 419
        },
        "id": "3j7Ldj2-i6wM",
        "outputId": "adf12b06-a30c-4f42-c376-8444feae0209"
      },
      "source": [
        "data.columns = ['comment','like','lang']\n",
        "data"
      ],
      "execution_count": null,
      "outputs": [
        {
          "output_type": "execute_result",
          "data": {
            "text/html": [
              "<div>\n",
              "<style scoped>\n",
              "    .dataframe tbody tr th:only-of-type {\n",
              "        vertical-align: middle;\n",
              "    }\n",
              "\n",
              "    .dataframe tbody tr th {\n",
              "        vertical-align: top;\n",
              "    }\n",
              "\n",
              "    .dataframe thead th {\n",
              "        text-align: right;\n",
              "    }\n",
              "</style>\n",
              "<table border=\"1\" class=\"dataframe\">\n",
              "  <thead>\n",
              "    <tr style=\"text-align: right;\">\n",
              "      <th></th>\n",
              "      <th>comment</th>\n",
              "      <th>like</th>\n",
              "      <th>lang</th>\n",
              "    </tr>\n",
              "  </thead>\n",
              "  <tbody>\n",
              "    <tr>\n",
              "      <th>0</th>\n",
              "      <td>1:17 투피엠 하이라이트 다같이 부루마블 하던 썰3:17 &lt;누난 너무 예뻐&gt;의 그...</td>\n",
              "      <td>5.7천</td>\n",
              "      <td>(ko)</td>\n",
              "    </tr>\n",
              "    <tr>\n",
              "      <th>1</th>\n",
              "      <td>험난한 가요계에 재디치의 등장이라니 이거 재밌어지겠는걸09:02 재디치 당신을 명예...</td>\n",
              "      <td>8.6천</td>\n",
              "      <td>(ko)</td>\n",
              "    </tr>\n",
              "    <tr>\n",
              "      <th>2</th>\n",
              "      <td>샤이니들 은은히 미쳤다는 말이 맞네</td>\n",
              "      <td>3.7천</td>\n",
              "      <td>(ko)</td>\n",
              "    </tr>\n",
              "    <tr>\n",
              "      <th>3</th>\n",
              "      <td>그나저나 종현이 그냥 오늘 다른 스케쥴 있어서 빠진 거 같아늘 옆에 있는것처럼 아무...</td>\n",
              "      <td>3천</td>\n",
              "      <td>(ko)</td>\n",
              "    </tr>\n",
              "    <tr>\n",
              "      <th>4</th>\n",
              "      <td>문특 샤이니편은 진짜 레전드로 재미있음… 이렇게 자주 돌려 보는 영상 처음이야</td>\n",
              "      <td>25</td>\n",
              "      <td>(ko)</td>\n",
              "    </tr>\n",
              "    <tr>\n",
              "      <th>...</th>\n",
              "      <td>...</td>\n",
              "      <td>...</td>\n",
              "      <td>...</td>\n",
              "    </tr>\n",
              "    <tr>\n",
              "      <th>31605</th>\n",
              "      <td>Lol</td>\n",
              "      <td>1</td>\n",
              "      <td>(en)</td>\n",
              "    </tr>\n",
              "    <tr>\n",
              "      <th>31606</th>\n",
              "      <td>Gerçekten mi ben bunu nasıl fark edemedim</td>\n",
              "      <td>0</td>\n",
              "      <td>(etc)</td>\n",
              "    </tr>\n",
              "    <tr>\n",
              "      <th>31607</th>\n",
              "      <td>@nani wo  IWKSIDDKISODLSPSS9DÜS8ADP7EP8SKFIRO...</td>\n",
              "      <td>0</td>\n",
              "      <td>(etc)</td>\n",
              "    </tr>\n",
              "    <tr>\n",
              "      <th>31608</th>\n",
              "      <td>Thanks Sherlock</td>\n",
              "      <td>0</td>\n",
              "      <td>(en)</td>\n",
              "    </tr>\n",
              "    <tr>\n",
              "      <th>31609</th>\n",
              "      <td>wbk lol</td>\n",
              "      <td>0</td>\n",
              "      <td>(etc)</td>\n",
              "    </tr>\n",
              "  </tbody>\n",
              "</table>\n",
              "<p>31610 rows × 3 columns</p>\n",
              "</div>"
            ],
            "text/plain": [
              "                                                 comment  like   lang\n",
              "0      1:17 투피엠 하이라이트 다같이 부루마블 하던 썰3:17 <누난 너무 예뻐>의 그...  5.7천   (ko)\n",
              "1      험난한 가요계에 재디치의 등장이라니 이거 재밌어지겠는걸09:02 재디치 당신을 명예...  8.6천   (ko)\n",
              "2                                   샤이니들 은은히 미쳤다는 말이 맞네   3.7천   (ko)\n",
              "3      그나저나 종현이 그냥 오늘 다른 스케쥴 있어서 빠진 거 같아늘 옆에 있는것처럼 아무...    3천   (ko)\n",
              "4           문특 샤이니편은 진짜 레전드로 재미있음… 이렇게 자주 돌려 보는 영상 처음이야     25   (ko)\n",
              "...                                                  ...   ...    ...\n",
              "31605                                                Lol     1   (en)\n",
              "31606          Gerçekten mi ben bunu nasıl fark edemedim     0  (etc)\n",
              "31607   @nani wo  IWKSIDDKISODLSPSS9DÜS8ADP7EP8SKFIRO...     0  (etc)\n",
              "31608                                    Thanks Sherlock     0   (en)\n",
              "31609                                            wbk lol     0  (etc)\n",
              "\n",
              "[31610 rows x 3 columns]"
            ]
          },
          "metadata": {},
          "execution_count": 15
        }
      ]
    },
    {
      "cell_type": "code",
      "metadata": {
        "id": "4yMpc0NOlZnz"
      },
      "source": [
        "data_ko = pd.DataFrame([kor[:1] for kor in data.values if kor[2] == '(ko)'], columns=['comment'])\n",
        "data_en = pd.DataFrame([en[:1] for en in data.values if en[2] == '(en)'], columns=['comment'])\n"
      ],
      "execution_count": null,
      "outputs": []
    },
    {
      "cell_type": "code",
      "metadata": {
        "colab": {
          "base_uri": "https://localhost:8080/",
          "height": 419
        },
        "id": "5-X8UEvzFM37",
        "outputId": "2a96d26d-b6e0-42e4-a69e-51b4b9a3b585"
      },
      "source": [
        "data_ko"
      ],
      "execution_count": null,
      "outputs": [
        {
          "output_type": "execute_result",
          "data": {
            "text/html": [
              "<div>\n",
              "<style scoped>\n",
              "    .dataframe tbody tr th:only-of-type {\n",
              "        vertical-align: middle;\n",
              "    }\n",
              "\n",
              "    .dataframe tbody tr th {\n",
              "        vertical-align: top;\n",
              "    }\n",
              "\n",
              "    .dataframe thead th {\n",
              "        text-align: right;\n",
              "    }\n",
              "</style>\n",
              "<table border=\"1\" class=\"dataframe\">\n",
              "  <thead>\n",
              "    <tr style=\"text-align: right;\">\n",
              "      <th></th>\n",
              "      <th>comment</th>\n",
              "    </tr>\n",
              "  </thead>\n",
              "  <tbody>\n",
              "    <tr>\n",
              "      <th>0</th>\n",
              "      <td>1:17 투피엠 하이라이트 다같이 부루마블 하던 썰3:17 &lt;누난 너무 예뻐&gt;의 그...</td>\n",
              "    </tr>\n",
              "    <tr>\n",
              "      <th>1</th>\n",
              "      <td>험난한 가요계에 재디치의 등장이라니 이거 재밌어지겠는걸09:02 재디치 당신을 명예...</td>\n",
              "    </tr>\n",
              "    <tr>\n",
              "      <th>2</th>\n",
              "      <td>샤이니들 은은히 미쳤다는 말이 맞네</td>\n",
              "    </tr>\n",
              "    <tr>\n",
              "      <th>3</th>\n",
              "      <td>그나저나 종현이 그냥 오늘 다른 스케쥴 있어서 빠진 거 같아늘 옆에 있는것처럼 아무...</td>\n",
              "    </tr>\n",
              "    <tr>\n",
              "      <th>4</th>\n",
              "      <td>문특 샤이니편은 진짜 레전드로 재미있음… 이렇게 자주 돌려 보는 영상 처음이야</td>\n",
              "    </tr>\n",
              "    <tr>\n",
              "      <th>...</th>\n",
              "      <td>...</td>\n",
              "    </tr>\n",
              "    <tr>\n",
              "      <th>4539</th>\n",
              "      <td>1gvu</td>\n",
              "    </tr>\n",
              "    <tr>\n",
              "      <th>4540</th>\n",
              "      <td>The lyrics of this song wrap around my head이 노...</td>\n",
              "    </tr>\n",
              "    <tr>\n",
              "      <th>4541</th>\n",
              "      <td>이거거등</td>\n",
              "    </tr>\n",
              "    <tr>\n",
              "      <th>4542</th>\n",
              "      <td>Semangat str3aming guys</td>\n",
              "    </tr>\n",
              "    <tr>\n",
              "      <th>4543</th>\n",
              "      <td>Semangat str3aming nya guysssss</td>\n",
              "    </tr>\n",
              "  </tbody>\n",
              "</table>\n",
              "<p>4544 rows × 1 columns</p>\n",
              "</div>"
            ],
            "text/plain": [
              "                                                comment\n",
              "0     1:17 투피엠 하이라이트 다같이 부루마블 하던 썰3:17 <누난 너무 예뻐>의 그...\n",
              "1     험난한 가요계에 재디치의 등장이라니 이거 재밌어지겠는걸09:02 재디치 당신을 명예...\n",
              "2                                  샤이니들 은은히 미쳤다는 말이 맞네 \n",
              "3     그나저나 종현이 그냥 오늘 다른 스케쥴 있어서 빠진 거 같아늘 옆에 있는것처럼 아무...\n",
              "4          문특 샤이니편은 진짜 레전드로 재미있음… 이렇게 자주 돌려 보는 영상 처음이야 \n",
              "...                                                 ...\n",
              "4539                                               1gvu\n",
              "4540  The lyrics of this song wrap around my head이 노...\n",
              "4541                                               이거거등\n",
              "4542                            Semangat str3aming guys\n",
              "4543                    Semangat str3aming nya guysssss\n",
              "\n",
              "[4544 rows x 1 columns]"
            ]
          },
          "metadata": {},
          "execution_count": 17
        }
      ]
    },
    {
      "cell_type": "code",
      "metadata": {
        "colab": {
          "base_uri": "https://localhost:8080/"
        },
        "id": "11vY726LIi56",
        "outputId": "05f8401d-5399-4b92-87c2-ded144a06d5f"
      },
      "source": [
        "#!proper installation of python3\n",
        "#!proper installation of pip\n",
        "\n",
        "#!pip install tensorflow\n",
        "#!pip install keras\n",
        "!!pip install git+https://github.com/ssut/py-hanspell.git\n"
      ],
      "execution_count": null,
      "outputs": [
        {
          "output_type": "execute_result",
          "data": {
            "text/plain": [
              "['Collecting git+https://github.com/ssut/py-hanspell.git',\n",
              " '  Cloning https://github.com/ssut/py-hanspell.git to /tmp/pip-req-build-bz0enler',\n",
              " '  Running command git clone -q https://github.com/ssut/py-hanspell.git /tmp/pip-req-build-bz0enler',\n",
              " 'Requirement already satisfied: requests in /usr/local/lib/python3.7/dist-packages (from py-hanspell==1.1) (2.23.0)',\n",
              " 'Requirement already satisfied: chardet<4,>=3.0.2 in /usr/local/lib/python3.7/dist-packages (from requests->py-hanspell==1.1) (3.0.4)',\n",
              " 'Requirement already satisfied: idna<3,>=2.5 in /usr/local/lib/python3.7/dist-packages (from requests->py-hanspell==1.1) (2.10)',\n",
              " 'Requirement already satisfied: urllib3!=1.25.0,!=1.25.1,<1.26,>=1.21.1 in /usr/local/lib/python3.7/dist-packages (from requests->py-hanspell==1.1) (1.24.3)',\n",
              " 'Requirement already satisfied: certifi>=2017.4.17 in /usr/local/lib/python3.7/dist-packages (from requests->py-hanspell==1.1) (2021.5.30)']"
            ]
          },
          "metadata": {},
          "execution_count": 19
        }
      ]
    },
    {
      "cell_type": "code",
      "metadata": {
        "colab": {
          "base_uri": "https://localhost:8080/",
          "height": 53
        },
        "id": "J63l-fQuKpwp",
        "outputId": "7423853e-19cc-4cb5-af21-0e262be8b833"
      },
      "source": [
        "# 스펠링 및 띄어쓰기 검사 --> 보류\n",
        "'''from hanspell import spell_checker\n",
        "\n",
        "# spelled_sent = [spell_checker.check(sent) for sent in data_ko.comment]\n",
        "sent = data_ko.comment[1]\n",
        "spelled_sent = spell_checker.check(sent)'''"
      ],
      "execution_count": null,
      "outputs": [
        {
          "output_type": "execute_result",
          "data": {
            "application/vnd.google.colaboratory.intrinsic+json": {
              "type": "string"
            },
            "text/plain": [
              "'from hanspell import spell_checker\\n\\n# spelled_sent = [spell_checker.check(sent) for sent in data_ko.comment]\\nsent = data_ko.comment[1]\\nspelled_sent = spell_checker.check(sent)'"
            ]
          },
          "metadata": {},
          "execution_count": 20
        }
      ]
    },
    {
      "cell_type": "code",
      "metadata": {
        "id": "OmJzEW6xTzc9"
      },
      "source": [
        "# 숫자제거 / 밑줄 제외한 특수문자 제거\n",
        "p = re.compile(\"[0-9]+\")\n",
        "q = re.compile(\"\\W+\")\n",
        "\n",
        "kr = []\n",
        "kr_text = data_ko.comment\n",
        "for i in kr_text:\n",
        "  tokens = re.sub(p,\" \",i)\n",
        "  tokens = re.sub(q,\" \",tokens)\n",
        "  kr.append(tokens)\n",
        "\n",
        "data_ko_refine = pd.DataFrame(kr, columns=['comment'])"
      ],
      "execution_count": null,
      "outputs": []
    },
    {
      "cell_type": "code",
      "metadata": {
        "colab": {
          "base_uri": "https://localhost:8080/"
        },
        "id": "O62PyzogLLR6",
        "outputId": "ff048396-e539-4934-ca45-23a78600fccf"
      },
      "source": [
        "!pip install soynlp"
      ],
      "execution_count": null,
      "outputs": [
        {
          "output_type": "stream",
          "name": "stdout",
          "text": [
            "Collecting soynlp\n",
            "  Downloading soynlp-0.0.493-py3-none-any.whl (416 kB)\n",
            "\u001b[?25l\r\u001b[K     |▉                               | 10 kB 24.8 MB/s eta 0:00:01\r\u001b[K     |█▋                              | 20 kB 31.2 MB/s eta 0:00:01\r\u001b[K     |██▍                             | 30 kB 32.5 MB/s eta 0:00:01\r\u001b[K     |███▏                            | 40 kB 15.5 MB/s eta 0:00:01\r\u001b[K     |████                            | 51 kB 6.0 MB/s eta 0:00:01\r\u001b[K     |████▊                           | 61 kB 6.3 MB/s eta 0:00:01\r\u001b[K     |█████▌                          | 71 kB 5.3 MB/s eta 0:00:01\r\u001b[K     |██████▎                         | 81 kB 6.0 MB/s eta 0:00:01\r\u001b[K     |███████                         | 92 kB 6.0 MB/s eta 0:00:01\r\u001b[K     |███████▉                        | 102 kB 5.3 MB/s eta 0:00:01\r\u001b[K     |████████▋                       | 112 kB 5.3 MB/s eta 0:00:01\r\u001b[K     |█████████▍                      | 122 kB 5.3 MB/s eta 0:00:01\r\u001b[K     |██████████▏                     | 133 kB 5.3 MB/s eta 0:00:01\r\u001b[K     |███████████                     | 143 kB 5.3 MB/s eta 0:00:01\r\u001b[K     |███████████▉                    | 153 kB 5.3 MB/s eta 0:00:01\r\u001b[K     |████████████▋                   | 163 kB 5.3 MB/s eta 0:00:01\r\u001b[K     |█████████████▍                  | 174 kB 5.3 MB/s eta 0:00:01\r\u001b[K     |██████████████▏                 | 184 kB 5.3 MB/s eta 0:00:01\r\u001b[K     |███████████████                 | 194 kB 5.3 MB/s eta 0:00:01\r\u001b[K     |███████████████▊                | 204 kB 5.3 MB/s eta 0:00:01\r\u001b[K     |████████████████▌               | 215 kB 5.3 MB/s eta 0:00:01\r\u001b[K     |█████████████████▎              | 225 kB 5.3 MB/s eta 0:00:01\r\u001b[K     |██████████████████              | 235 kB 5.3 MB/s eta 0:00:01\r\u001b[K     |██████████████████▉             | 245 kB 5.3 MB/s eta 0:00:01\r\u001b[K     |███████████████████▋            | 256 kB 5.3 MB/s eta 0:00:01\r\u001b[K     |████████████████████▍           | 266 kB 5.3 MB/s eta 0:00:01\r\u001b[K     |█████████████████████▎          | 276 kB 5.3 MB/s eta 0:00:01\r\u001b[K     |██████████████████████          | 286 kB 5.3 MB/s eta 0:00:01\r\u001b[K     |██████████████████████▉         | 296 kB 5.3 MB/s eta 0:00:01\r\u001b[K     |███████████████████████▋        | 307 kB 5.3 MB/s eta 0:00:01\r\u001b[K     |████████████████████████▍       | 317 kB 5.3 MB/s eta 0:00:01\r\u001b[K     |█████████████████████████▏      | 327 kB 5.3 MB/s eta 0:00:01\r\u001b[K     |██████████████████████████      | 337 kB 5.3 MB/s eta 0:00:01\r\u001b[K     |██████████████████████████▊     | 348 kB 5.3 MB/s eta 0:00:01\r\u001b[K     |███████████████████████████▌    | 358 kB 5.3 MB/s eta 0:00:01\r\u001b[K     |████████████████████████████▎   | 368 kB 5.3 MB/s eta 0:00:01\r\u001b[K     |█████████████████████████████   | 378 kB 5.3 MB/s eta 0:00:01\r\u001b[K     |█████████████████████████████▉  | 389 kB 5.3 MB/s eta 0:00:01\r\u001b[K     |██████████████████████████████▋ | 399 kB 5.3 MB/s eta 0:00:01\r\u001b[K     |███████████████████████████████▌| 409 kB 5.3 MB/s eta 0:00:01\r\u001b[K     |████████████████████████████████| 416 kB 5.3 MB/s \n",
            "\u001b[?25hRequirement already satisfied: scikit-learn>=0.20.0 in /usr/local/lib/python3.7/dist-packages (from soynlp) (0.22.2.post1)\n",
            "Requirement already satisfied: scipy>=1.1.0 in /usr/local/lib/python3.7/dist-packages (from soynlp) (1.4.1)\n",
            "Requirement already satisfied: psutil>=5.0.1 in /usr/local/lib/python3.7/dist-packages (from soynlp) (5.4.8)\n",
            "Requirement already satisfied: numpy>=1.12.1 in /usr/local/lib/python3.7/dist-packages (from soynlp) (1.19.5)\n",
            "Requirement already satisfied: joblib>=0.11 in /usr/local/lib/python3.7/dist-packages (from scikit-learn>=0.20.0->soynlp) (1.0.1)\n",
            "Installing collected packages: soynlp\n",
            "Successfully installed soynlp-0.0.493\n"
          ]
        }
      ]
    },
    {
      "cell_type": "markdown",
      "metadata": {
        "id": "V43Y6nq9ZOMq"
      },
      "source": [
        "# soynlp를 이용한 단어 토큰화"
      ]
    },
    {
      "cell_type": "code",
      "metadata": {
        "colab": {
          "base_uri": "https://localhost:8080/"
        },
        "id": "ZX05cuhUWCR-",
        "outputId": "b5118c8e-d17b-4c4a-a386-c958087bf321"
      },
      "source": [
        "import urllib.request\n",
        "from soynlp import DoublespaceLineCorpus\n",
        "from soynlp.noun import LRNounExtractor\n",
        "from soynlp.word import WordExtractor\n",
        "from soynlp.tokenizer import LTokenizer\n",
        "\n",
        "# 예제 말뭉치 다운로드\n",
        "urllib.request.urlretrieve(\"https://raw.githubusercontent.com/lovit/soynlp/master/tutorials/2016-10-20.txt\", filename=\"2016-10-20.txt\")\n",
        "corpus = DoublespaceLineCorpus(\"2016-10-20.txt\")\n",
        "len(corpus)\n"
      ],
      "execution_count": null,
      "outputs": [
        {
          "output_type": "execute_result",
          "data": {
            "text/plain": [
              "30091"
            ]
          },
          "metadata": {},
          "execution_count": 29
        }
      ]
    },
    {
      "cell_type": "code",
      "metadata": {
        "colab": {
          "base_uri": "https://localhost:8080/"
        },
        "id": "VKcnAQJUWlqc",
        "outputId": "60d264fb-5bc0-4288-9af0-83e41dbe8060"
      },
      "source": [
        "# 예제 말뭉치 상위 5개 문서 텍스트 확인\n",
        "i = 0\n",
        "for document in corpus:\n",
        "  if len(document) > 0:\n",
        "    print(document)\n",
        "    i = i+1\n",
        "  if i == 5:\n",
        "    break"
      ],
      "execution_count": null,
      "outputs": [
        {
          "output_type": "stream",
          "name": "stdout",
          "text": [
            "19  1990  52 1 22\n",
            "오패산터널 총격전 용의자 검거 서울 연합뉴스 경찰 관계자들이 19일 오후 서울 강북구 오패산 터널 인근에서 사제 총기를 발사해 경찰을 살해한 용의자 성모씨를 검거하고 있다 성씨는 검거 당시 서바이벌 게임에서 쓰는 방탄조끼에 헬멧까지 착용한 상태였다 독자제공 영상 캡처 연합뉴스  서울 연합뉴스 김은경 기자 사제 총기로 경찰을 살해한 범인 성모 46 씨는 주도면밀했다  경찰에 따르면 성씨는 19일 오후 강북경찰서 인근 부동산 업소 밖에서 부동산업자 이모 67 씨가 나오기를 기다렸다 이씨와는 평소에도 말다툼을 자주 한 것으로 알려졌다  이씨가 나와 걷기 시작하자 성씨는 따라가면서 미리 준비해온 사제 총기를 이씨에게 발사했다 총알이 빗나가면서 이씨는 도망갔다 그 빗나간 총알은 지나가던 행인 71 씨의 배를 스쳤다  성씨는 강북서 인근 치킨집까지 이씨 뒤를 쫓으며 실랑이하다 쓰러뜨린 후 총기와 함께 가져온 망치로 이씨 머리를 때렸다  이 과정에서 오후 6시 20분께 강북구 번동 길 위에서 사람들이 싸우고 있다 총소리가 났다 는 등의 신고가 여러건 들어왔다  5분 후에 성씨의 전자발찌가 훼손됐다는 신고가 보호관찰소 시스템을 통해 들어왔다 성범죄자로 전자발찌를 차고 있던 성씨는 부엌칼로 직접 자신의 발찌를 끊었다  용의자 소지 사제총기 2정 서울 연합뉴스 임헌정 기자 서울 시내에서 폭행 용의자가 현장 조사를 벌이던 경찰관에게 사제총기를 발사해 경찰관이 숨졌다 19일 오후 6시28분 강북구 번동에서 둔기로 맞았다 는 폭행 피해 신고가 접수돼 현장에서 조사하던 강북경찰서 번동파출소 소속 김모 54 경위가 폭행 용의자 성모 45 씨가 쏜 사제총기에 맞고 쓰러진 뒤 병원에 옮겨졌으나 숨졌다 사진은 용의자가 소지한 사제총기  신고를 받고 번동파출소에서 김창호 54 경위 등 경찰들이 오후 6시 29분께 현장으로 출동했다 성씨는 그사이 부동산 앞에 놓아뒀던 가방을 챙겨 오패산 쪽으로 도망간 후였다  김 경위는 오패산 터널 입구 오른쪽의 급경사에서 성씨에게 접근하다가 오후 6시 33분께 풀숲에 숨은 성씨가 허공에 난사한 10여발의 총알 중 일부를 왼쪽 어깨 뒷부분에 맞고 쓰러졌다  김 경위는 구급차가 도착했을 때 이미 의식이 없었고 심폐소생술을 하며 병원으로 옮겨졌으나 총알이 폐를 훼손해 오후 7시 40분께 사망했다  김 경위는 외근용 조끼를 입고 있었으나 총알을 막기에는 역부족이었다  머리에 부상을 입은 이씨도 함께 병원으로 이송됐으나 생명에는 지장이 없는 것으로 알려졌다  성씨는 오패산 터널 밑쪽 숲에서 오후 6시 45분께 잡혔다  총격현장 수색하는 경찰들 서울 연합뉴스 이효석 기자 19일 오후 서울 강북구 오패산 터널 인근에서 경찰들이 폭행 용의자가 사제총기를 발사해 경찰관이 사망한 사건을 조사 하고 있다  총 때문에 쫓던 경관들과 민간인들이 몸을 숨겼는데 인근 신발가게 직원 이모씨가 다가가 성씨를 덮쳤고 이어 현장에 있던 다른 상인들과 경찰이 가세해 체포했다  성씨는 경찰에 붙잡힌 직후 나 자살하려고 한 거다 맞아 죽어도 괜찮다 고 말한 것으로 전해졌다  성씨 자신도 경찰이 발사한 공포탄 1발 실탄 3발 중 실탄 1발을 배에 맞았으나 방탄조끼를 입은 상태여서 부상하지는 않았다  경찰은 인근을 수색해 성씨가 만든 사제총 16정과 칼 7개를 압수했다 실제 폭발할지는 알 수 없는 요구르트병에 무언가를 채워두고 심지를 꽂은 사제 폭탄도 발견됐다  일부는 숲에서 발견됐고 일부는 성씨가 소지한 가방 안에 있었다\n",
            "테헤란 연합뉴스 강훈상 특파원 이용 승객수 기준 세계 최대 공항인 아랍에미리트 두바이국제공항은 19일 현지시간 이 공항을 이륙하는 모든 항공기의 탑승객은 삼성전자의 갤럭시노트7을 휴대하면 안 된다고 밝혔다  두바이국제공항은 여러 항공 관련 기구의 권고에 따라 안전성에 우려가 있는 스마트폰 갤럭시노트7을 휴대하고 비행기를 타면 안 된다 며 탑승 전 검색 중 발견되면 압수할 계획 이라고 발표했다  공항 측은 갤럭시노트7의 배터리가 폭발 우려가 제기된 만큼 이 제품을 갖고 공항 안으로 들어오지 말라고 이용객에 당부했다  이런 조치는 두바이국제공항 뿐 아니라 신공항인 두바이월드센터에도 적용된다  배터리 폭발문제로 회수된 갤럭시노트7 연합뉴스자료사진\n",
            "브뤼셀 연합뉴스 김병수 특파원 독일 정부는 19일 원자력발전소를 폐쇄하기로 함에 따라 원자력 발전소 운영자들에게 핵폐기물 처리를 지원하는 펀드에 235억 유로 260억 달러 29조 원 를 지불하도록 하는 계획을 승인했다고 언론들이 보도했다  앞서 독일은 5년 전 일본 후쿠시마 원전사태 이후 오는 2022년까지 원전 17기를 모두 폐쇄하기로 하고 오는 2050년까지 전기생산량의 80 를 재생에너지로 충당하는 것을 목표로 세웠다  이날 내각을 통과한 법안은 원전 운영자들이 원전 해체와 핵폐기물 처리를 위한 포장을 책임지고 정부는 핵폐기물 보관을 책임지도록 했다  독일 경제부는 전력회사들과 공식적인 접촉은 아직 합의되지 않았다고 밝혔다  독일 원자력 발전소 연합뉴스 자료사진\n",
            "서울 연합뉴스 19일 서울 강북구에서 사제 총기범이 쏜 총탄에 숨진 김창호 54 경위의 생전 모습 김 경위는 의협심 강하고 솔선수범하는 참된 경찰관이었다는 평가를 받는다 2016 10 20 서울 강북경찰서 제공 연합뉴스\n"
          ]
        }
      ]
    },
    {
      "cell_type": "code",
      "metadata": {
        "colab": {
          "base_uri": "https://localhost:8080/"
        },
        "id": "NGWFco_CZhnK",
        "outputId": "5d1181b2-97b6-4fd4-e465-520ba45decaf"
      },
      "source": [
        "# 유튜브 데이터 문서화\n",
        "a = []\n",
        "for t in data_ko_refine.comment:\n",
        "  a.append(t)\n",
        "  \n",
        "\n",
        "s = \", \".join(a)\n",
        "len(s)"
      ],
      "execution_count": null,
      "outputs": [
        {
          "output_type": "execute_result",
          "data": {
            "text/plain": [
              "186377"
            ]
          },
          "metadata": {},
          "execution_count": 22
        }
      ]
    },
    {
      "cell_type": "code",
      "metadata": {
        "colab": {
          "base_uri": "https://localhost:8080/"
        },
        "id": "Aq93I0UAX6jp",
        "outputId": "405ff210-ce4e-4e64-fa97-37b80b34e2ac"
      },
      "source": [
        "# 예제 말뭉치 테스트\n",
        "'''word_extractor = WordExtractor()\n",
        "word_extractor.train(corpus)\n",
        "word_score_table = word_extractor.extract()\n",
        "word_score_table[\"샤이\"].cohesion_forward\n",
        "'''"
      ],
      "execution_count": null,
      "outputs": [
        {
          "output_type": "stream",
          "name": "stdout",
          "text": [
            "\rtraining was done. used memory 0.181 Gb\n",
            "\rall cohesion probabilities was computed. # words = 0\n",
            "\rall branching entropies was computed # words = 0\n",
            "\rall accessor variety was computed # words = 0\n"
          ]
        }
      ]
    },
    {
      "cell_type": "code",
      "metadata": {
        "id": "1kIB7O4phPQf"
      },
      "source": [
        "# 단어 워드클라우드 시각화 (불용어 제거 단어 선정을 위한)\n",
        "'''from wordcloud import WordCloud\n",
        "default_path = '/content/drive/MyDrive/[공유] Mulcam_Army 공유폴더!/'\n",
        "cloud = WordCloud(font_path=default_path+'NanumGothic.ttf').generate(\"\".join(a))\n",
        "plt.figure(figsize=(30,20))\n",
        "plt.imshow(cloud)\n",
        "plt.axis('off')'''"
      ],
      "execution_count": null,
      "outputs": []
    },
    {
      "cell_type": "code",
      "metadata": {
        "id": "pRYNGVs8uqIg",
        "colab": {
          "base_uri": "https://localhost:8080/"
        },
        "outputId": "d27628a5-1911-4ad2-95eb-73c4096d8a9f"
      },
      "source": [
        "# 단어 토크나이징\n",
        "\n",
        "none_extractor = LRNounExtractor()\n",
        "nouns = none_extractor.train_extract(s)"
      ],
      "execution_count": null,
      "outputs": [
        {
          "output_type": "stream",
          "name": "stdout",
          "text": [
            "[Noun Extractor] used default noun predictor; Sejong corpus predictor\n",
            "[Noun Extractor] used noun_predictor_sejong\n",
            "[Noun Extractor] All 2398 r features was loaded\n",
            "[Noun Extractor] scanning was done (L,R) has (906, 0) tokens\n",
            "[Noun Extractor] building L-R graph was done\n",
            "[Noun Extractor] 0 nouns are extracted\n"
          ]
        }
      ]
    },
    {
      "cell_type": "code",
      "metadata": {
        "id": "8KSO_-d6v1oU"
      },
      "source": [
        ""
      ],
      "execution_count": null,
      "outputs": []
    }
  ]
}