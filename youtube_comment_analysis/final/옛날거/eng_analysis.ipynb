{
 "cells": [
  {
   "cell_type": "markdown",
   "metadata": {},
   "source": [
    "# 필요 라이브러리 설치"
   ]
  },
  {
   "cell_type": "code",
   "execution_count": 12,
   "metadata": {
    "colab": {
     "base_uri": "https://localhost:8080/",
     "height": 432
    },
    "id": "IjCiHedB9go1",
    "outputId": "f756cb3d-ba02-4e1d-8c1d-1bc393db5183",
    "scrolled": true
   },
   "outputs": [
    {
     "name": "stderr",
     "output_type": "stream",
     "text": [
      "/home/ubuntu/anaconda3/lib/python3.7/site-packages/ipykernel/ipkernel.py:287: DeprecationWarning: `should_run_async` will not call `transform_cell` automatically in the future. Please pass the result to `transformed_cell` argument and any exception that happen during thetransform in `preprocessing_exc_tuple` in IPython 7.17 and above.\n",
      "  and should_run_async(code)\n"
     ]
    },
    {
     "name": "stdout",
     "output_type": "stream",
     "text": [
      "\u001b[33mWARNING: Ignoring invalid distribution -rpcio (/home/ubuntu/anaconda3/lib/python3.7/site-packages)\u001b[0m\n",
      "\u001b[33mWARNING: Ignoring invalid distribution -eras (/home/ubuntu/anaconda3/lib/python3.7/site-packages)\u001b[0m\n",
      "\u001b[33mWARNING: Ignoring invalid distribution -eras-preprocessing (/home/ubuntu/anaconda3/lib/python3.7/site-packages)\u001b[0m\n",
      "\u001b[33mWARNING: Ignoring invalid distribution -ensorflow (/home/ubuntu/anaconda3/lib/python3.7/site-packages)\u001b[0m\n",
      "\u001b[33mWARNING: Ignoring invalid distribution -ensorflow-estimator (/home/ubuntu/anaconda3/lib/python3.7/site-packages)\u001b[0m\n",
      "\u001b[33mWARNING: Ignoring invalid distribution -rpcio (/home/ubuntu/anaconda3/lib/python3.7/site-packages)\u001b[0m\n",
      "\u001b[33mWARNING: Ignoring invalid distribution -eras (/home/ubuntu/anaconda3/lib/python3.7/site-packages)\u001b[0m\n",
      "\u001b[33mWARNING: Ignoring invalid distribution -eras-preprocessing (/home/ubuntu/anaconda3/lib/python3.7/site-packages)\u001b[0m\n",
      "\u001b[33mWARNING: Ignoring invalid distribution -ensorflow (/home/ubuntu/anaconda3/lib/python3.7/site-packages)\u001b[0m\n",
      "\u001b[33mWARNING: Ignoring invalid distribution -ensorflow-estimator (/home/ubuntu/anaconda3/lib/python3.7/site-packages)\u001b[0m\n",
      "Requirement already satisfied: pandas in /home/ubuntu/anaconda3/lib/python3.7/site-packages (1.2.2)\n",
      "Requirement already satisfied: python-dateutil>=2.7.3 in /home/ubuntu/anaconda3/lib/python3.7/site-packages (from pandas) (2.8.1)\n",
      "Requirement already satisfied: pytz>=2017.3 in /home/ubuntu/anaconda3/lib/python3.7/site-packages (from pandas) (2021.1)\n",
      "Requirement already satisfied: numpy>=1.16.5 in /home/ubuntu/anaconda3/lib/python3.7/site-packages (from pandas) (1.21.2)\n",
      "Requirement already satisfied: six>=1.5 in /home/ubuntu/anaconda3/lib/python3.7/site-packages (from python-dateutil>=2.7.3->pandas) (1.15.0)\n",
      "\u001b[33mWARNING: Ignoring invalid distribution -rpcio (/home/ubuntu/anaconda3/lib/python3.7/site-packages)\u001b[0m\n",
      "\u001b[33mWARNING: Ignoring invalid distribution -eras (/home/ubuntu/anaconda3/lib/python3.7/site-packages)\u001b[0m\n",
      "\u001b[33mWARNING: Ignoring invalid distribution -eras-preprocessing (/home/ubuntu/anaconda3/lib/python3.7/site-packages)\u001b[0m\n",
      "\u001b[33mWARNING: Ignoring invalid distribution -ensorflow (/home/ubuntu/anaconda3/lib/python3.7/site-packages)\u001b[0m\n",
      "\u001b[33mWARNING: Ignoring invalid distribution -ensorflow-estimator (/home/ubuntu/anaconda3/lib/python3.7/site-packages)\u001b[0m\n",
      "\u001b[33mWARNING: Ignoring invalid distribution -rpcio (/home/ubuntu/anaconda3/lib/python3.7/site-packages)\u001b[0m\n",
      "\u001b[33mWARNING: Ignoring invalid distribution -eras (/home/ubuntu/anaconda3/lib/python3.7/site-packages)\u001b[0m\n",
      "\u001b[33mWARNING: Ignoring invalid distribution -eras-preprocessing (/home/ubuntu/anaconda3/lib/python3.7/site-packages)\u001b[0m\n",
      "\u001b[33mWARNING: Ignoring invalid distribution -ensorflow (/home/ubuntu/anaconda3/lib/python3.7/site-packages)\u001b[0m\n",
      "\u001b[33mWARNING: Ignoring invalid distribution -ensorflow-estimator (/home/ubuntu/anaconda3/lib/python3.7/site-packages)\u001b[0m\n",
      "\u001b[33mWARNING: Ignoring invalid distribution -rpcio (/home/ubuntu/anaconda3/lib/python3.7/site-packages)\u001b[0m\n",
      "\u001b[33mWARNING: Ignoring invalid distribution -eras (/home/ubuntu/anaconda3/lib/python3.7/site-packages)\u001b[0m\n",
      "\u001b[33mWARNING: Ignoring invalid distribution -eras-preprocessing (/home/ubuntu/anaconda3/lib/python3.7/site-packages)\u001b[0m\n",
      "\u001b[33mWARNING: Ignoring invalid distribution -ensorflow (/home/ubuntu/anaconda3/lib/python3.7/site-packages)\u001b[0m\n",
      "\u001b[33mWARNING: Ignoring invalid distribution -ensorflow-estimator (/home/ubuntu/anaconda3/lib/python3.7/site-packages)\u001b[0m\n",
      "\u001b[33mWARNING: Ignoring invalid distribution -rpcio (/home/ubuntu/anaconda3/lib/python3.7/site-packages)\u001b[0m\n",
      "\u001b[33mWARNING: Ignoring invalid distribution -eras (/home/ubuntu/anaconda3/lib/python3.7/site-packages)\u001b[0m\n",
      "\u001b[33mWARNING: Ignoring invalid distribution -eras-preprocessing (/home/ubuntu/anaconda3/lib/python3.7/site-packages)\u001b[0m\n",
      "\u001b[33mWARNING: Ignoring invalid distribution -ensorflow (/home/ubuntu/anaconda3/lib/python3.7/site-packages)\u001b[0m\n",
      "\u001b[33mWARNING: Ignoring invalid distribution -ensorflow-estimator (/home/ubuntu/anaconda3/lib/python3.7/site-packages)\u001b[0m\n",
      "\u001b[33mWARNING: You are using pip version 21.2.4; however, version 21.3 is available.\n",
      "You should consider upgrading via the '/home/ubuntu/anaconda3/bin/python -m pip install --upgrade pip' command.\u001b[0m\n",
      "\u001b[33mWARNING: Ignoring invalid distribution -rpcio (/home/ubuntu/anaconda3/lib/python3.7/site-packages)\u001b[0m\n",
      "\u001b[33mWARNING: Ignoring invalid distribution -eras (/home/ubuntu/anaconda3/lib/python3.7/site-packages)\u001b[0m\n",
      "\u001b[33mWARNING: Ignoring invalid distribution -eras-preprocessing (/home/ubuntu/anaconda3/lib/python3.7/site-packages)\u001b[0m\n",
      "\u001b[33mWARNING: Ignoring invalid distribution -ensorflow (/home/ubuntu/anaconda3/lib/python3.7/site-packages)\u001b[0m\n",
      "\u001b[33mWARNING: Ignoring invalid distribution -ensorflow-estimator (/home/ubuntu/anaconda3/lib/python3.7/site-packages)\u001b[0m\n",
      "\u001b[33mWARNING: Ignoring invalid distribution -rpcio (/home/ubuntu/anaconda3/lib/python3.7/site-packages)\u001b[0m\n",
      "\u001b[33mWARNING: Ignoring invalid distribution -eras (/home/ubuntu/anaconda3/lib/python3.7/site-packages)\u001b[0m\n",
      "\u001b[33mWARNING: Ignoring invalid distribution -eras-preprocessing (/home/ubuntu/anaconda3/lib/python3.7/site-packages)\u001b[0m\n",
      "\u001b[33mWARNING: Ignoring invalid distribution -ensorflow (/home/ubuntu/anaconda3/lib/python3.7/site-packages)\u001b[0m\n",
      "\u001b[33mWARNING: Ignoring invalid distribution -ensorflow-estimator (/home/ubuntu/anaconda3/lib/python3.7/site-packages)\u001b[0m\n",
      "Requirement already satisfied: pyLDAvis in /home/ubuntu/anaconda3/lib/python3.7/site-packages (3.3.1)\n",
      "Requirement already satisfied: funcy in /home/ubuntu/anaconda3/lib/python3.7/site-packages (from pyLDAvis) (1.16)\n",
      "Requirement already satisfied: sklearn in /home/ubuntu/anaconda3/lib/python3.7/site-packages (from pyLDAvis) (0.0)\n",
      "Requirement already satisfied: scipy in /home/ubuntu/anaconda3/lib/python3.7/site-packages (from pyLDAvis) (1.6.1)\n",
      "Requirement already satisfied: scikit-learn in /home/ubuntu/anaconda3/lib/python3.7/site-packages (from pyLDAvis) (0.23.2)\n",
      "Requirement already satisfied: gensim in /home/ubuntu/anaconda3/lib/python3.7/site-packages (from pyLDAvis) (3.4.0)\n",
      "Requirement already satisfied: numexpr in /home/ubuntu/anaconda3/lib/python3.7/site-packages (from pyLDAvis) (2.7.2)\n",
      "Requirement already satisfied: setuptools in /home/ubuntu/anaconda3/lib/python3.7/site-packages (from pyLDAvis) (46.4.0.post20200518)\n",
      "Requirement already satisfied: jinja2 in /home/ubuntu/anaconda3/lib/python3.7/site-packages (from pyLDAvis) (2.11.3)\n",
      "Requirement already satisfied: pandas>=1.2.0 in /home/ubuntu/anaconda3/lib/python3.7/site-packages (from pyLDAvis) (1.2.2)\n",
      "Requirement already satisfied: future in /home/ubuntu/anaconda3/lib/python3.7/site-packages (from pyLDAvis) (0.18.2)\n",
      "Requirement already satisfied: joblib in /home/ubuntu/anaconda3/lib/python3.7/site-packages (from pyLDAvis) (1.0.1)\n",
      "Requirement already satisfied: numpy>=1.20.0 in /home/ubuntu/anaconda3/lib/python3.7/site-packages (from pyLDAvis) (1.21.2)\n",
      "Requirement already satisfied: python-dateutil>=2.7.3 in /home/ubuntu/anaconda3/lib/python3.7/site-packages (from pandas>=1.2.0->pyLDAvis) (2.8.1)\n",
      "Requirement already satisfied: pytz>=2017.3 in /home/ubuntu/anaconda3/lib/python3.7/site-packages (from pandas>=1.2.0->pyLDAvis) (2021.1)\n",
      "Requirement already satisfied: six>=1.5 in /home/ubuntu/anaconda3/lib/python3.7/site-packages (from python-dateutil>=2.7.3->pandas>=1.2.0->pyLDAvis) (1.15.0)\n",
      "Requirement already satisfied: smart-open>=1.2.1 in /home/ubuntu/anaconda3/lib/python3.7/site-packages (from gensim->pyLDAvis) (5.2.1)\n",
      "Requirement already satisfied: MarkupSafe>=0.23 in /home/ubuntu/anaconda3/lib/python3.7/site-packages (from jinja2->pyLDAvis) (1.1.1)\n",
      "Requirement already satisfied: threadpoolctl>=2.0.0 in /home/ubuntu/anaconda3/lib/python3.7/site-packages (from scikit-learn->pyLDAvis) (2.1.0)\n",
      "\u001b[33mWARNING: Ignoring invalid distribution -rpcio (/home/ubuntu/anaconda3/lib/python3.7/site-packages)\u001b[0m\n",
      "\u001b[33mWARNING: Ignoring invalid distribution -eras (/home/ubuntu/anaconda3/lib/python3.7/site-packages)\u001b[0m\n",
      "\u001b[33mWARNING: Ignoring invalid distribution -eras-preprocessing (/home/ubuntu/anaconda3/lib/python3.7/site-packages)\u001b[0m\n",
      "\u001b[33mWARNING: Ignoring invalid distribution -ensorflow (/home/ubuntu/anaconda3/lib/python3.7/site-packages)\u001b[0m\n",
      "\u001b[33mWARNING: Ignoring invalid distribution -ensorflow-estimator (/home/ubuntu/anaconda3/lib/python3.7/site-packages)\u001b[0m\n",
      "\u001b[33mWARNING: Ignoring invalid distribution -rpcio (/home/ubuntu/anaconda3/lib/python3.7/site-packages)\u001b[0m\n",
      "\u001b[33mWARNING: Ignoring invalid distribution -eras (/home/ubuntu/anaconda3/lib/python3.7/site-packages)\u001b[0m\n",
      "\u001b[33mWARNING: Ignoring invalid distribution -eras-preprocessing (/home/ubuntu/anaconda3/lib/python3.7/site-packages)\u001b[0m\n",
      "\u001b[33mWARNING: Ignoring invalid distribution -ensorflow (/home/ubuntu/anaconda3/lib/python3.7/site-packages)\u001b[0m\n",
      "\u001b[33mWARNING: Ignoring invalid distribution -ensorflow-estimator (/home/ubuntu/anaconda3/lib/python3.7/site-packages)\u001b[0m\n",
      "\u001b[33mWARNING: Ignoring invalid distribution -rpcio (/home/ubuntu/anaconda3/lib/python3.7/site-packages)\u001b[0m\n",
      "\u001b[33mWARNING: Ignoring invalid distribution -eras (/home/ubuntu/anaconda3/lib/python3.7/site-packages)\u001b[0m\n",
      "\u001b[33mWARNING: Ignoring invalid distribution -eras-preprocessing (/home/ubuntu/anaconda3/lib/python3.7/site-packages)\u001b[0m\n",
      "\u001b[33mWARNING: Ignoring invalid distribution -ensorflow (/home/ubuntu/anaconda3/lib/python3.7/site-packages)\u001b[0m\n",
      "\u001b[33mWARNING: Ignoring invalid distribution -ensorflow-estimator (/home/ubuntu/anaconda3/lib/python3.7/site-packages)\u001b[0m\n",
      "\u001b[33mWARNING: Ignoring invalid distribution -rpcio (/home/ubuntu/anaconda3/lib/python3.7/site-packages)\u001b[0m\n",
      "\u001b[33mWARNING: Ignoring invalid distribution -eras (/home/ubuntu/anaconda3/lib/python3.7/site-packages)\u001b[0m\n",
      "\u001b[33mWARNING: Ignoring invalid distribution -eras-preprocessing (/home/ubuntu/anaconda3/lib/python3.7/site-packages)\u001b[0m\n",
      "\u001b[33mWARNING: Ignoring invalid distribution -ensorflow (/home/ubuntu/anaconda3/lib/python3.7/site-packages)\u001b[0m\n",
      "\u001b[33mWARNING: Ignoring invalid distribution -ensorflow-estimator (/home/ubuntu/anaconda3/lib/python3.7/site-packages)\u001b[0m\n",
      "\u001b[33mWARNING: You are using pip version 21.2.4; however, version 21.3 is available.\n",
      "You should consider upgrading via the '/home/ubuntu/anaconda3/bin/python -m pip install --upgrade pip' command.\u001b[0m\n",
      "\u001b[33mWARNING: Ignoring invalid distribution -rpcio (/home/ubuntu/anaconda3/lib/python3.7/site-packages)\u001b[0m\n",
      "\u001b[33mWARNING: Ignoring invalid distribution -eras (/home/ubuntu/anaconda3/lib/python3.7/site-packages)\u001b[0m\n",
      "\u001b[33mWARNING: Ignoring invalid distribution -eras-preprocessing (/home/ubuntu/anaconda3/lib/python3.7/site-packages)\u001b[0m\n",
      "\u001b[33mWARNING: Ignoring invalid distribution -ensorflow (/home/ubuntu/anaconda3/lib/python3.7/site-packages)\u001b[0m\n",
      "\u001b[33mWARNING: Ignoring invalid distribution -ensorflow-estimator (/home/ubuntu/anaconda3/lib/python3.7/site-packages)\u001b[0m\n",
      "\u001b[33mWARNING: Ignoring invalid distribution -rpcio (/home/ubuntu/anaconda3/lib/python3.7/site-packages)\u001b[0m\n",
      "\u001b[33mWARNING: Ignoring invalid distribution -eras (/home/ubuntu/anaconda3/lib/python3.7/site-packages)\u001b[0m\n",
      "\u001b[33mWARNING: Ignoring invalid distribution -eras-preprocessing (/home/ubuntu/anaconda3/lib/python3.7/site-packages)\u001b[0m\n",
      "\u001b[33mWARNING: Ignoring invalid distribution -ensorflow (/home/ubuntu/anaconda3/lib/python3.7/site-packages)\u001b[0m\n",
      "\u001b[33mWARNING: Ignoring invalid distribution -ensorflow-estimator (/home/ubuntu/anaconda3/lib/python3.7/site-packages)\u001b[0m\n",
      "\u001b[31mERROR: Could not find a version that satisfies the requirement warnings (from versions: none)\u001b[0m\n",
      "\u001b[31mERROR: No matching distribution found for warnings\u001b[0m\n",
      "\u001b[33mWARNING: Ignoring invalid distribution -rpcio (/home/ubuntu/anaconda3/lib/python3.7/site-packages)\u001b[0m\n",
      "\u001b[33mWARNING: Ignoring invalid distribution -eras (/home/ubuntu/anaconda3/lib/python3.7/site-packages)\u001b[0m\n",
      "\u001b[33mWARNING: Ignoring invalid distribution -eras-preprocessing (/home/ubuntu/anaconda3/lib/python3.7/site-packages)\u001b[0m\n",
      "\u001b[33mWARNING: Ignoring invalid distribution -ensorflow (/home/ubuntu/anaconda3/lib/python3.7/site-packages)\u001b[0m\n",
      "\u001b[33mWARNING: Ignoring invalid distribution -ensorflow-estimator (/home/ubuntu/anaconda3/lib/python3.7/site-packages)\u001b[0m\n",
      "\u001b[33mWARNING: Ignoring invalid distribution -rpcio (/home/ubuntu/anaconda3/lib/python3.7/site-packages)\u001b[0m\n",
      "\u001b[33mWARNING: Ignoring invalid distribution -eras (/home/ubuntu/anaconda3/lib/python3.7/site-packages)\u001b[0m\n",
      "\u001b[33mWARNING: Ignoring invalid distribution -eras-preprocessing (/home/ubuntu/anaconda3/lib/python3.7/site-packages)\u001b[0m\n",
      "\u001b[33mWARNING: Ignoring invalid distribution -ensorflow (/home/ubuntu/anaconda3/lib/python3.7/site-packages)\u001b[0m\n",
      "\u001b[33mWARNING: Ignoring invalid distribution -ensorflow-estimator (/home/ubuntu/anaconda3/lib/python3.7/site-packages)\u001b[0m\n",
      "\u001b[33mWARNING: Ignoring invalid distribution -rpcio (/home/ubuntu/anaconda3/lib/python3.7/site-packages)\u001b[0m\n",
      "\u001b[33mWARNING: Ignoring invalid distribution -eras (/home/ubuntu/anaconda3/lib/python3.7/site-packages)\u001b[0m\n",
      "\u001b[33mWARNING: Ignoring invalid distribution -eras-preprocessing (/home/ubuntu/anaconda3/lib/python3.7/site-packages)\u001b[0m\n",
      "\u001b[33mWARNING: Ignoring invalid distribution -ensorflow (/home/ubuntu/anaconda3/lib/python3.7/site-packages)\u001b[0m\n",
      "\u001b[33mWARNING: Ignoring invalid distribution -ensorflow-estimator (/home/ubuntu/anaconda3/lib/python3.7/site-packages)\u001b[0m\n",
      "\u001b[33mWARNING: You are using pip version 21.2.4; however, version 21.3 is available.\n",
      "You should consider upgrading via the '/home/ubuntu/anaconda3/bin/python -m pip install --upgrade pip' command.\u001b[0m\n"
     ]
    }
   ],
   "source": [
    "!pip install pandas\n",
    "!pip install pyLDAvis\n",
    "!pip install warnings"
   ]
  },
  {
   "cell_type": "markdown",
   "metadata": {},
   "source": [
    "# import"
   ]
  },
  {
   "cell_type": "code",
   "execution_count": 15,
   "metadata": {
    "colab": {
     "base_uri": "https://localhost:8080/",
     "height": 520
    },
    "id": "lJcjPwP8yR1p",
    "outputId": "84804d65-0f00-46d4-e0d8-4ed2b86444b2"
   },
   "outputs": [
    {
     "name": "stderr",
     "output_type": "stream",
     "text": [
      "/home/ubuntu/anaconda3/lib/python3.7/site-packages/ipykernel/ipkernel.py:287: DeprecationWarning: `should_run_async` will not call `transform_cell` automatically in the future. Please pass the result to `transformed_cell` argument and any exception that happen during thetransform in `preprocessing_exc_tuple` in IPython 7.17 and above.\n",
      "  and should_run_async(code)\n"
     ]
    }
   ],
   "source": [
    "import pandas as pd\n",
    "import re\n",
    "import nltk\n",
    "import numpy as np\n",
    "from nltk.corpus import stopwords \n",
    "from nltk.tokenize import word_tokenize\n",
    "from collections import Counter\n",
    "import wordcloud\n",
    "from wordcloud import WordCloud\n",
    "import matplotlib.pyplot as plt\n",
    "from sklearn.decomposition import TruncatedSVD\n",
    "from sklearn.feature_extraction.text import TfidfVectorizer\n",
    "from sklearn.decomposition import LatentDirichletAllocation\n",
    "from sklearn.feature_extraction.text import CountVectorizer\n",
    "from nltk.tokenize import sent_tokenize\n",
    "import pyLDAvis.sklearn  # sklearn의 ldamodel에 최적화된 라이브러리\n",
    "from sklearn.decomposition import PCA\n",
    "import pyLDAvis.gensim_models\n",
    "import gensim\n",
    "from gensim import corpora\n",
    "from gensim.models import LdaModel\n",
    "import pyLDAvis\n",
    "import pyLDAvis.gensim_models as gensimvis\n",
    "from sklearn.feature_extraction.text import TfidfVectorizer\n",
    "import nltk\n",
    "import string\n",
    "from sklearn.cluster import KMeans\n",
    "import warnings"
   ]
  },
  {
   "cell_type": "code",
   "execution_count": 16,
   "metadata": {},
   "outputs": [
    {
     "name": "stderr",
     "output_type": "stream",
     "text": [
      "/home/ubuntu/anaconda3/lib/python3.7/site-packages/ipykernel/ipkernel.py:287: DeprecationWarning: `should_run_async` will not call `transform_cell` automatically in the future. Please pass the result to `transformed_cell` argument and any exception that happen during thetransform in `preprocessing_exc_tuple` in IPython 7.17 and above.\n",
      "  and should_run_async(code)\n"
     ]
    }
   ],
   "source": [
    "warnings.filterwarnings(action='ignore')"
   ]
  },
  {
   "cell_type": "markdown",
   "metadata": {},
   "source": [
    "# 파일 로드"
   ]
  },
  {
   "cell_type": "code",
   "execution_count": 17,
   "metadata": {
    "colab": {
     "base_uri": "https://localhost:8080/",
     "height": 520
    },
    "id": "lJcjPwP8yR1p",
    "outputId": "84804d65-0f00-46d4-e0d8-4ed2b86444b2"
   },
   "outputs": [
    {
     "name": "stdout",
     "output_type": "stream",
     "text": [
      "81975\n"
     ]
    },
    {
     "data": {
      "text/html": [
       "<div>\n",
       "<style scoped>\n",
       "    .dataframe tbody tr th:only-of-type {\n",
       "        vertical-align: middle;\n",
       "    }\n",
       "\n",
       "    .dataframe tbody tr th {\n",
       "        vertical-align: top;\n",
       "    }\n",
       "\n",
       "    .dataframe thead th {\n",
       "        text-align: right;\n",
       "    }\n",
       "</style>\n",
       "<table border=\"1\" class=\"dataframe\">\n",
       "  <thead>\n",
       "    <tr style=\"text-align: right;\">\n",
       "      <th></th>\n",
       "      <th>comment</th>\n",
       "      <th>like</th>\n",
       "      <th>lang</th>\n",
       "    </tr>\n",
       "  </thead>\n",
       "  <tbody>\n",
       "    <tr>\n",
       "      <th>0</th>\n",
       "      <td>even if you re not a carat let s all admit it ...</td>\n",
       "      <td>28000.0</td>\n",
       "      <td>(en)</td>\n",
       "    </tr>\n",
       "    <tr>\n",
       "      <th>1</th>\n",
       "      <td>this song tells that some song s don t need bi...</td>\n",
       "      <td>1900.0</td>\n",
       "      <td>(en)</td>\n",
       "    </tr>\n",
       "    <tr>\n",
       "      <th>2</th>\n",
       "      <td>외국분들 댓글 너무 착하셔세봉이들이 보고 감동했으면 좋겠네요</td>\n",
       "      <td>72.0</td>\n",
       "      <td>(ko)</td>\n",
       "    </tr>\n",
       "    <tr>\n",
       "      <th>3</th>\n",
       "      <td>not a fan but i should say that this song is o...</td>\n",
       "      <td>625.0</td>\n",
       "      <td>(en)</td>\n",
       "    </tr>\n",
       "    <tr>\n",
       "      <th>4</th>\n",
       "      <td>4 years have passed and this song is still a l...</td>\n",
       "      <td>96.0</td>\n",
       "      <td>(en)</td>\n",
       "    </tr>\n",
       "  </tbody>\n",
       "</table>\n",
       "</div>"
      ],
      "text/plain": [
       "                                             comment     like  lang\n",
       "0  even if you re not a carat let s all admit it ...  28000.0  (en)\n",
       "1  this song tells that some song s don t need bi...   1900.0  (en)\n",
       "2                  외국분들 댓글 너무 착하셔세봉이들이 보고 감동했으면 좋겠네요     72.0  (ko)\n",
       "3  not a fan but i should say that this song is o...    625.0  (en)\n",
       "4  4 years have passed and this song is still a l...     96.0  (en)"
      ]
     },
     "execution_count": 17,
     "metadata": {},
     "output_type": "execute_result"
    }
   ],
   "source": [
    "# 유튜브 크롤링 파일 로드\n",
    "path = '/home/lab10/final/pre/'\n",
    "\n",
    "comment_file = 'prepro_stats_page_640세븐틴.csv'    #\n",
    "data = pd.read_csv(path+comment_file, encoding='utf-8', header=None)\n",
    "data.columns = ['comment','like','lang']\n",
    "print(len(data))\n",
    "data.head()"
   ]
  },
  {
   "cell_type": "code",
   "execution_count": 18,
   "metadata": {
    "colab": {
     "base_uri": "https://localhost:8080/"
    },
    "id": "s04_DkjbswWi",
    "outputId": "8186e1b1-1e59-40cc-ebe7-f3acbd36d988"
   },
   "outputs": [
    {
     "data": {
      "text/plain": [
       "array(['even if you re not a carat let s all admit it this song is universal',\n",
       "       'this song tells that some song s don t need billion views to prove they are legendary ❤️',\n",
       "       'not a fan but i should say that this song is on another level',\n",
       "       ..., 'novesuity dino thank you tho 🥰',\n",
       "       'lui quinto did you watch seventeen project big debut already and hit the road',\n",
       "       '막내온탑 seventeen im currently watching those'], dtype=object)"
      ]
     },
     "execution_count": 18,
     "metadata": {},
     "output_type": "execute_result"
    }
   ],
   "source": [
    "# data.like.describe(percentiles=[0.75])\n",
    "# 좋아요 갯수 일정갯수 이상 만 \n",
    "# idx=data[data['like']<=323].index              #좋아요 갯수 상위 15000 정도 이상 댓글만 남김\n",
    "# data.drop(idx, inplace=True)\n",
    "\n",
    "# data_2 = data[data.like >=100]\n",
    "# len(data_2)\n",
    "\n",
    "data_ko = pd.DataFrame([kor[:1] for kor in data.values if kor[2] == '(ko)'], columns=['comment'])\n",
    "data_en = pd.DataFrame([en[:1] for en in data.values if en[2] == '(en)'], columns=['comment'])\n",
    "data_en.comment.values"
   ]
  },
  {
   "cell_type": "code",
   "execution_count": 19,
   "metadata": {
    "colab": {
     "base_uri": "https://localhost:8080/"
    },
    "id": "oMsPTzYss2pw",
    "outputId": "8ee511ce-d53c-4e2d-f5c6-926fbc3c8292",
    "scrolled": true
   },
   "outputs": [
    {
     "data": {
      "text/plain": [
       "array(['외국분들 댓글 너무 착하셔세봉이들이 보고 감동했으면 좋겠네요',\n",
       "       '조회수뭐야 나 이런 발라드가 외국에서 통하는 거 처음봐 맨날 퍼포퍼포 만 외국에서 열광하는데',\n",
       "       '이노래는 그냥 빌보드 가야지 정상 빌보드 안가면 나 슬플거야 빌보드에 안올라가도 난 세븐틴 사랑해 줄 자신이있어 2 35 이부분 진짜 좋음',\n",
       "       ...,\n",
       "       '지금 몇번째 보는건지 모르겠어요 너무 조아여 이번 곡 그것두 팬들한테 쓰는거라니너무 슬픈것 같아요타팬도 슬픈데 캐럿들은 얼마나 슬푸실까요',\n",
       "       '세븐틴 예술 seventeen art', '실종사건 8'], dtype=object)"
      ]
     },
     "execution_count": 19,
     "metadata": {},
     "output_type": "execute_result"
    }
   ],
   "source": [
    "data_ko.comment.values"
   ]
  },
  {
   "cell_type": "code",
   "execution_count": 20,
   "metadata": {
    "id": "tOU0wtmqs4Pi"
   },
   "outputs": [],
   "source": [
    "for i in range(len(data_en.comment)):\n",
    "    data_en.comment[i] = str(data_en.comment[i])"
   ]
  },
  {
   "cell_type": "code",
   "execution_count": 21,
   "metadata": {
    "colab": {
     "base_uri": "https://localhost:8080/"
    },
    "id": "lLU09c79s5j7",
    "outputId": "bba43af0-bf6b-4725-f3ba-124d3fcc6467"
   },
   "outputs": [
    {
     "data": {
      "text/plain": [
       "68832"
      ]
     },
     "execution_count": 21,
     "metadata": {},
     "output_type": "execute_result"
    }
   ],
   "source": [
    "# 숫자제거 / 밑줄 제외한 특수문자 제거\n",
    "p = re.compile(\"[0-7]+\")\n",
    "z = re.compile(\"[8-9]+\")\n",
    "q = re.compile(\"\\W+\")\n",
    "r = re.compile('[^a-zA-Z]+')\n",
    "\n",
    "en = []\n",
    "for i in data_en.comment.values:\n",
    "    tokens = re.sub(p,\" \",i)\n",
    "    tokens = re.sub(z,\" \",tokens)\n",
    "    tokens = re.sub(q,\" \",tokens)\n",
    "    tokens = re.sub(r,\" \", tokens)\n",
    "    en.append(tokens)\n",
    "len(en)"
   ]
  },
  {
   "cell_type": "code",
   "execution_count": 22,
   "metadata": {
    "colab": {
     "base_uri": "https://localhost:8080/"
    },
    "id": "DxqqwR_ts7XO",
    "outputId": "f0548497-8896-4967-a91f-ac6f669839d8"
   },
   "outputs": [
    {
     "data": {
      "text/plain": [
       "['even if you re not a carat let s all admit it this song is universal',\n",
       " 'this song tells that some song s don t need billion views to prove they are legendary ']"
      ]
     },
     "execution_count": 22,
     "metadata": {},
     "output_type": "execute_result"
    }
   ],
   "source": [
    "en[:2]"
   ]
  },
  {
   "cell_type": "markdown",
   "metadata": {
    "colab": {
     "base_uri": "https://localhost:8080/"
    },
    "id": "bQRW-Yn1s81h",
    "outputId": "5eca346f-200f-4ef9-a81f-2b56c18207e9"
   },
   "source": [
    "# 불용어 제거"
   ]
  },
  {
   "cell_type": "code",
   "execution_count": 23,
   "metadata": {
    "colab": {
     "base_uri": "https://localhost:8080/"
    },
    "id": "bQRW-Yn1s81h",
    "outputId": "5eca346f-200f-4ef9-a81f-2b56c18207e9"
   },
   "outputs": [
    {
     "name": "stderr",
     "output_type": "stream",
     "text": [
      "[nltk_data] Downloading package stopwords to /home/lab10/nltk_data...\n",
      "[nltk_data]   Package stopwords is already up-to-date!\n",
      "[nltk_data] Downloading package punkt to /home/lab10/nltk_data...\n",
      "[nltk_data]   Package punkt is already up-to-date!\n",
      "[nltk_data] Downloading package averaged_perceptron_tagger to\n",
      "[nltk_data]     /home/lab10/nltk_data...\n",
      "[nltk_data]   Package averaged_perceptron_tagger is already up-to-\n",
      "[nltk_data]       date!\n"
     ]
    },
    {
     "data": {
      "text/plain": [
       "True"
      ]
     },
     "execution_count": 23,
     "metadata": {},
     "output_type": "execute_result"
    }
   ],
   "source": [
    "nltk.download('stopwords')\n",
    "nltk.download('punkt')\n",
    "nltk.download('averaged_perceptron_tagger')"
   ]
  },
  {
   "cell_type": "code",
   "execution_count": 24,
   "metadata": {
    "colab": {
     "base_uri": "https://localhost:8080/"
    },
    "id": "jyubJRqZs_Ph",
    "outputId": "be79d1f7-d0bd-43eb-c56b-997239ff76b4"
   },
   "outputs": [
    {
     "name": "stdout",
     "output_type": "stream",
     "text": [
      "[['even', 'carat', 'let', 'admit', 'song', 'universal'], ['song', 'tells', 'song', 'need', 'billion', 'views', 'prove', 'legendary'], ['fan', 'say', 'song', 'another', 'level'], ['years', 'passed', 'song', 'still', 'legend', 'probably', 'legacy', 'passed', 'different', 'generation', 'generation', 'attacca', 'released', 'october', 'hope', 'able', 'reach', 'new', 'milestone', 'boys', 'lately', 'previous', 'comebacks', 'struggle', 'make', 'views', 'go', 'together', 'almost', 'years', 'ripe', 'already', 'still', 'lack', 'effort', 'whilst', 'seventeen', 'work', 'hard', 'satisfy', 'us', 'every', 'menu', 'aim', 'make', 'us', 'taste', 'unending', 'gose', 'segments', 'contents', 'hope', 'able', 'pay', 'back'], ['fan', 'really', 'like', 'songs', 'especially', 'one', 'deserves', 'attention', 'views'], ['funfact', 'everyone', 'agree', 'successful', 'comeback', 'seventeen'], ['proof', 'choreography', 'need', 'jumps', 'flips', 'beautifully', 'done', 'goes', 'well', 'music', 'probably', 'one', 'favorites', 'also', 'video', 'choreography', 'danced', 'x', 'speed', 'left', 'awe', 'well', 'synchronized'], ['forget', 'fandom', 'carat', 'comes', 'song'], ['proves', 'songs', 'need', 'badass', 'become', 'addictive'], ['seventeen', 'stan', 'like', 'guys', 'deserves', 'views', 'likes', 'masterpiece']]\n",
      "68832\n"
     ]
    }
   ],
   "source": [
    "stop_words = set(stopwords.words('english')) \n",
    "# stop_words.update(('song','group','songs','youtube','views','time','https','girl','girls','people','yes','lol','video','part','member','members', 'look','way','guys','fans','fan'))\n",
    "\n",
    "res=[]\n",
    "for i in range(len(en)):\n",
    "    word_tokens = word_tokenize(en[i])\n",
    "\n",
    "    result = []\n",
    "    for w in word_tokens: \n",
    "        if w not in stop_words: \n",
    "            result.append(w) \n",
    "    res.append(result)\n",
    "\n",
    "# print(word_tokens) \n",
    "print(res[:10])\n",
    "print(len(res))"
   ]
  },
  {
   "cell_type": "code",
   "execution_count": 25,
   "metadata": {
    "colab": {
     "base_uri": "https://localhost:8080/"
    },
    "id": "k9_tWuCGtASV",
    "outputId": "e8fe28fe-81a1-43c9-e6d0-896874af7cff"
   },
   "outputs": [
    {
     "data": {
      "text/plain": [
       "[[('even', 'RB'),\n",
       "  ('carat', 'VB'),\n",
       "  ('let', 'JJR'),\n",
       "  ('admit', 'NN'),\n",
       "  ('song', 'NN'),\n",
       "  ('universal', 'NN')],\n",
       " [('song', 'NN'),\n",
       "  ('tells', 'NNS'),\n",
       "  ('song', 'JJ'),\n",
       "  ('need', 'VBP'),\n",
       "  ('billion', 'CD'),\n",
       "  ('views', 'NNS'),\n",
       "  ('prove', 'VBP'),\n",
       "  ('legendary', 'JJ')],\n",
       " [('fan', 'NNS'),\n",
       "  ('say', 'VBP'),\n",
       "  ('song', 'RB'),\n",
       "  ('another', 'DT'),\n",
       "  ('level', 'NN')],\n",
       " [('years', 'NNS'),\n",
       "  ('passed', 'VBD'),\n",
       "  ('song', 'NN'),\n",
       "  ('still', 'RB'),\n",
       "  ('legend', 'VBZ'),\n",
       "  ('probably', 'RB'),\n",
       "  ('legacy', 'NN'),\n",
       "  ('passed', 'VBD'),\n",
       "  ('different', 'JJ'),\n",
       "  ('generation', 'NN'),\n",
       "  ('generation', 'NN'),\n",
       "  ('attacca', 'NNS'),\n",
       "  ('released', 'VBN'),\n",
       "  ('october', 'IN'),\n",
       "  ('hope', 'NN'),\n",
       "  ('able', 'JJ'),\n",
       "  ('reach', 'NN'),\n",
       "  ('new', 'JJ'),\n",
       "  ('milestone', 'NN'),\n",
       "  ('boys', 'VBZ'),\n",
       "  ('lately', 'RB'),\n",
       "  ('previous', 'JJ'),\n",
       "  ('comebacks', 'NNS'),\n",
       "  ('struggle', 'VBP'),\n",
       "  ('make', 'VB'),\n",
       "  ('views', 'NNS'),\n",
       "  ('go', 'VB'),\n",
       "  ('together', 'RB'),\n",
       "  ('almost', 'RB'),\n",
       "  ('years', 'NNS'),\n",
       "  ('ripe', 'VBP'),\n",
       "  ('already', 'RB'),\n",
       "  ('still', 'RB'),\n",
       "  ('lack', 'VB'),\n",
       "  ('effort', 'NN'),\n",
       "  ('whilst', 'NN'),\n",
       "  ('seventeen', 'JJ'),\n",
       "  ('work', 'NN'),\n",
       "  ('hard', 'RB'),\n",
       "  ('satisfy', 'VBD'),\n",
       "  ('us', 'PRP'),\n",
       "  ('every', 'DT'),\n",
       "  ('menu', 'NN'),\n",
       "  ('aim', 'NN'),\n",
       "  ('make', 'VBP'),\n",
       "  ('us', 'PRP'),\n",
       "  ('taste', 'NN'),\n",
       "  ('unending', 'VBG'),\n",
       "  ('gose', 'JJ'),\n",
       "  ('segments', 'NNS'),\n",
       "  ('contents', 'NNS'),\n",
       "  ('hope', 'VBP'),\n",
       "  ('able', 'JJ'),\n",
       "  ('pay', 'NN'),\n",
       "  ('back', 'RB')],\n",
       " [('fan', 'NN'),\n",
       "  ('really', 'RB'),\n",
       "  ('like', 'JJ'),\n",
       "  ('songs', 'NNS'),\n",
       "  ('especially', 'RB'),\n",
       "  ('one', 'CD'),\n",
       "  ('deserves', 'VBZ'),\n",
       "  ('attention', 'NN'),\n",
       "  ('views', 'NNS')]]"
      ]
     },
     "execution_count": 25,
     "metadata": {},
     "output_type": "execute_result"
    }
   ],
   "source": [
    "en_pos = []\n",
    "for i in range(len(res)):\n",
    "    tokens_pos = nltk.pos_tag(res[i])\n",
    "    en_pos.append(tokens_pos)\n",
    "\n",
    "en_pos[:5]"
   ]
  },
  {
   "cell_type": "code",
   "execution_count": 26,
   "metadata": {
    "colab": {
     "base_uri": "https://localhost:8080/"
    },
    "id": "uGXSL0xrtBva",
    "outputId": "85600552-5ec2-46d3-92d4-f36b83882f86"
   },
   "outputs": [
    {
     "data": {
      "text/plain": [
       "['admit',\n",
       " 'song',\n",
       " 'universal',\n",
       " 'song',\n",
       " 'tells',\n",
       " 'views',\n",
       " 'fan',\n",
       " 'level',\n",
       " 'years',\n",
       " 'song']"
      ]
     },
     "execution_count": 26,
     "metadata": {},
     "output_type": "execute_result"
    }
   ],
   "source": [
    "# 명사는 NN을 포함하고 있음을 알 수 있음\n",
    "en_NN=[]\n",
    "for i in range(len(en_pos)):\n",
    "    NN_words = []\n",
    "    for word, pos in en_pos[i]:\n",
    "        if 'NN' in pos:\n",
    "            NN_words.append(word)\n",
    "        elif 'NNS' in pos:\n",
    "            NN_words.append(word)\n",
    "    en_NN.extend(NN_words)\n",
    "en_NN[:10]\n"
   ]
  },
  {
   "cell_type": "code",
   "execution_count": 27,
   "metadata": {
    "colab": {
     "base_uri": "https://localhost:8080/"
    },
    "id": "m_BGz8PLtCtT",
    "outputId": "7778d02a-e142-4e77-e8af-849331134201"
   },
   "outputs": [
    {
     "name": "stdout",
     "output_type": "stream",
     "text": [
      "[('carats', 5472), ('song', 4939), ('carat', 3741), ('seventeen', 3214), ('thank', 2410), ('time', 2274), ('home', 2263), ('love', 2129), ('life', 2126), ('group', 2021), ('views', 2002), ('songs', 1964), ('music', 1868), ('svt', 1868), ('mv', 1794), ('thanks', 1790), ('day', 1786), ('people', 1552), ('diamond', 1541), ('comeback', 1445)]\n"
     ]
    }
   ],
   "source": [
    "#9. 빈도분석\n",
    "\n",
    "c = Counter(en_NN) # input type should be a list of words (or tokens)\n",
    "k = 20\n",
    "print(c.most_common(k)) # 빈도수 기준 상위 k개 단어 출력"
   ]
  },
  {
   "cell_type": "code",
   "execution_count": 28,
   "metadata": {
    "id": "kFWqR9BctDwH"
   },
   "outputs": [],
   "source": [
    "#wordclound\n",
    "noun_text = ''\n",
    "for word in en_NN:\n",
    "    noun_text = noun_text +' '+word\n"
   ]
  },
  {
   "cell_type": "code",
   "execution_count": 32,
   "metadata": {},
   "outputs": [],
   "source": [
    "path2='/home/lab10/final/'\n",
    "filename = 'stats_page_640세븐틴'"
   ]
  },
  {
   "cell_type": "code",
   "execution_count": 33,
   "metadata": {
    "colab": {
     "base_uri": "https://localhost:8080/",
     "height": 216
    },
    "id": "SF9qSgz4tEsc",
    "outputId": "383eb394-9048-427e-e0a6-29d72e565790"
   },
   "outputs": [
    {
     "data": {
      "image/png": "[encoded data removed]",
      "text/plain": [
       "<Figure size 432x288 with 1 Axes>"
      ]
     },
     "metadata": {
      "needs_background": "light"
     },
     "output_type": "display_data"
    },
    {
     "data": {
      "text/plain": [
       "<wordcloud.wordcloud.WordCloud at 0x7f8e27a33750>"
      ]
     },
     "execution_count": 33,
     "metadata": {},
     "output_type": "execute_result"
    }
   ],
   "source": [
    "wordcloud = WordCloud(max_font_size=60, relative_scaling=.5).generate(noun_text) # generate() 는 하나의 string value를 입력 받음\n",
    "plt.figure()\n",
    "plt.imshow(wordcloud, interpolation='bilinear')\n",
    "plt.axis(\"off\")\n",
    "plt.show()\n",
    "wordcloud.to_file(path2+'wordcloud'+filename+'.png')\n"
   ]
  },
  {
   "cell_type": "code",
   "execution_count": 34,
   "metadata": {
    "colab": {
     "base_uri": "https://localhost:8080/"
    },
    "id": "tYFw_2FV1F1_",
    "outputId": "d2109ca6-2e0b-4a10-94d1-a4e174384ffc"
   },
   "outputs": [
    {
     "data": {
      "text/plain": [
       "[['even', 'carat', 'let', 'admit', 'song', 'universal'],\n",
       " ['song', 'tells', 'song', 'need', 'billion', 'views', 'prove', 'legendary']]"
      ]
     },
     "execution_count": 34,
     "metadata": {},
     "output_type": "execute_result"
    }
   ],
   "source": [
    "## 3단어 이하 짧은 단어 제거\n",
    " # remove words less than three letters\n",
    "# print(res[1])\n",
    "# for word in res[1]:\n",
    "#     print(word)\n",
    "en_sent_less3=[]\n",
    "for i in range(len(res)):\n",
    "    tokens = [word for word in res[i] if len(word) >= 3]\n",
    "    en_sent_less3.append(tokens)\n",
    "en_sent_less3[:2]"
   ]
  },
  {
   "cell_type": "code",
   "execution_count": 35,
   "metadata": {
    "colab": {
     "base_uri": "https://localhost:8080/"
    },
    "id": "tYFw_2FV1F1_",
    "outputId": "d2109ca6-2e0b-4a10-94d1-a4e174384ffc"
   },
   "outputs": [
    {
     "data": {
      "text/plain": [
       "['even carat let admit song universal',\n",
       " 'song tells song need billion views prove legendary',\n",
       " 'fan say song another level',\n",
       " 'years passed song still legend probably legacy passed different generation generation attacca released october hope able reach new milestone boys lately previous comebacks struggle make views together almost years ripe already still lack effort whilst seventeen work hard satisfy every menu aim make taste unending gose segments contents hope able pay back',\n",
       " 'fan really like songs especially one deserves attention views',\n",
       " 'funfact everyone agree successful comeback seventeen',\n",
       " 'proof choreography need jumps flips beautifully done goes well music probably one favorites also video choreography danced speed left awe well synchronized',\n",
       " 'forget fandom carat comes song',\n",
       " 'proves songs need badass become addictive',\n",
       " 'seventeen stan like guys deserves views likes masterpiece',\n",
       " 'today wan cry year anniversary thank seventeen give masterpiece song',\n",
       " 'remember watching way back release stanning svt really like hoshi without knowing deeper',\n",
       " 'seventeen song recommendations non fans home lean listen secret highlight change heaven cloud fast pace habit trauma good meplease give discography chance seventeen lot great songs',\n",
       " 'suppose cry title say really stop crying time find masterpiece comforting',\n",
       " 'nobody crys cuz crush love wan cry']"
      ]
     },
     "execution_count": 35,
     "metadata": {},
     "output_type": "execute_result"
    }
   ],
   "source": [
    "en_sent =[]\n",
    "for i in range(len(en_sent_less3)):\n",
    "    temp=\" \".join(en_sent_less3[i])\n",
    "    en_sent.append(temp)\n",
    "en_sent[:15]\n"
   ]
  },
  {
   "cell_type": "code",
   "execution_count": 104,
   "metadata": {
    "colab": {
     "base_uri": "https://localhost:8080/"
    },
    "id": "3EHusLlUuSZz",
    "outputId": "ea4dbb75-ed57-4ddc-faaa-75c77e71cdd3"
   },
   "outputs": [],
   "source": [
    "data_en['en_sent']=en_sent"
   ]
  },
  {
   "cell_type": "code",
   "execution_count": 106,
   "metadata": {
    "colab": {
     "base_uri": "https://localhost:8080/",
     "height": 502
    },
    "id": "QrAaQmTGui3-",
    "outputId": "36db5a50-d54c-447a-9e86-709a7d1a302b"
   },
   "outputs": [
    {
     "data": {
      "text/html": [
       "<div>\n",
       "<style scoped>\n",
       "    .dataframe tbody tr th:only-of-type {\n",
       "        vertical-align: middle;\n",
       "    }\n",
       "\n",
       "    .dataframe tbody tr th {\n",
       "        vertical-align: top;\n",
       "    }\n",
       "\n",
       "    .dataframe thead th {\n",
       "        text-align: right;\n",
       "    }\n",
       "</style>\n",
       "<table border=\"1\" class=\"dataframe\">\n",
       "  <thead>\n",
       "    <tr style=\"text-align: right;\">\n",
       "      <th></th>\n",
       "      <th>comment</th>\n",
       "      <th>en_sent</th>\n",
       "    </tr>\n",
       "  </thead>\n",
       "  <tbody>\n",
       "    <tr>\n",
       "      <th>68827</th>\n",
       "      <td>im updated but i want to binge watch more svt ...</td>\n",
       "      <td>updated want binge watch svt videos</td>\n",
       "    </tr>\n",
       "    <tr>\n",
       "      <th>68828</th>\n",
       "      <td>anyways im currently binge watching their vliv...</td>\n",
       "      <td>anyways currently binge watching vlives help</td>\n",
       "    </tr>\n",
       "    <tr>\n",
       "      <th>68829</th>\n",
       "      <td>novesuity dino thank you tho 🥰</td>\n",
       "      <td>novesuity dino thank tho</td>\n",
       "    </tr>\n",
       "    <tr>\n",
       "      <th>68830</th>\n",
       "      <td>lui quinto did you watch seventeen project big...</td>\n",
       "      <td>lui quinto watch seventeen project big debut a...</td>\n",
       "    </tr>\n",
       "    <tr>\n",
       "      <th>68831</th>\n",
       "      <td>막내온탑 seventeen im currently watching those</td>\n",
       "      <td>seventeen currently watching</td>\n",
       "    </tr>\n",
       "  </tbody>\n",
       "</table>\n",
       "</div>"
      ],
      "text/plain": [
       "                                                 comment  \\\n",
       "68827  im updated but i want to binge watch more svt ...   \n",
       "68828  anyways im currently binge watching their vliv...   \n",
       "68829                     novesuity dino thank you tho 🥰   \n",
       "68830  lui quinto did you watch seventeen project big...   \n",
       "68831         막내온탑 seventeen im currently watching those   \n",
       "\n",
       "                                                 en_sent  \n",
       "68827                updated want binge watch svt videos  \n",
       "68828       anyways currently binge watching vlives help  \n",
       "68829                           novesuity dino thank tho  \n",
       "68830  lui quinto watch seventeen project big debut a...  \n",
       "68831                       seventeen currently watching  "
      ]
     },
     "execution_count": 106,
     "metadata": {},
     "output_type": "execute_result"
    }
   ],
   "source": [
    "data_en.tail()"
   ]
  },
  {
   "cell_type": "code",
   "execution_count": 107,
   "metadata": {
    "id": "XHAoSbjd1YG7"
   },
   "outputs": [],
   "source": [
    "# BoW 모델로 벡터화\n",
    "count = CountVectorizer(ngram_range=(3,6),\n",
    "                        max_df = .1,\n",
    "                        max_features=5000, stop_words=None)\n",
    "docs = en_sent\n",
    "bag = count.fit_transform(docs)\n"
   ]
  },
  {
   "cell_type": "code",
   "execution_count": 108,
   "metadata": {
    "id": "9tCMUvQQ31wy"
   },
   "outputs": [],
   "source": [
    "def perplexity_by_ntopic(data, ntopics):\n",
    "    output_dict = {\n",
    "        \"Number Of Topics\": [],\n",
    "        \"Perplexity Score\": []\n",
    "    }\n",
    "    for t in ntopics:\n",
    "        # LDA 사용 (BoW 기반)\n",
    "        \n",
    "        lda = LatentDirichletAllocation(\n",
    "            n_components=t,\n",
    "            learning_method='batch',\n",
    "            random_state=1\n",
    "        )\n",
    "        lda.fit(data)\n",
    "\n",
    "        output_dict['Number Of Topics'].append(t)\n",
    "        output_dict['Perplexity Score'].append(lda.perplexity(data))\n",
    "\n",
    "    output_df = pd.DataFrame(output_dict)\n",
    "\n",
    "    index_min_perplexity = output_df['Perplexity Score'].idxmin()\n",
    "    output_num_topics = output_df.loc[\n",
    "        index_min_perplexity, # 인덱스\n",
    "        \"Number Of Topics\" # 컬럼\n",
    "    ]\n",
    "    return (output_df, output_num_topics)"
   ]
  },
  {
   "cell_type": "code",
   "execution_count": 109,
   "metadata": {
    "id": "Il-Tm1jV31n1"
   },
   "outputs": [
    {
     "name": "stdout",
     "output_type": "stream",
     "text": [
      "    Number Of Topics  Perplexity Score\n",
      "0                  1       4372.659943\n",
      "1                  2       2989.552602\n",
      "2                  3       2379.345022\n",
      "3                  4       2074.460539\n",
      "4                  5       1872.625207\n",
      "..               ...               ...\n",
      "94                95       1616.721212\n",
      "95                96       1593.995215\n",
      "96                97       1649.206055\n",
      "97                98       1777.130301\n",
      "98                99       1736.220167\n",
      "\n",
      "[99 rows x 2 columns]\n"
     ]
    }
   ],
   "source": [
    "df_perplexity, optimal_num_topics = perplexity_by_ntopic(\n",
    "    bag, ntopics=range(1,100)\n",
    ")\n",
    "print(df_perplexity)"
   ]
  },
  {
   "cell_type": "code",
   "execution_count": 110,
   "metadata": {},
   "outputs": [
    {
     "name": "stdout",
     "output_type": "stream",
     "text": [
      "605.176443055839\n",
      "76\n"
     ]
    }
   ],
   "source": [
    "df_perplexity.sort_values(by=['Perplexity Score'], axis=0)\n",
    "print(df_perplexity['Perplexity Score'].min())\n",
    "print(df_perplexity['Perplexity Score'].idxmin())"
   ]
  },
  {
   "cell_type": "code",
   "execution_count": 111,
   "metadata": {
    "id": "56B8B1qk31dg"
   },
   "outputs": [
    {
     "data": {
      "text/plain": [
       "<AxesSubplot:xlabel='Number Of Topics'>"
      ]
     },
     "execution_count": 111,
     "metadata": {},
     "output_type": "execute_result"
    },
    {
     "data": {
      "image/png": "[encoded data removed]",
      "text/plain": [
       "<Figure size 432x288 with 1 Axes>"
      ]
     },
     "metadata": {
      "needs_background": "light"
     },
     "output_type": "display_data"
    }
   ],
   "source": [
    "df_perplexity.plot.line(\"Number Of Topics\",'Perplexity Score')"
   ]
  },
  {
   "cell_type": "code",
   "execution_count": 112,
   "metadata": {
    "colab": {
     "base_uri": "https://localhost:8080/"
    },
    "id": "oBClReWg1chO",
    "outputId": "79713573-9b5e-4329-ef35-0f7d72be2025"
   },
   "outputs": [],
   "source": [
    "\"\"\"# 잠재 디리클레 할당을 사용한 토픽 모델링\"\"\"\n",
    "\n",
    "# LDA 사용 (BoW 기반)\n",
    "\n",
    "lda = LatentDirichletAllocation(n_components = 5,\n",
    "                                random_state = 1,\n",
    "                                learning_method = 'batch')\n",
    "\n",
    "X_topics = lda.fit_transform(bag)"
   ]
  },
  {
   "cell_type": "code",
   "execution_count": 113,
   "metadata": {
    "colab": {
     "base_uri": "https://localhost:8080/"
    },
    "id": "oBClReWg1chO",
    "outputId": "79713573-9b5e-4329-ef35-0f7d72be2025"
   },
   "outputs": [
    {
     "name": "stdout",
     "output_type": "stream",
     "text": [
      "토픽 1:\n",
      "['slip diamond life', 'one fine day', 'kstin hours viws', 'hours viws added', 'kstin hours viws added', 'september kst september', 'kst september kstin', 'september kstin hours', 'kst september kstin hours', 'september kst september kstin']\n",
      "토픽 2:\n",
      "['home home home', 'keep str ming', 'hit hit hit', 'keep str aming', 'hip hop team', 'balphang alphan sony ndalphan', 'balphang alphan sony', 'alphan sony ndalphan', 'seventeen seventeen seventeen', 'hit hit hit hit']\n",
      "토픽 3:\n",
      "['slipped diamond life', 'watch going seventeen', 'jikook better motzu', 'slipping diamond life', 'vote idol champ', 'appreciate dino everyone', 'seventeen world domination', 'jjak jjak jjak', 'let keep streaming', 'dawn hotter day']\n",
      "토픽 4:\n",
      "['dont wan cry', 'aju nice clap', 'attacca concept trailer', 'million million million', 'vote seventeen idol', 'seventeen idol champ', 'vote seventeen idol champ', 'clap left right', 'million million million million', 'lets work hard']\n",
      "토픽 5:\n",
      "['welcome diamond life', 'call call call', 'home run soty', 'let work harder', 'last say name', 'love song much', 'sorry bad english', 'never gets old', 'kst august kstin hours views added', 'august kstin hours views']\n"
     ]
    }
   ],
   "source": [
    "# 결과 분석을 위해 각 토픽 당 중요 단어 10개 출력 (BoW 기반)\n",
    "n_top_word = 10\n",
    "feature_name = count.get_feature_names()\n",
    "for topic_idx, topic in enumerate(lda.components_):\n",
    "  print(\"토픽 %d:\" % (topic_idx+1))\n",
    "  print([feature_name[i] for i in topic.argsort()[:-n_top_word - 1: -1]])"
   ]
  },
  {
   "cell_type": "code",
   "execution_count": 114,
   "metadata": {
    "id": "5dhe6m195QA2"
   },
   "outputs": [
    {
     "data": {
      "text/html": [
       "\n",
       "<link rel=\"stylesheet\" type=\"text/css\" href=\"https://cdn.jsdelivr.net/gh/bmabey/pyLDAvis@3.3.1/pyLDAvis/js/ldavis.v1.0.0.css\">\n",
       "\n",
       "\n",
       "<div id=\"ldavis_el33771402482563877924390910878\"></div>\n",
       "<script type=\"text/javascript\">\n",
       "\n",
       "var ldavis_el33771402482563877924390910878_data = {\"mdsDat\": {\"x\": [-0.35850291938874257, 0.1684212758381782, 0.1163763238837681, 0.09498097598547364, -0.0212756563186771], \"y\": [-0.012500084208295292, 0.12867652183298178, -0.3552820347145547, 0.17444480017031821, 0.0646607969195499], \"topics\": [1, 2, 3, 4, 5], \"cluster\": [1, 1, 1, 1, 1], \"Freq\": [32.854352665530826, 22.145221878611398, 18.75169835454951, 16.08457508716418, 10.164152014144102]}, \"tinfo\": {\"Term\": [\"slip diamond life\", \"welcome diamond life\", \"one fine day\", \"kstin hours viws\", \"hours viws added\", \"kstin hours viws added\", \"home home home\", \"slipped diamond life\", \"september kst september\", \"september kstin hours\", \"kst september kstin\", \"kst september kstin hours\", \"september kst september kstin hours\", \"september kst september kstin\", \"kst august kstin hours\", \"august kstin hours\", \"kst august kstin\", \"august kst august kstin\", \"august kst august kstin hours\", \"august kst august\", \"keep str ming\", \"hip hop unit\", \"hit hit hit\", \"august kstin hours viws\", \"kst august kstin hours viws\", \"august kstin hours viws added\", \"kst august kstin hours viws added\", \"dont wan cry\", \"august kst august kstin hours viws\", \"keep str aming\", \"welcome diamond life\", \"call call call\", \"let work harder\", \"love song much\", \"sorry bad english\", \"never gets old\", \"kst august kstin hours views added\", \"august kstin hours views\", \"august kst august kstin hours views\", \"august kstin hours views added\", \"kst august kstin hours views\", \"kst october kstin\", \"kst october kstin hours\", \"october kst october\", \"october kst october kstin\", \"october kst october kstin hours\", \"october kstin hours\", \"really love song\", \"songs makes wan\", \"unit real name\", \"song never gets\", \"song never gets old\", \"proud carat right\", \"seventeen wan cry\", \"baksujjakjjakjjakjjakjeogi jeogi iri\", \"baksujjakjjakjjakjjakjeogi jeogi iri ojiurikkiri\", \"baksujjakjjakjjakjjakjeogi jeogi iri ojiurikkiri shini\", \"iri ojiurikkiri shini\", \"jeogi iri ojiurikkiri\", \"jeogi iri ojiurikkiri shini\", \"last say name\", \"home run soty\", \"feel free ask\", \"music show wins\", \"dawn hotter day\", \"aju nice clap\", \"dont wan cry\", \"million million million\", \"vote seventeen idol\", \"seventeen idol champ\", \"vote seventeen idol champ\", \"million million million million\", \"lets work hard\", \"even non kpopers\", \"jeonghan joshua jun\", \"million million million million million\", \"hoshi wonwoo woozi\", \"jun hoshi wonwoo\", \"joshua jun hoshi\", \"jun hoshi wonwoo woozi\", \"scoups jeonghan joshua\", \"joshua jun hoshi wonwoo\", \"jeonghan joshua jun hoshi\", \"jeonghan joshua jun hoshi wonwoo\", \"jeonghan joshua jun hoshi wonwoo woozi\", \"joshua jun hoshi wonwoo woozi\", \"game game game\", \"wonwoo woozi mingyu\", \"seungkwan vernon dino\", \"breathe breathe breathe\", \"hoshi wonwoo woozi mingyu\", \"mingyu seungkwan vernon\", \"scoups jeonghan joshua jun\", \"right home run\", \"game game game game\", \"say name seventeen\", \"nice left right\", \"attacca concept trailer\", \"rapper sub vocalist\", \"please vote seventeen\", \"clap left right\", \"ready love seventeen\", \"left right home\", \"one fine day\", \"slip diamond life\", \"kstin hours viws\", \"hours viws added\", \"kstin hours viws added\", \"september kst september\", \"kst september kstin\", \"kst september kstin hours\", \"september kstin hours\", \"september kst september kstin\", \"september kst september kstin hours\", \"august kstin hours\", \"kst august kstin\", \"kst august kstin hours\", \"august kst august kstin\", \"august kst august\", \"august kst august kstin hours\", \"hip hop unit\", \"august kstin hours viws\", \"kst august kstin hours viws\", \"august kstin hours viws added\", \"kst august kstin hours viws added\", \"august kst august kstin hours viws\", \"wow wow wow\", \"kst september kstin hours viws\", \"september kst september kstin hours viws\", \"september kstin hours viws\", \"kst september kstin hours viws added\", \"september kstin hours viws added\", \"let work hard\", \"keep streaming carats\", \"one fine day\", \"https wwwyoutubecom watchv\", \"slipped diamond life\", \"jikook better motzu\", \"jjak jjak jjak\", \"love seventeen much\", \"home run home\", \"really like song\", \"seventeen home run\", \"seventeen comeback october\", \"army support seventeen\", \"drink water alcohol\", \"let get million\", \"self producing group\", \"ulgo shipji anha\", \"account trying make\", \"annoying small account\", \"annoying small account trying\", \"annoying small account trying make\", \"small account trying\", \"small account trying make\", \"sorry annoying small\", \"sorry annoying small account\", \"sorry annoying small account trying\", \"sorry annoying small account trying make\", \"account trying make friends\", \"account trying make friends thank\", \"annoying small account trying make friends\", \"carat fanboy would\", \"carat fanboy would mind\", \"carat fanboy would mind checking\", \"carat fanboy would mind checking video\", \"appreciate dino everyone\", \"seventeen world domination\", \"slipping diamond life\", \"vote idol champ\", \"watch going seventeen\", \"let keep streaming\", \"dawn hotter day\", \"home home home\", \"keep str ming\", \"hit hit hit\", \"keep str aming\", \"alphan sony ndalphan\", \"balphang alphan sony\", \"balphang alphan sony ndalphan\", \"seventeen seventeen seventeen\", \"hit hit hit hit\", \"seventeen coming back\", \"run sotyhome run\", \"best dance performance\", \"home home home home\", \"stream ready love\", \"seventeen seventeen seventeen seventeen\", \"clap aju nice\", \"popular opinion everyone\", \"hit hit sound\", \"clap clap clap\", \"run sotyhome run sotyhome\", \"run sotyhome run sotyhome run\", \"sotyhome run sotyhome\", \"sotyhome run sotyhome run\", \"hit hit hit sound\", \"coming back october\", \"seventeen seventeen seventeen seventeen seventeen\", \"seventeen coming back october\", \"better late never\", \"hit hit hit hit sound\", \"seventeen attacc october\", \"hip hop team\", \"self producing idols\"], \"Freq\": [369.0, 506.0, 251.0, 186.0, 186.0, 183.0, 118.0, 135.0, 147.0, 146.0, 146.0, 146.0, 140.0, 140.0, 136.0, 136.0, 136.0, 132.0, 132.0, 132.0, 91.0, 117.0, 80.0, 101.0, 101.0, 100.0, 100.0, 111.0, 97.0, 69.0, 505.4203052275733, 62.61987985119291, 52.058171039341715, 41.49413273515611, 39.56652931292585, 36.6918945767306, 33.724494286232414, 33.72439078420243, 33.724370448665766, 33.724363873854834, 33.72432375940724, 29.96884076601312, 29.96884076601312, 29.96884076601312, 29.96884076601312, 29.96884076601312, 29.96884076601312, 29.007675349225355, 27.087476871648, 25.159517789104296, 22.284164916875504, 21.32360174320497, 21.321690421073633, 21.31818697549272, 20.36363452211502, 20.36363452211502, 20.36363452211502, 20.36363452211502, 20.36363452211502, 20.36363452211502, 44.20986406725246, 53.69153742033514, 23.333081623629123, 21.3424058316608, 20.872270181414954, 49.850255088687106, 109.88878468559382, 41.25648536866006, 38.38973159263589, 33.615355629114134, 31.70546027264322, 30.75146409846147, 30.748296467382406, 27.88588636072663, 25.02063335293172, 24.066362039129963, 24.066018535482037, 24.06505410999599, 24.064843649674998, 23.110989311208098, 23.110873937967774, 23.109984101214124, 22.15596045802123, 22.15596045802123, 22.15596045802123, 22.15596045802123, 21.20132245817172, 21.200807789992872, 21.200799447684208, 20.246197886201905, 20.245894867899576, 20.245894159730312, 20.2458939955131, 20.243734382865803, 19.291293126289048, 26.930684207644322, 25.8843327088372, 48.87255704775775, 24.80444485866402, 30.190667868822057, 31.49703032914354, 22.760257190523657, 23.916624372983573, 28.625822979256622, 368.6627837947166, 185.32112809167643, 185.32112735951526, 182.6248935204138, 146.6750064790868, 145.77607366095026, 145.77607366095023, 145.77607366095026, 139.48516928806418, 139.48516928806418, 135.8898167681959, 135.8898167681958, 135.88981676819594, 131.39608002526577, 131.39608002526566, 131.39608002526572, 117.01391023865654, 100.83909929571158, 100.83909929571158, 99.94035412601333, 99.94035412601333, 96.34537328524804, 93.64862847297019, 77.47178974947549, 77.47178974947549, 77.47178974947549, 76.57304501971431, 76.57304501971431, 68.48153664797435, 55.001004823695816, 221.43089741929708, 69.32757073456565, 134.97313859154048, 68.60152923729889, 32.54384014449324, 26.071581054450082, 26.068143109039365, 25.14723536970434, 24.21965664951632, 23.29580498008761, 22.37139460380776, 21.44884276191032, 21.448780480661245, 21.447976478010766, 21.446699201708782, 20.525124282552653, 20.525124282552653, 20.525124282552653, 20.525124282552653, 20.525124282552653, 20.525124282552653, 20.525124282552653, 20.525124282552653, 20.525124282552653, 20.525124282552653, 19.60056933243063, 19.60056933243063, 19.60056933243063, 19.60056933243063, 19.60056933243063, 19.60056933243063, 19.60056933243063, 41.78355449653269, 41.67148381910567, 59.318158381080636, 47.12170095027266, 74.16840903412677, 28.90881300288334, 26.138378608783686, 118.08501061660681, 90.93802053926431, 79.91084230057714, 68.88227021313963, 62.09647283624995, 62.09647283624995, 62.09647283624995, 48.52270853532818, 45.12995939930172, 45.12890133243047, 43.433494019232505, 39.191625597045146, 37.495222617279815, 33.25367529511788, 33.25293329594332, 32.40446257881079, 29.860464094748142, 29.01204332595278, 28.16392133790764, 26.467376339208574, 26.467376339208574, 26.467376339208574, 26.467376339208574, 26.46707638716614, 24.77063881374932, 23.921442280806694, 23.07400817357357, 23.072424506727636, 22.225453006352268, 21.377438410006196, 68.58370174900892, 31.87402276342324], \"Total\": [369.0, 506.0, 251.0, 186.0, 186.0, 183.0, 118.0, 135.0, 147.0, 146.0, 146.0, 146.0, 140.0, 140.0, 136.0, 136.0, 136.0, 132.0, 132.0, 132.0, 91.0, 117.0, 80.0, 101.0, 101.0, 100.0, 100.0, 111.0, 97.0, 69.0, 506.16523411183846, 63.35249513892872, 52.7868414693996, 42.220956295459324, 40.29941509096427, 37.41819684880857, 34.531057961845164, 34.53105130226681, 34.531049993827736, 34.53104957078804, 34.531046989724565, 30.6944349307966, 30.6944349307966, 30.6944349307966, 30.6944349307966, 30.6944349307966, 30.6944349307966, 29.733859675821055, 27.81280268232144, 25.89126354521607, 23.01000134957222, 22.04945065285118, 22.0492311008701, 22.049126626544894, 21.08896081813048, 21.08896081813048, 21.08896081813048, 21.08896081813048, 21.08896081813048, 21.08896081813048, 46.05640401207982, 71.8965211512528, 29.36871927408256, 25.869122209593307, 49.7072885918456, 50.5780953368254, 111.70509007383073, 41.98305708225593, 39.117825572154736, 34.34283771725315, 32.432808357680955, 31.477904098218318, 31.477643465950138, 28.612836781649406, 25.747759458895466, 24.792801491873483, 24.792776391222375, 24.792719559787948, 24.792707167048246, 23.83776066367893, 23.837748091555756, 23.837701436059884, 22.88274494732599, 22.88274494732599, 22.88274494732599, 22.88274494732599, 21.92775778619612, 21.927715620858933, 21.92771508888085, 20.9727361582225, 20.972712971771895, 20.972712925375223, 20.972712914956386, 20.97250422910058, 20.01772845825239, 28.506289847936802, 27.596034694992444, 56.40717319594011, 27.42027170718878, 39.050074068896436, 42.30670888750137, 25.571947811551247, 32.87261689369814, 251.60883280008017, 369.4027975653337, 186.05885150712479, 186.05885151287268, 183.36261735061922, 147.41282849173834, 146.51409059394047, 146.51409059394044, 146.51409059394047, 140.2228686611132, 140.2228686611132, 136.62791554561647, 136.62791554561636, 136.6279155456165, 132.13419280813923, 132.13419280813918, 132.1341928081392, 117.75422373357003, 101.57684870310484, 101.57684870310484, 100.67810400748814, 100.67810400748814, 97.08312523183169, 94.38686623184094, 78.20948207930151, 78.20948207930151, 78.20948207930151, 77.31073735072329, 77.31073735072329, 69.22197070594326, 55.74091863279062, 251.60883280008017, 74.74515090489166, 135.895096962037, 69.33452379319874, 33.27683034485604, 26.804978446821995, 26.804906466917732, 25.880414142650327, 24.955664200828814, 24.031157111652217, 23.10655080179762, 22.182226969226473, 22.182218952885876, 22.18214146453591, 22.18200594510901, 21.257650877110134, 21.257650877110134, 21.257650877110134, 21.257650877110134, 21.257650877110134, 21.257650877110134, 21.257650877110134, 21.257650877110134, 21.257650877110134, 21.257650877110134, 20.33309563254581, 20.33309563254581, 20.33309563254581, 20.33309563254581, 20.33309563254581, 20.33309563254581, 20.33309563254581, 43.477639339590986, 43.3609850830254, 62.01044723499836, 53.141930023814226, 90.84602504569705, 44.856654127045104, 49.7072885918456, 118.83301480512469, 91.68708307035097, 80.65891219550767, 69.63090953353988, 62.84431883412776, 62.84431883412776, 62.84431883412776, 49.2713484805028, 45.87806457897095, 45.878169380248416, 44.181437957084526, 39.93988982775649, 38.24324414077608, 34.001678886922974, 34.001714867712565, 33.153472672597225, 30.608425204754543, 29.760107698050298, 28.911787406339485, 27.2151510516772, 27.2151510516772, 27.2151510516772, 27.2151510516772, 27.215169088986947, 25.518534486387885, 24.670269910849118, 23.821908013127807, 23.822069735229373, 22.973605366022163, 22.12527623160564, 75.39698571673456, 39.47621507085155], \"Category\": [\"Default\", \"Default\", \"Default\", \"Default\", \"Default\", \"Default\", \"Default\", \"Default\", \"Default\", \"Default\", \"Default\", \"Default\", \"Default\", \"Default\", \"Default\", \"Default\", \"Default\", \"Default\", \"Default\", \"Default\", \"Default\", \"Default\", \"Default\", \"Default\", \"Default\", \"Default\", \"Default\", \"Default\", \"Default\", \"Default\", \"Topic1\", \"Topic1\", \"Topic1\", \"Topic1\", \"Topic1\", \"Topic1\", \"Topic1\", \"Topic1\", \"Topic1\", \"Topic1\", \"Topic1\", \"Topic1\", \"Topic1\", \"Topic1\", \"Topic1\", \"Topic1\", \"Topic1\", \"Topic1\", \"Topic1\", \"Topic1\", \"Topic1\", \"Topic1\", \"Topic1\", \"Topic1\", \"Topic1\", \"Topic1\", \"Topic1\", \"Topic1\", \"Topic1\", \"Topic1\", \"Topic1\", \"Topic1\", \"Topic1\", \"Topic1\", \"Topic1\", \"Topic2\", \"Topic2\", \"Topic2\", \"Topic2\", \"Topic2\", \"Topic2\", \"Topic2\", \"Topic2\", \"Topic2\", \"Topic2\", \"Topic2\", \"Topic2\", \"Topic2\", \"Topic2\", \"Topic2\", \"Topic2\", \"Topic2\", \"Topic2\", \"Topic2\", \"Topic2\", \"Topic2\", \"Topic2\", \"Topic2\", \"Topic2\", \"Topic2\", \"Topic2\", \"Topic2\", \"Topic2\", \"Topic2\", \"Topic2\", \"Topic2\", \"Topic2\", \"Topic2\", \"Topic2\", \"Topic2\", \"Topic2\", \"Topic2\", \"Topic2\", \"Topic2\", \"Topic3\", \"Topic3\", \"Topic3\", \"Topic3\", \"Topic3\", \"Topic3\", \"Topic3\", \"Topic3\", \"Topic3\", \"Topic3\", \"Topic3\", \"Topic3\", \"Topic3\", \"Topic3\", \"Topic3\", \"Topic3\", \"Topic3\", \"Topic3\", \"Topic3\", \"Topic3\", \"Topic3\", \"Topic3\", \"Topic3\", \"Topic3\", \"Topic3\", \"Topic3\", \"Topic3\", \"Topic3\", \"Topic3\", \"Topic3\", \"Topic3\", \"Topic3\", \"Topic4\", \"Topic4\", \"Topic4\", \"Topic4\", \"Topic4\", \"Topic4\", \"Topic4\", \"Topic4\", \"Topic4\", \"Topic4\", \"Topic4\", \"Topic4\", \"Topic4\", \"Topic4\", \"Topic4\", \"Topic4\", \"Topic4\", \"Topic4\", \"Topic4\", \"Topic4\", \"Topic4\", \"Topic4\", \"Topic4\", \"Topic4\", \"Topic4\", \"Topic4\", \"Topic4\", \"Topic4\", \"Topic4\", \"Topic4\", \"Topic4\", \"Topic4\", \"Topic4\", \"Topic4\", \"Topic4\", \"Topic4\", \"Topic4\", \"Topic5\", \"Topic5\", \"Topic5\", \"Topic5\", \"Topic5\", \"Topic5\", \"Topic5\", \"Topic5\", \"Topic5\", \"Topic5\", \"Topic5\", \"Topic5\", \"Topic5\", \"Topic5\", \"Topic5\", \"Topic5\", \"Topic5\", \"Topic5\", \"Topic5\", \"Topic5\", \"Topic5\", \"Topic5\", \"Topic5\", \"Topic5\", \"Topic5\", \"Topic5\", \"Topic5\", \"Topic5\", \"Topic5\", \"Topic5\", \"Topic5\", \"Topic5\"], \"logprob\": [30.0, 29.0, 28.0, 27.0, 26.0, 25.0, 24.0, 23.0, 22.0, 21.0, 20.0, 19.0, 18.0, 17.0, 16.0, 15.0, 14.0, 13.0, 12.0, 11.0, 10.0, 9.0, 8.0, 7.0, 6.0, 5.0, 4.0, 3.0, 2.0, 1.0, -3.7511, -5.8394, -6.0242, -6.251, -6.2985, -6.374, -6.4583, -6.4583, -6.4583, -6.4583, -6.4583, -6.5764, -6.5764, -6.5764, -6.5764, -6.5764, -6.5764, -6.609, -6.6774, -6.7513, -6.8726, -6.9167, -6.9168, -6.917, -6.9628, -6.9628, -6.9628, -6.9628, -6.9628, -6.9628, -6.1876, -5.9933, -6.8266, -6.9158, -6.9381, -5.673, -4.8826, -5.8623, -5.9343, -6.0671, -6.1256, -6.1561, -6.1562, -6.2539, -6.3624, -6.4012, -6.4013, -6.4013, -6.4013, -6.4418, -6.4418, -6.4418, -6.484, -6.484, -6.484, -6.484, -6.528, -6.528, -6.528, -6.5741, -6.5741, -6.5741, -6.5741, -6.5742, -6.6224, -6.2888, -6.3284, -5.6928, -6.371, -6.1745, -6.1322, -6.457, -6.4075, -6.2277, -3.5058, -4.1936, -4.1936, -4.2083, -4.4275, -4.4336, -4.4336, -4.4336, -4.4778, -4.4778, -4.5039, -4.5039, -4.5039, -4.5375, -4.5375, -4.5375, -4.6534, -4.8022, -4.8022, -4.8111, -4.8111, -4.8478, -4.8762, -5.0658, -5.0658, -5.0658, -5.0775, -5.0775, -5.1892, -5.4084, -4.0156, -5.1769, -4.3572, -5.034, -5.7797, -6.0015, -6.0016, -6.0375, -6.0751, -6.114, -6.1545, -6.1966, -6.1966, -6.1967, -6.1967, -6.2406, -6.2406, -6.2406, -6.2406, -6.2406, -6.2406, -6.2406, -6.2406, -6.2406, -6.2406, -6.2867, -6.2867, -6.2867, -6.2867, -6.2867, -6.2867, -6.2867, -5.5298, -5.5325, -5.1794, -5.4096, -4.956, -5.8982, -5.9989, -4.0319, -4.2931, -4.4224, -4.5709, -4.6746, -4.6746, -4.6746, -4.9213, -4.9938, -4.9938, -5.0321, -5.1348, -5.1791, -5.2991, -5.2992, -5.325, -5.4068, -5.4356, -5.4653, -5.5274, -5.5274, -5.5274, -5.5274, -5.5274, -5.5936, -5.6285, -5.6646, -5.6647, -5.7021, -5.741, -4.5752, -5.3415], \"loglift\": [30.0, 29.0, 28.0, 27.0, 26.0, 25.0, 24.0, 23.0, 22.0, 21.0, 20.0, 19.0, 18.0, 17.0, 16.0, 15.0, 14.0, 13.0, 12.0, 11.0, 10.0, 9.0, 8.0, 7.0, 6.0, 5.0, 4.0, 3.0, 2.0, 1.0, 1.1116, 1.1015, 1.0992, 1.0957, 1.0947, 1.0935, 1.0895, 1.0894, 1.0894, 1.0894, 1.0894, 1.0892, 1.0892, 1.0892, 1.0892, 1.0892, 1.0892, 1.0884, 1.0867, 1.0844, 1.081, 1.0796, 1.0795, 1.0794, 1.0781, 1.0781, 1.0781, 1.0781, 1.0781, 1.0781, 1.0722, 0.8211, 0.883, 0.9207, 0.2454, 1.4931, 1.4912, 1.4901, 1.4888, 1.4861, 1.4849, 1.4842, 1.4841, 1.4818, 1.4789, 1.4778, 1.4778, 1.4778, 1.4778, 1.4766, 1.4766, 1.4765, 1.4753, 1.4753, 1.4753, 1.4753, 1.4739, 1.4738, 1.4738, 1.4723, 1.4723, 1.4723, 1.4723, 1.4722, 1.4706, 1.4507, 1.4435, 1.3642, 1.4073, 1.2502, 1.2125, 1.3911, 1.1895, -0.666, 1.6719, 1.6699, 1.6699, 1.6699, 1.6689, 1.6688, 1.6688, 1.6688, 1.6686, 1.6686, 1.6685, 1.6685, 1.6685, 1.6683, 1.6683, 1.6683, 1.6676, 1.6666, 1.6666, 1.6665, 1.6665, 1.6663, 1.666, 1.6644, 1.6644, 1.6644, 1.6643, 1.6643, 1.6631, 1.6605, 1.5461, 1.5986, 1.8205, 1.8167, 1.805, 1.7996, 1.7994, 1.7986, 1.7974, 1.7962, 1.795, 1.7937, 1.7937, 1.7937, 1.7936, 1.7922, 1.7922, 1.7922, 1.7922, 1.7922, 1.7922, 1.7922, 1.7922, 1.7922, 1.7922, 1.7906, 1.7906, 1.7906, 1.7906, 1.7906, 1.7906, 1.7906, 1.7876, 1.7876, 1.7829, 1.7071, 1.6245, 1.388, 1.1846, 2.28, 2.2781, 2.277, 2.2755, 2.2743, 2.2743, 2.2743, 2.271, 2.2699, 2.2698, 2.2692, 2.2674, 2.2665, 2.2641, 2.264, 2.2635, 2.2616, 2.2608, 2.2601, 2.2584, 2.2584, 2.2584, 2.2584, 2.2584, 2.2566, 2.2555, 2.2544, 2.2543, 2.2532, 2.2519, 2.1916, 2.0724]}, \"token.table\": {\"Topic\": [4, 4, 4, 2, 5, 4, 4, 4, 4, 2, 4, 4, 2, 5, 3, 3, 3, 1, 3, 3, 1, 1, 3, 3, 1, 1, 1, 5, 5, 5, 5, 2, 1, 4, 4, 4, 4, 5, 5, 2, 3, 5, 1, 3, 4, 1, 2, 4, 2, 1, 3, 2, 2, 2, 5, 3, 5, 5, 5, 5, 5, 5, 5, 4, 1, 2, 2, 2, 3, 3, 4, 1, 1, 1, 2, 2, 2, 2, 4, 4, 2, 2, 2, 2, 2, 5, 5, 3, 3, 3, 1, 1, 3, 3, 1, 1, 3, 3, 3, 3, 3, 3, 1, 2, 2, 3, 4, 2, 4, 3, 1, 2, 4, 1, 2, 2, 2, 2, 1, 2, 1, 2, 3, 1, 1, 1, 1, 1, 2, 3, 2, 5, 5, 1, 2, 5, 2, 4, 5, 4, 1, 2, 5, 5, 5, 2, 5, 2, 2, 4, 3, 5, 3, 3, 3, 3, 3, 3, 3, 2, 5, 4, 5, 5, 4, 2, 5, 5, 5, 1, 4, 5, 3, 4, 1, 4, 4, 4, 1, 1, 1, 4, 4, 4, 4, 1, 5, 5, 5, 4, 1, 4, 5, 2, 2, 2, 3, 4, 1, 2, 3], \"Freq\": [0.9878796166801493, 0.9836180560714697, 0.9836180560714697, 0.9885702430473989, 0.9865649139048468, 0.9878796166801493, 0.9878796166801493, 0.9878796166801493, 0.9836180560714697, 0.023000328794056543, 0.9660138093503747, 0.9521109484799638, 0.868683843272734, 0.12409769189610485, 0.9914163564779478, 0.9914163564779475, 0.9914163564779476, 0.9846210875741497, 0.9888433213367903, 0.995404192890531, 0.984621050265216, 0.984621099636737, 0.9943210612411211, 0.9932646327205595, 0.9483634671465516, 0.9483634671465516, 0.9483634671465516, 0.9865649139048468, 0.9865649139048468, 0.9764673905759423, 0.9654912547748253, 0.9536190151402285, 0.9944359707039839, 0.9836180560714697, 0.9836180560714697, 0.9836180560714697, 0.9836180560714697, 0.9652080889387307, 0.9684631256613503, 0.732744304985593, 0.23636913064051385, 0.9796800836402074, 0.4224732548265571, 0.04023554807871973, 0.5230621250233565, 0.00895214353561737, 0.9847357889179109, 0.94670386472618, 0.9785817538356615, 0.7831461694108378, 0.17024916726322561, 0.9576902574699105, 0.9491586440302208, 0.07957877815622387, 0.9151559487965746, 0.9935949326516174, 0.9918308817020673, 0.9808609062516245, 0.9576206977307045, 0.9553495668164456, 0.9744588391358511, 0.9929900389509535, 0.9674911433716342, 0.9699716741070842, 0.7510794560754495, 0.2503598186918165, 0.968023896206193, 0.9536200694168125, 0.9943090505812382, 0.9231368077348323, 0.06689397157498785, 0.9483634671465516, 0.9483634671465516, 0.9483634671465516, 0.9709582707540354, 0.9614231181897981, 0.9614231181897981, 0.9614231181897981, 0.9951752204400147, 0.9916809881834545, 0.9680265990435355, 0.9648581286955514, 0.9614231181897981, 0.9680261151715811, 0.964855731396137, 0.9909392317612054, 0.9925062173717123, 0.9867078144572458, 0.9954041928905318, 0.9954041928905308, 0.9846211732333923, 0.9846208603735237, 0.9943210612411211, 0.9932646327205595, 0.9773758685454784, 0.9773758685454784, 0.9964911866711492, 0.9964911866711494, 0.9845353524004271, 0.9959806701970308, 0.9943090506119552, 0.9980224030619839, 0.9553503132476331, 0.02171250711926439, 0.7300909470520716, 0.2433636490173572, 0.9467042068515841, 0.334398547816703, 0.6465038591122925, 0.9823470685176787, 0.9850939846466145, 0.9848259458664111, 0.9699690694242123, 0.9710817470140857, 0.9765844330885703, 0.9848177916570574, 0.9680229161624455, 0.9536200715264489, 0.8117786073240768, 0.1546244966331575, 0.9888237038653057, 0.9421643467029682, 0.03623709025780647, 0.9773758685454784, 0.9773758685454784, 0.9773758685454784, 0.9773758685454784, 0.003974423269927753, 0.11525827482790485, 0.8783475426540335, 0.7682443814849288, 0.204865168395981, 0.9801222963715222, 0.9524141637379503, 0.9117342186454609, 0.07293873749163687, 0.8994230775651177, 0.03910535119848338, 0.03910535119848338, 0.9659814507682307, 0.975319057672899, 0.9536295609490844, 0.9732594045890468, 0.955350199990813, 0.955350199990813, 0.947159386367994, 0.03507997727288867, 0.9648562402648881, 0.9536200720001888, 0.9467075139509916, 0.17732196431285177, 0.8106146940016081, 0.9971995076957534, 0.991279106804835, 0.991279106804835, 0.9845353524004271, 0.9964911866711492, 0.9845353524004271, 0.9959806701970308, 0.9576921222698996, 0.9491406923092695, 0.9570908255952341, 0.9808586656331042, 0.9654978092991179, 0.9617055193106391, 0.9900171989258502, 0.994492773409476, 0.9705392839270064, 0.9728308643046358, 0.9524186765165631, 0.9686126807216336, 0.02306220668384842, 0.9989095979565167, 0.9934133240856581, 0.03225262982575638, 0.951452579859813, 0.9878796166801493, 0.9878796166801493, 0.9561059847747033, 0.9524046803081927, 0.970775951938203, 0.9878796166801493, 0.9878796166801493, 0.9878796166801493, 0.9878796166801493, 0.9925702373027394, 0.955350199990813, 0.955350199990813, 0.9705403109577563, 0.9467132977948897, 0.9655766686063976, 0.8844240316250864, 0.09408766293883898, 0.9714241383357862, 0.9866552303177762, 0.1320916352032332, 0.0440305450677444, 0.8145650837532713, 0.9976979175310547, 0.9576920990357776, 0.9959012705126719], \"Term\": [\"account trying make\", \"account trying make friends\", \"account trying make friends thank\", \"aju nice clap\", \"alphan sony ndalphan\", \"annoying small account\", \"annoying small account trying\", \"annoying small account trying make\", \"annoying small account trying make friends\", \"appreciate dino everyone\", \"appreciate dino everyone\", \"army support seventeen\", \"attacca concept trailer\", \"attacca concept trailer\", \"august kst august\", \"august kst august kstin\", \"august kst august kstin hours\", \"august kst august kstin hours views\", \"august kst august kstin hours viws\", \"august kstin hours\", \"august kstin hours views\", \"august kstin hours views added\", \"august kstin hours viws\", \"august kstin hours viws added\", \"baksujjakjjakjjakjjakjeogi jeogi iri\", \"baksujjakjjakjjakjjakjeogi jeogi iri ojiurikkiri\", \"baksujjakjjakjjakjjakjeogi jeogi iri ojiurikkiri shini\", \"balphang alphan sony\", \"balphang alphan sony ndalphan\", \"best dance performance\", \"better late never\", \"breathe breathe breathe\", \"call call call\", \"carat fanboy would\", \"carat fanboy would mind\", \"carat fanboy would mind checking\", \"carat fanboy would mind checking video\", \"clap aju nice\", \"clap clap clap\", \"clap left right\", \"clap left right\", \"coming back october\", \"dawn hotter day\", \"dawn hotter day\", \"dawn hotter day\", \"dont wan cry\", \"dont wan cry\", \"drink water alcohol\", \"even non kpopers\", \"feel free ask\", \"feel free ask\", \"game game game\", \"game game game game\", \"hip hop team\", \"hip hop team\", \"hip hop unit\", \"hit hit hit\", \"hit hit hit hit\", \"hit hit hit hit sound\", \"hit hit hit sound\", \"hit hit sound\", \"home home home\", \"home home home home\", \"home run home\", \"home run soty\", \"home run soty\", \"hoshi wonwoo woozi\", \"hoshi wonwoo woozi mingyu\", \"hours viws added\", \"https wwwyoutubecom watchv\", \"https wwwyoutubecom watchv\", \"iri ojiurikkiri shini\", \"jeogi iri ojiurikkiri\", \"jeogi iri ojiurikkiri shini\", \"jeonghan joshua jun\", \"jeonghan joshua jun hoshi\", \"jeonghan joshua jun hoshi wonwoo\", \"jeonghan joshua jun hoshi wonwoo woozi\", \"jikook better motzu\", \"jjak jjak jjak\", \"joshua jun hoshi\", \"joshua jun hoshi wonwoo\", \"joshua jun hoshi wonwoo woozi\", \"jun hoshi wonwoo\", \"jun hoshi wonwoo woozi\", \"keep str aming\", \"keep str ming\", \"keep streaming carats\", \"kst august kstin\", \"kst august kstin hours\", \"kst august kstin hours views\", \"kst august kstin hours views added\", \"kst august kstin hours viws\", \"kst august kstin hours viws added\", \"kst october kstin\", \"kst october kstin hours\", \"kst september kstin\", \"kst september kstin hours\", \"kst september kstin hours viws\", \"kst september kstin hours viws added\", \"kstin hours viws\", \"kstin hours viws added\", \"last say name\", \"last say name\", \"left right home\", \"left right home\", \"let get million\", \"let keep streaming\", \"let keep streaming\", \"let work hard\", \"let work harder\", \"lets work hard\", \"love seventeen much\", \"love song much\", \"million million million\", \"million million million million\", \"million million million million million\", \"mingyu seungkwan vernon\", \"music show wins\", \"music show wins\", \"never gets old\", \"nice left right\", \"nice left right\", \"october kst october\", \"october kst october kstin\", \"october kst october kstin hours\", \"october kstin hours\", \"one fine day\", \"one fine day\", \"one fine day\", \"please vote seventeen\", \"please vote seventeen\", \"popular opinion everyone\", \"proud carat right\", \"rapper sub vocalist\", \"rapper sub vocalist\", \"ready love seventeen\", \"ready love seventeen\", \"ready love seventeen\", \"really like song\", \"really love song\", \"right home run\", \"run sotyhome run\", \"run sotyhome run sotyhome\", \"run sotyhome run sotyhome run\", \"say name seventeen\", \"say name seventeen\", \"scoups jeonghan joshua\", \"scoups jeonghan joshua jun\", \"self producing group\", \"self producing idols\", \"self producing idols\", \"september kst september\", \"september kst september kstin\", \"september kst september kstin hours\", \"september kst september kstin hours viws\", \"september kstin hours\", \"september kstin hours viws\", \"september kstin hours viws added\", \"seungkwan vernon dino\", \"seventeen attacc october\", \"seventeen comeback october\", \"seventeen coming back\", \"seventeen coming back october\", \"seventeen home run\", \"seventeen idol champ\", \"seventeen seventeen seventeen\", \"seventeen seventeen seventeen seventeen\", \"seventeen seventeen seventeen seventeen seventeen\", \"seventeen wan cry\", \"seventeen world domination\", \"seventeen world domination\", \"slip diamond life\", \"slipped diamond life\", \"slipping diamond life\", \"slipping diamond life\", \"small account trying\", \"small account trying make\", \"song never gets\", \"song never gets old\", \"songs makes wan\", \"sorry annoying small\", \"sorry annoying small account\", \"sorry annoying small account trying\", \"sorry annoying small account trying make\", \"sorry bad english\", \"sotyhome run sotyhome\", \"sotyhome run sotyhome run\", \"stream ready love\", \"ulgo shipji anha\", \"unit real name\", \"vote idol champ\", \"vote idol champ\", \"vote seventeen idol\", \"vote seventeen idol champ\", \"watch going seventeen\", \"watch going seventeen\", \"watch going seventeen\", \"welcome diamond life\", \"wonwoo woozi mingyu\", \"wow wow wow\"]}, \"R\": 30, \"lambda.step\": 0.01, \"plot.opts\": {\"xlab\": \"PC1\", \"ylab\": \"PC2\"}, \"topic.order\": [5, 4, 1, 3, 2]};\n",
       "\n",
       "function LDAvis_load_lib(url, callback){\n",
       "  var s = document.createElement('script');\n",
       "  s.src = url;\n",
       "  s.async = true;\n",
       "  s.onreadystatechange = s.onload = callback;\n",
       "  s.onerror = function(){console.warn(\"failed to load library \" + url);};\n",
       "  document.getElementsByTagName(\"head\")[0].appendChild(s);\n",
       "}\n",
       "\n",
       "if(typeof(LDAvis) !== \"undefined\"){\n",
       "   // already loaded: just create the visualization\n",
       "   !function(LDAvis){\n",
       "       new LDAvis(\"#\" + \"ldavis_el33771402482563877924390910878\", ldavis_el33771402482563877924390910878_data);\n",
       "   }(LDAvis);\n",
       "}else if(typeof define === \"function\" && define.amd){\n",
       "   // require.js is available: use it to load d3/LDAvis\n",
       "   require.config({paths: {d3: \"https://d3js.org/d3.v5\"}});\n",
       "   require([\"d3\"], function(d3){\n",
       "      window.d3 = d3;\n",
       "      LDAvis_load_lib(\"https://cdn.jsdelivr.net/gh/bmabey/pyLDAvis@3.3.1/pyLDAvis/js/ldavis.v3.0.0.js\", function(){\n",
       "        new LDAvis(\"#\" + \"ldavis_el33771402482563877924390910878\", ldavis_el33771402482563877924390910878_data);\n",
       "      });\n",
       "    });\n",
       "}else{\n",
       "    // require.js not available: dynamically load d3 & LDAvis\n",
       "    LDAvis_load_lib(\"https://d3js.org/d3.v5.js\", function(){\n",
       "         LDAvis_load_lib(\"https://cdn.jsdelivr.net/gh/bmabey/pyLDAvis@3.3.1/pyLDAvis/js/ldavis.v3.0.0.js\", function(){\n",
       "                 new LDAvis(\"#\" + \"ldavis_el33771402482563877924390910878\", ldavis_el33771402482563877924390910878_data);\n",
       "            })\n",
       "         });\n",
       "}\n",
       "</script>"
      ],
      "text/plain": [
       "<IPython.core.display.HTML object>"
      ]
     },
     "execution_count": 114,
     "metadata": {},
     "output_type": "execute_result"
    }
   ],
   "source": [
    "pyLDAvis.enable_notebook()\n",
    "vis = pyLDAvis.sklearn.prepare(lda, bag, count)\n",
    "pyLDAvis.display(vis)\n"
   ]
  },
  {
   "cell_type": "code",
   "execution_count": 115,
   "metadata": {},
   "outputs": [],
   "source": [
    "pyLDAvis.save_html(vis, path2+'lda.html')"
   ]
  },
  {
   "cell_type": "markdown",
   "metadata": {},
   "source": [
    "#  토크나이즈해서 dictionary 만든 후 작업, 즉 단어 1개씩"
   ]
  },
  {
   "cell_type": "code",
   "execution_count": 48,
   "metadata": {},
   "outputs": [],
   "source": [
    "# gamma, _ = lda.inference(corpus)"
   ]
  },
  {
   "cell_type": "code",
   "execution_count": 49,
   "metadata": {
    "colab": {
     "base_uri": "https://localhost:8080/"
    },
    "id": "Eb-Aj9P99nVf",
    "outputId": "772e96f0-ba2c-4ad5-c393-2e9ec6d26bc9"
   },
   "outputs": [
    {
     "data": {
      "text/plain": [
       "['even carat let admit song universal',\n",
       " 'song tells song need billion views prove legendary',\n",
       " 'fan say song another level',\n",
       " 'years passed song still legend probably legacy passed different generation generation attacca released october hope able reach new milestone boys lately previous comebacks struggle make views together almost years ripe already still lack effort whilst seventeen work hard satisfy every menu aim make taste unending gose segments contents hope able pay back',\n",
       " 'fan really like songs especially one deserves attention views',\n",
       " 'funfact everyone agree successful comeback seventeen',\n",
       " 'proof choreography need jumps flips beautifully done goes well music probably one favorites also video choreography danced speed left awe well synchronized',\n",
       " 'forget fandom carat comes song',\n",
       " 'proves songs need badass become addictive',\n",
       " 'seventeen stan like guys deserves views likes masterpiece']"
      ]
     },
     "execution_count": 49,
     "metadata": {},
     "output_type": "execute_result"
    }
   ],
   "source": [
    "en_sent[:10]"
   ]
  },
  {
   "cell_type": "code",
   "execution_count": 50,
   "metadata": {
    "colab": {
     "base_uri": "https://localhost:8080/"
    },
    "id": "hGfwkwNOZmgv",
    "outputId": "6d434eb3-1a32-473b-e93a-d58ad0f7ba61"
   },
   "outputs": [
    {
     "data": {
      "text/plain": [
       "LatentDirichletAllocation(n_components=5, random_state=1)"
      ]
     },
     "execution_count": 50,
     "metadata": {},
     "output_type": "execute_result"
    }
   ],
   "source": [
    "model = LatentDirichletAllocation(n_components = 5,\n",
    "                                random_state = 1,\n",
    "                                learning_method = 'batch')\n",
    "\n",
    "model.fit(bag) # model.fit_transform(X) is also available"
   ]
  },
  {
   "cell_type": "code",
   "execution_count": 51,
   "metadata": {
    "id": "WiEYGq0NmomE"
   },
   "outputs": [],
   "source": [
    "tokenized_doc = data_en.comment.apply(lambda x: x.split()) # 토큰화"
   ]
  },
  {
   "cell_type": "code",
   "execution_count": 52,
   "metadata": {
    "colab": {
     "base_uri": "https://localhost:8080/"
    },
    "id": "jpnDbn79uupM",
    "outputId": "936e023a-b568-401c-cbe8-4878eb7d2c1c"
   },
   "outputs": [
    {
     "data": {
      "text/plain": [
       "0        [even, if, you, re, not, a, carat, let, s, all...\n",
       "1        [this, song, tells, that, some, song, s, don, ...\n",
       "2        [not, a, fan, but, i, should, say, that, this,...\n",
       "3        [4, years, have, passed, and, this, song, is, ...\n",
       "4        [i, m, not, a, fan, of, them, but, i, really, ...\n",
       "                               ...                        \n",
       "68827    [im, updated, but, i, want, to, binge, watch, ...\n",
       "68828    [anyways, im, currently, binge, watching, thei...\n",
       "68829                [novesuity, dino, thank, you, tho, 🥰]\n",
       "68830    [lui, quinto, did, you, watch, seventeen, proj...\n",
       "68831    [막내온탑, seventeen, im, currently, watching, those]\n",
       "Name: comment, Length: 68832, dtype: object"
      ]
     },
     "execution_count": 52,
     "metadata": {},
     "output_type": "execute_result"
    }
   ],
   "source": [
    "tokenized_doc"
   ]
  },
  {
   "cell_type": "code",
   "execution_count": 92,
   "metadata": {
    "colab": {
     "base_uri": "https://localhost:8080/"
    },
    "id": "2NJg6ORTvTvC",
    "outputId": "06f75f73-95c5-4c86-a9c2-a32abfad5fc5"
   },
   "outputs": [
    {
     "data": {
      "text/plain": [
       "(68832, 17025)"
      ]
     },
     "execution_count": 92,
     "metadata": {},
     "output_type": "execute_result"
    }
   ],
   "source": [
    "vectorizer = TfidfVectorizer(stop_words='english',\n",
    "                        ngram_range=(3,6), # 유니그램 바이그램으로 사용\n",
    "                        min_df = 3, # 3회 미만으로 등장하는 토큰은 무시\n",
    "                        max_df =0.95 # 많이 등장한 단어 5%의 토큰도 무시\n",
    ")\n",
    "\n",
    "X = vectorizer.fit_transform(en_sent)\n",
    "X.shape # TF-IDF 행렬의 크기 확인"
   ]
  },
  {
   "cell_type": "code",
   "execution_count": 93,
   "metadata": {
    "colab": {
     "base_uri": "https://localhost:8080/"
    },
    "id": "U9RCjVlbvydV",
    "outputId": "04b01915-db6c-4e24-8922-b1267428e479"
   },
   "outputs": [
    {
     "data": {
      "text/plain": [
       "5"
      ]
     },
     "execution_count": 93,
     "metadata": {},
     "output_type": "execute_result"
    }
   ],
   "source": [
    "svd_model = TruncatedSVD(n_components=5, algorithm='randomized', n_iter=100, random_state=122)\n",
    "svd_model.fit(X)\n",
    "len(svd_model.components_)"
   ]
  },
  {
   "cell_type": "code",
   "execution_count": 94,
   "metadata": {
    "colab": {
     "base_uri": "https://localhost:8080/"
    },
    "id": "Fu5635ZjvKKO",
    "outputId": "2fe4a8e5-a1e5-4d5f-9d4d-a8b28a539b65"
   },
   "outputs": [
    {
     "data": {
      "text/plain": [
       "(5, 17025)"
      ]
     },
     "execution_count": 94,
     "metadata": {},
     "output_type": "execute_result"
    }
   ],
   "source": [
    "np.shape(svd_model.components_)"
   ]
  },
  {
   "cell_type": "code",
   "execution_count": 95,
   "metadata": {
    "colab": {
     "base_uri": "https://localhost:8080/"
    },
    "id": "DgF96q75v-1T",
    "outputId": "ac71bbf0-c273-4948-fcdb-ee47be66c3b4"
   },
   "outputs": [
    {
     "name": "stdout",
     "output_type": "stream",
     "text": [
      "Topic 1: [('welcome diamond life', 0.99913), ('welcome diamond life dear', 0.01557), ('diamond life dear', 0.01532), ('welcome diamond life hope', 0.00757), ('diamond life hope', 0.00752), ('course welcome diamond', 0.00737), ('course welcome diamond life', 0.00737), ('welcome diamond life baby', 0.00717), ('diamond life baby', 0.00708), ('slip diamond life', 0.00671)]\n",
      "Topic 2: [('slip diamond life', 0.99666), ('welcome slip diamond life', 0.02781), ('welcome slip diamond', 0.02777), ('slip diamond life regret', 0.02685), ('diamond life regret', 0.02565), ('slip diamond life welcome', 0.01804), ('shy slip diamond', 0.01784), ('shy slip diamond life', 0.0178), ('diamond life welcome', 0.01697), ('come slip diamond', 0.01596)]\n",
      "Topic 3: [('kstin hours viws', 0.28401), ('kstin hours viws added', 0.28248), ('hours viws added', 0.28221), ('september kstin hours', 0.21177), ('kst september kstin hours', 0.21177), ('kst september kstin', 0.21177), ('september kst september', 0.21056), ('september kst september kstin', 0.20951), ('september kst september kstin hours', 0.20951), ('august kstin hours', 0.18658)]\n",
      "Topic 4: [('slipped diamond life', 0.99387), ('welcome slipped diamond life', 0.05011), ('welcome slipped diamond', 0.05011), ('slipped diamond life welcome', 0.0329), ('diamond life welcome', 0.03261), ('glad slipped diamond life', 0.01578), ('glad slipped diamond', 0.01578), ('diamond life seventeen', 0.01438), ('diamond life way', 0.01415), ('carats slipped diamond', 0.014)]\n",
      "Topic 5: [('balphang alphan sony ndalphan', 0.57685), ('balphang alphan sony', 0.57685), ('alphan sony ndalphan', 0.57685), ('balphang alphan sony ndalphan yes', 0.01622), ('alphan sony ndalphan yes', 0.01622), ('sony ndalphan yes', 0.01622), ('balphang alphan sony ndalphan fighting', 0.01286), ('sony ndalphan fighting', 0.01286), ('alphan sony ndalphan fighting', 0.01286), ('slipping diamond life', 0.00995)]\n"
     ]
    }
   ],
   "source": [
    "# CountVectorizer객체내의 전체 word들의 명칭을 get_features_names( )를 통해 추출\n",
    "\n",
    "terms = vectorizer.get_feature_names() # \n",
    "\n",
    "def get_topics(components, feature_names, n=10):\n",
    "    for idx, topic in enumerate(components):\n",
    "        print(\"Topic %d:\" % (idx+1), [(feature_names[i], topic[i].round(5)) for i in topic.argsort()[:-n - 1:-1]])\n",
    "get_topics(svd_model.components_,terms)"
   ]
  },
  {
   "cell_type": "code",
   "execution_count": 96,
   "metadata": {
    "colab": {
     "base_uri": "https://localhost:8080/"
    },
    "id": "TMeQnM79v_E1",
    "outputId": "e18d07a2-387e-4021-daba-32223af93960"
   },
   "outputs": [
    {
     "name": "stdout",
     "output_type": "stream",
     "text": [
      "[(11, 1), (12, 2), (13, 1), (16, 1), (17, 1), (18, 1), (19, 1), (20, 1), (21, 1), (22, 1), (23, 1), (24, 1), (25, 1), (26, 1), (27, 1), (28, 1), (29, 1)]\n"
     ]
    }
   ],
   "source": [
    "dictionary = corpora.Dictionary(tokenized_doc)\n",
    "corpus = [dictionary.doc2bow(text) for text in tokenized_doc]\n",
    "print(corpus[1]) # 수행된 결과에서 두번째 뉴스 출력. 첫번째 문서의 인덱스는 0"
   ]
  },
  {
   "cell_type": "code",
   "execution_count": 97,
   "metadata": {
    "colab": {
     "base_uri": "https://localhost:8080/"
    },
    "id": "EZVpJDwUwh_E",
    "outputId": "ca9ed04a-4d8c-4a90-b404-ad84c9181648"
   },
   "outputs": [
    {
     "name": "stdout",
     "output_type": "stream",
     "text": [
      "song\n"
     ]
    }
   ],
   "source": [
    "print(dictionary[12])"
   ]
  },
  {
   "cell_type": "code",
   "execution_count": 98,
   "metadata": {
    "colab": {
     "base_uri": "https://localhost:8080/"
    },
    "id": "mj4YjZnyw1nS",
    "outputId": "17229c04-8bd3-4e8e-90bb-c8aa8147b226"
   },
   "outputs": [
    {
     "data": {
      "text/plain": [
       "50446"
      ]
     },
     "execution_count": 98,
     "metadata": {},
     "output_type": "execute_result"
    }
   ],
   "source": [
    "len(dictionary)"
   ]
  },
  {
   "cell_type": "code",
   "execution_count": 99,
   "metadata": {
    "colab": {
     "base_uri": "https://localhost:8080/"
    },
    "id": "mb7NJjbVw21V",
    "outputId": "23f58817-be32-43f1-d373-66e8dc10bf5d"
   },
   "outputs": [
    {
     "name": "stdout",
     "output_type": "stream",
     "text": [
      "(0, '0.051*\"we\" + 0.026*\"s\" + 0.024*\"carats\" + 0.021*\"to\" + 0.018*\"let\" + 0.018*\"for\" + 0.016*\"it\" + 0.015*\"our\" + 0.014*\"views\" + 0.014*\"on\"')\n",
      "(1, '0.025*\"he\" + 0.023*\"1\" + 0.014*\"is\" + 0.013*\"0\" + 0.012*\"s\" + 0.012*\"2\" + 0.011*\"woozi\" + 0.010*\"the\" + 0.010*\"his\" + 0.010*\"hoshi\"')\n",
      "(2, '0.076*\"you\" + 0.038*\"thank\" + 0.025*\"to\" + 0.025*\"for\" + 0.023*\"seventeen\" + 0.022*\"the\" + 0.022*\"home\" + 0.021*\"thanks\" + 0.017*\"life\" + 0.016*\"welcome\"')\n",
      "(3, '0.038*\"the\" + 0.031*\"and\" + 0.026*\"to\" + 0.022*\"i\" + 0.020*\"is\" + 0.019*\"a\" + 0.019*\"this\" + 0.018*\"they\" + 0.017*\"of\" + 0.016*\"that\"')\n",
      "(4, '0.130*\"i\" + 0.036*\"m\" + 0.029*\"my\" + 0.018*\"me\" + 0.016*\"a\" + 0.014*\"this\" + 0.014*\"and\" + 0.013*\"carat\" + 0.012*\"so\" + 0.012*\"love\"')\n"
     ]
    }
   ],
   "source": [
    "NUM_TOPICS = 5 #5개의 토픽, k=5\n",
    "ldamodel = gensim.models.ldamodel.LdaModel(corpus, num_topics = NUM_TOPICS, id2word=dictionary, passes=15)\n",
    "topics = ldamodel.print_topics(num_words=10)\n",
    "for topic in topics:\n",
    "    print(topic)"
   ]
  },
  {
   "cell_type": "code",
   "execution_count": 100,
   "metadata": {
    "id": "MB58BN1z3bRV"
   },
   "outputs": [],
   "source": [
    "# import pyLDAvis.sklearn  # sklearn의 ldamodel에 최적화된 라이브러리\n",
    "\n",
    "# pyLDAvis.enable_notebook()\n",
    "# vis = pyLDAvis.sklearn.prepare(lda, corpus, terms)\n",
    "# pyLDAvis.display(vis)"
   ]
  },
  {
   "cell_type": "code",
   "execution_count": 101,
   "metadata": {
    "colab": {
     "base_uri": "https://localhost:8080/",
     "height": 502
    },
    "id": "WN_XkO6F8HJa",
    "outputId": "22e4e917-0d17-4832-9df2-5934c5584680"
   },
   "outputs": [
    {
     "data": {
      "text/html": [
       "\n",
       "<link rel=\"stylesheet\" type=\"text/css\" href=\"https://cdn.jsdelivr.net/gh/bmabey/pyLDAvis@3.3.1/pyLDAvis/js/ldavis.v1.0.0.css\">\n",
       "\n",
       "\n",
       "<div id=\"ldavis_el33771402474502480165209975210\"></div>\n",
       "<script type=\"text/javascript\">\n",
       "\n",
       "var ldavis_el33771402474502480165209975210_data = {\"mdsDat\": {\"x\": [0.16117236900238718, 0.07035469060234305, 0.14111850137061493, 0.004723930185466157, -0.37736949116081114], \"y\": [-0.08306886146561819, 0.049325683936276996, -0.17149578937176413, 0.2919973467768808, -0.0867583798757756], \"topics\": [1, 2, 3, 4, 5], \"cluster\": [1, 1, 1, 1, 1], \"Freq\": [49.48341910427606, 16.240379419451482, 15.291356219030613, 10.681351397545622, 8.30349385969623]}, \"tinfo\": {\"Term\": [\"i\", \"you\", \"we\", \"m\", \"thank\", \"my\", \"carats\", \"for\", \"to\", \"the\", \"they\", \"s\", \"me\", \"seventeen\", \"a\", \"let\", \"is\", \"home\", \"he\", \"thanks\", \"1\", \"on\", \"can\", \"views\", \"it\", \"but\", \"life\", \"our\", \"that\", \"welcome\", \"they\", \"how\", \"there\", \"people\", \"some\", \"vote\", \"amazing\", \"would\", \"beautiful\", \"lot\", \"want\", \"these\", \"most\", \"talented\", \"way\", \"groups\", \"ever\", \"fans\", \"those\", \"each\", \"any\", \"such\", \"choreography\", \"makes\", \"doesn\", \"times\", \"own\", \"shows\", \"daesang\", \"true\", \"their\", \"songs\", \"group\", \"one\", \"all\", \"because\", \"even\", \"many\", \"that\", \"have\", \"other\", \"the\", \"of\", \"them\", \"be\", \"song\", \"are\", \"and\", \"is\", \"music\", \"a\", \"not\", \"who\", \"time\", \"this\", \"to\", \"t\", \"if\", \"in\", \"but\", \"it\", \"seventeen\", \"just\", \"so\", \"really\", \"can\", \"i\", \"you\", \"like\", \"s\", \"for\", \"we\", \"views\", \"fighting\", \"keep\", \"streaming\", \"stream\", \"lets\", \"million\", \"today\", \"100m\", \"hours\", \"reach\", \"next\", \"harder\", \"pls\", \"60m\", \"view\", \"voting\", \"str3aming\", \"str3am\", \"goal\", \"champ\", \"10m\", \"1st\", \"hwaiting\", \"close\", \"inkigayo\", \"30m\", \"august\", \"october\", \"let\", \"soon\", \"our\", \"carats\", \"please\", \"vi3ws\", \"go\", \"trending\", \"week\", \"do\", \"work\", \"s\", \"on\", \"give\", \"get\", \"as\", \"can\", \"comeback\", \"at\", \"for\", \"it\", \"to\", \"make\", \"this\", \"in\", \"t\", \"and\", \"of\", \"don\", \"the\", \"m\", \"am\", \"army\", \"she\", \"crying\", \"wow\", \"haha\", \"lmao\", \"ago\", \"xd\", \"found\", \"became\", \"nan\", \"friend\", \"myself\", \"her\", \"knew\", \"e\", \"hahaha\", \"x\", \"thinking\", \"happened\", \"felt\", \"miss\", \"fanboy\", \"gomapda\", \"suddenly\", \"problem\", \"earlier\", \"loyal\", \"omg\", \"same\", \"l\", \"i\", \"im\", \"my\", \"saw\", \"sorry\", \"was\", \"lol\", \"me\", \"exo\", \"too\", \"carat\", \"oh\", \"here\", \"yeah\", \"now\", \"love\", \"but\", \"a\", \"so\", \"this\", \"like\", \"and\", \"it\", \"bts\", \"an\", \"just\", \"is\", \"t\", \"s\", \"that\", \"song\", \"them\", \"thank\", \"home\", \"life\", \"welcome\", \"<\", \"diamond\", \">\", \"^\", \"run\", \"slip\", \"\\u2661\", \"dear\", \"waiting\", \"50m\", \"slipped\", \"art\", \"boom\", \"2020\", \"track\", \"melon\", \"closer\", \"project\", \"mama\", \"fear\", \"caratdeul\", \"flower\", \"20m\", \"japanese\", \"japan\", \"variety\", \"weekly\", \"thanks\", \"3\", \"you\", \"nice\", \"into\", \"u\", \"aju\", \"for\", \"seventeen\", \"your\", \"to\", \"yes\", \"much\", \"happy\", \"the\", \"my\", \"love\", \"carat\", \"re\", \"our\", \"so\", \"and\", \"he\", \"1\", \"0\", \"woozi\", \"his\", \"hoshi\", \"vocal\", \"jeonghan\", \"wonwoo\", \"mingyu\", \"unit\", \"jun\", \"joshua\", \"vernon\", \"team\", \"seungkwan\", \"dino\", \"dk\", \"leader\", \"main\", \"scoups\", \"the8\", \"voice\", \"[\", \"]\", \"minghao\", \"hair\", \"hop\", \"handsome\", \"hip\", \"2\", \"performance\", \"him\", \"is\", \"s\", \"the\", \"in\", \"3\", \"name\"], \"Freq\": [34714.0, 16132.0, 9396.0, 6228.0, 4528.0, 7560.0, 6038.0, 12047.0, 22085.0, 26251.0, 9921.0, 12930.0, 5919.0, 11687.0, 13524.0, 3393.0, 13620.0, 2597.0, 2302.0, 2925.0, 2109.0, 5629.0, 6695.0, 2587.0, 13124.0, 7433.0, 2021.0, 3328.0, 9954.0, 1937.0, 9920.988593892538, 2588.4424393784593, 1815.5052231524571, 1479.072742817472, 1143.5411036849332, 1085.464266423428, 1052.6747252726802, 1030.478515261372, 1025.4615756997691, 965.698910033946, 1523.5519721192627, 884.121644309351, 839.3380627144086, 832.7594658057494, 819.9300809805212, 782.5242484832804, 762.6292640941468, 736.3020110124465, 711.9568814795502, 669.2222197949318, 630.0936519543231, 638.1094752447556, 594.9479796118634, 595.9845577785268, 515.5631680024542, 502.1328108545613, 496.03978710703007, 479.0169487977524, 468.80422046726625, 458.29613915887205, 6293.615560348222, 1782.030889342118, 1933.7425802836644, 3270.727506378913, 4471.172222516395, 2164.8574713271396, 2089.9858975337074, 1096.7992451021576, 8894.83533797061, 4062.227483452953, 1950.100151523464, 21241.72743194129, 9230.562687843321, 5214.778428656465, 3990.6703867034307, 5709.516466437918, 6687.40740185142, 17271.180163892845, 10957.445643417981, 1735.2581017047862, 10592.691765706499, 4087.877286276668, 2236.797542546311, 2032.9976850201667, 10398.06640143054, 14565.736230025312, 6696.397100498334, 2794.576270937485, 6236.884916683967, 5343.310222702411, 8296.260406896012, 7541.121562026879, 3853.568385557238, 6376.045909176317, 2954.7516066904723, 4331.347424937188, 12246.31912561127, 7029.080927439528, 3487.049732379913, 5801.239046849928, 5411.252778597225, 9395.452318033651, 2586.4636438587836, 2296.881259896938, 1952.9180397746868, 1607.7160727343733, 1495.0499847729104, 1114.3988887921178, 831.7940739771225, 764.8427118335784, 725.5089571770445, 680.6100112896371, 614.5267188342667, 547.8222189397842, 506.1557695721373, 458.52299914424157, 400.682124981915, 391.15822376984863, 377.0933452261767, 364.06470807904924, 354.0605386645714, 334.02488206254657, 285.14500517947477, 281.54436914644987, 279.8607114559128, 277.67769937491056, 275.7522975192593, 270.5711971632862, 262.8278560311604, 243.8910307272864, 228.7917021164517, 3381.8521043070623, 411.29489855378466, 2711.3981202476916, 4475.208588059358, 1617.4760882192118, 349.2978629966456, 1106.9541238822717, 345.73337343149905, 494.8542298530502, 1965.6061110858163, 898.9670491555877, 4827.655544132772, 2504.200680572688, 915.0241845264733, 1385.446302341357, 1667.5072354355452, 2358.1587141764267, 811.1060109492563, 1475.2172388740491, 3245.8670022645874, 2964.691071186299, 3815.8345733348524, 1084.1637225716238, 1819.0743440557917, 1471.2319575070294, 1361.5855390745155, 1656.2133301916797, 1369.1735250334889, 1075.4735572345842, 1419.5098806558838, 6227.46261137681, 1695.202215360667, 1310.343827780557, 484.3292051999005, 479.33559316945286, 460.4954983064526, 449.04052626327507, 375.6201972921094, 375.9058838812351, 364.8497646920352, 366.03066149268614, 353.80276145106853, 330.6124316794063, 319.1107353817379, 307.8509128999684, 261.96026569295424, 237.17908247949822, 232.57400260392708, 220.4600117568632, 214.04931151812576, 202.1000703522382, 191.47944852257913, 189.57955640400485, 182.50967672793197, 165.0074376244803, 163.9175697914848, 144.5295140754313, 139.46783362095104, 137.516157294241, 116.40785789318842, 940.8487445339649, 1653.9109053834204, 472.12311114899074, 22467.92645448398, 1388.2745833674442, 5037.575156582845, 371.7966393045022, 698.5959943288515, 2008.0382668766458, 843.8728856447342, 3098.457313552556, 557.6545194859564, 1849.7001091855025, 2244.1866247511684, 656.5676579290265, 1596.2540989840672, 624.6666982743882, 1428.6636152614074, 2076.5752586801327, 2046.4558444504853, 2756.280438134448, 2122.470483940445, 2433.9099882504306, 1343.173770829382, 2369.1769571537675, 1863.2977306471228, 645.4227486008672, 689.1990178764703, 908.3579790127973, 1177.91215085097, 1054.4876733096576, 1142.6007422813047, 1059.1843544095464, 914.2650331512367, 768.1800752699354, 4527.749684566231, 2597.189799669838, 2020.9550792535467, 1936.4848119000533, 1871.055570562396, 1643.389655754793, 1429.3300680875186, 1424.9655902892193, 591.8457765224349, 437.6077376765271, 409.4320751766267, 335.20537646342, 289.7909972423637, 265.44904998567074, 248.01689007547017, 234.94464959375742, 219.22851254414482, 216.1871541801932, 211.51726560452695, 213.84202018261234, 193.61198898515786, 188.80687812225415, 188.990896005104, 173.05790678424586, 172.85369181669296, 167.2362934791424, 163.13002979847013, 157.09867537902701, 154.57848595493326, 147.46092109955842, 147.99324051326272, 2528.4766245654937, 1911.6109800280074, 9102.874548660104, 905.3565386066119, 964.9095503559479, 1417.004909353519, 382.3363676267014, 2975.4612234849887, 2772.8505776936804, 1016.9254589182166, 3002.574014402392, 636.5684616954254, 849.0646828006589, 569.4364939112764, 2630.62921516444, 1137.7907607005486, 900.8644264535922, 837.8669702171932, 638.5827842764745, 616.7028335935747, 783.5274431628536, 717.594452870895, 2301.481135933165, 2108.305644188333, 1225.525493485676, 1017.6922051862114, 945.3328003631028, 937.7007010954159, 890.6846598359735, 888.4473749677278, 842.8622923524265, 819.9394775467555, 814.4113803184056, 771.8415600262172, 747.8217786915174, 733.8268199751557, 730.3424509413943, 623.5305687961528, 611.8279351738494, 600.3888142649838, 581.3407092387329, 580.0103669186404, 526.118789622231, 496.10860805314974, 433.8122748801047, 407.8514315089484, 404.68461230414124, 397.0128247595214, 373.59080993431854, 368.7943726332503, 345.8917290672292, 342.9325318869705, 1141.1490017691801, 572.9227820877746, 444.26341937428793, 1329.4987479469016, 1158.4372152011495, 959.49549656637, 719.1841136884563, 571.6978971892468, 452.22209646359414], \"Total\": [34714.0, 16132.0, 9396.0, 6228.0, 4528.0, 7560.0, 6038.0, 12047.0, 22085.0, 26251.0, 9921.0, 12930.0, 5919.0, 11687.0, 13524.0, 3393.0, 13620.0, 2597.0, 2302.0, 2925.0, 2109.0, 5629.0, 6695.0, 2587.0, 13124.0, 7433.0, 2021.0, 3328.0, 9954.0, 1937.0, 9921.740356518147, 2589.1948928753395, 1816.259072410827, 1479.820992630477, 1144.294335176204, 1086.2409272544655, 1053.4333089828142, 1031.2334755983197, 1026.2236736716216, 966.4513170207426, 1524.7799623373178, 884.8804262009055, 840.0913433615581, 833.5149720839098, 820.6857413391439, 783.2719150401166, 763.3845071296769, 737.0504324962109, 712.7213513725302, 669.9765480958922, 630.8450356520343, 638.8716444867644, 595.6980659365142, 596.7443200197849, 516.311013611186, 502.88685588153584, 496.79191947415796, 479.76903253604337, 469.5731424171593, 459.0500490644491, 6461.897238969092, 1814.515311368216, 1984.7899513543714, 3436.9521766720977, 4748.37764729398, 2258.499778084654, 2182.445164199219, 1123.925459517654, 9954.593139923, 4450.040794904929, 2064.8700423149403, 26251.542302530175, 11040.509767742844, 5983.5338980443275, 4491.934765056833, 6624.353020759755, 7919.61697214947, 22295.215387375403, 13620.00924247149, 1842.7370032560457, 13524.348623339669, 4736.282322544113, 2438.8273972473344, 2210.9129245596796, 14651.42658004459, 22085.093685945336, 9114.42022827213, 3267.324320145346, 9024.902931341012, 7433.056177335486, 13124.625152614159, 11687.568941801568, 4933.554185794129, 10063.503593167557, 3627.4822792819164, 6695.128099216352, 34714.819628509904, 16132.529827396631, 4830.795385608262, 12930.113856720402, 12047.106138199244, 9396.176213750688, 2587.1871229632925, 2297.6018649423786, 1953.6424851766826, 1608.44061683939, 1495.7738854988434, 1115.1170890864653, 832.5115623239094, 765.5718104424019, 726.2236510205331, 681.3292884318173, 615.2467945360341, 548.5456626224545, 506.87532492243383, 459.25009898347656, 401.39789927555813, 391.8863796924097, 377.8127787453387, 364.78543694565064, 354.7776612283562, 334.74049222273993, 285.8613585542766, 282.2632354904809, 280.5830004196736, 278.40131024364763, 276.4763088042882, 271.2896466913535, 263.54749164790695, 244.6078213223678, 229.51121297887067, 3393.625658678722, 418.20523387217855, 3328.648464266033, 6038.794792298266, 2000.2482797581074, 360.66272741480947, 1415.0251539527997, 360.13746485532164, 564.3709190802722, 3551.2713786704117, 1283.7035954904868, 12930.113856720402, 5629.033446258117, 1418.7004262978523, 2803.38233214426, 3785.355255426659, 6695.128099216352, 1239.4038726209171, 3265.3617402418745, 12047.106138199244, 13124.625152614159, 22085.093685945336, 2136.3672868615017, 14651.42658004459, 9024.902931341012, 9114.42022827213, 22295.215387375403, 11040.509767742844, 3931.017898253142, 26251.542302530175, 6228.208705261623, 1695.9535796821688, 1311.0868377936877, 485.06851982810645, 480.0809520393164, 461.23635449455503, 449.7846696333061, 376.3592417589901, 376.6546290565752, 365.5896294003065, 366.77535053806594, 354.5629440749183, 331.37986592662185, 319.86102873913484, 308.5949871445843, 262.7008531482361, 237.92451315134716, 233.31777330966034, 221.19750576963048, 214.80035412972995, 202.851327047145, 192.2238906719987, 190.32675832731772, 183.25192041107977, 165.75807616832208, 164.72502089140585, 145.28225950377544, 140.21868151242379, 138.27880160508883, 117.15934269050092, 962.5870545474727, 1853.301978325128, 502.2756268346551, 34714.819628509904, 1767.509847861848, 7560.364216973862, 411.05991451196695, 847.1113419031211, 3046.1307360081178, 1105.5833484747222, 5919.939001791399, 704.776080960456, 3357.4582260460857, 4502.693948821216, 905.9528685139409, 3144.8039506776645, 854.8827546469795, 2866.8644254638216, 5141.461313757084, 7433.056177335486, 13524.348623339669, 10063.503593167557, 14651.42658004459, 4830.795385608262, 22295.215387375403, 13124.625152614159, 1186.358096244593, 1537.388341266083, 4933.554185794129, 13620.00924247149, 9114.42022827213, 12930.113856720402, 9954.593139923, 6624.353020759755, 5983.5338980443275, 4528.491447943432, 2597.935357955867, 2021.6962251524017, 1937.2193023204525, 1871.7946390610084, 1644.1263175037943, 1430.066860687836, 1425.7021618958238, 592.5831739705886, 438.3425766953064, 410.17598907022153, 335.9533313249936, 290.5493356866468, 266.216581212333, 248.7572277412418, 235.71940866074698, 219.96865196656788, 216.92737206064928, 212.26501261152677, 214.6210790724096, 194.35391541855384, 189.549345794771, 189.74807749400446, 173.79833986785576, 173.60571407834507, 167.9720528649275, 163.88301524501543, 157.83739783894916, 155.32457848775405, 148.20494083824704, 148.75985937273362, 2925.821288179949, 2684.3930552268166, 16132.529827396631, 1280.4271311281675, 1483.0614760901985, 2639.8451572852127, 497.3625362899712, 12047.106138199244, 11687.568941801568, 2686.4813829054156, 22085.093685945336, 1500.3528903643098, 2726.413583552824, 1327.5650714960018, 26251.542302530175, 7560.364216973862, 5141.461313757084, 4502.693948821216, 2777.113361453432, 3328.648464266033, 10063.503593167557, 22295.215387375403, 2302.206070755996, 2109.0367236237175, 1226.2446525147866, 1018.4203187290814, 946.0573326169724, 938.4259196309071, 891.4078562990974, 889.1709489276213, 843.586701829454, 820.6644456412575, 815.1335927142028, 772.5642986635612, 748.5462073167026, 734.5509915501714, 731.0654376935341, 624.2540692593108, 612.5550926607586, 601.116117378748, 582.060449229014, 580.7476467539051, 526.8462651752967, 496.8360712565282, 434.54423513553985, 408.57998203750014, 405.4135775160555, 397.7400265356599, 374.3134618555195, 369.51791681839563, 346.6151342967902, 343.6558097050575, 1603.1221646855593, 928.9622382874104, 584.212622641313, 13620.00924247149, 12930.113856720402, 26251.542302530175, 9024.902931341012, 2684.3930552268166, 876.2978508546312], \"Category\": [\"Default\", \"Default\", \"Default\", \"Default\", \"Default\", \"Default\", \"Default\", \"Default\", \"Default\", \"Default\", \"Default\", \"Default\", \"Default\", \"Default\", \"Default\", \"Default\", \"Default\", \"Default\", \"Default\", \"Default\", \"Default\", \"Default\", \"Default\", \"Default\", \"Default\", \"Default\", \"Default\", \"Default\", \"Default\", \"Default\", \"Topic1\", \"Topic1\", \"Topic1\", \"Topic1\", \"Topic1\", \"Topic1\", \"Topic1\", \"Topic1\", \"Topic1\", \"Topic1\", \"Topic1\", \"Topic1\", \"Topic1\", \"Topic1\", \"Topic1\", \"Topic1\", \"Topic1\", \"Topic1\", \"Topic1\", \"Topic1\", \"Topic1\", \"Topic1\", \"Topic1\", \"Topic1\", \"Topic1\", \"Topic1\", \"Topic1\", \"Topic1\", \"Topic1\", \"Topic1\", \"Topic1\", \"Topic1\", \"Topic1\", \"Topic1\", \"Topic1\", \"Topic1\", \"Topic1\", \"Topic1\", \"Topic1\", \"Topic1\", \"Topic1\", \"Topic1\", \"Topic1\", \"Topic1\", \"Topic1\", \"Topic1\", \"Topic1\", \"Topic1\", \"Topic1\", \"Topic1\", \"Topic1\", \"Topic1\", \"Topic1\", \"Topic1\", \"Topic1\", \"Topic1\", \"Topic1\", \"Topic1\", \"Topic1\", \"Topic1\", \"Topic1\", \"Topic1\", \"Topic1\", \"Topic1\", \"Topic1\", \"Topic1\", \"Topic1\", \"Topic1\", \"Topic1\", \"Topic1\", \"Topic1\", \"Topic2\", \"Topic2\", \"Topic2\", \"Topic2\", \"Topic2\", \"Topic2\", \"Topic2\", \"Topic2\", \"Topic2\", \"Topic2\", \"Topic2\", \"Topic2\", \"Topic2\", \"Topic2\", \"Topic2\", \"Topic2\", \"Topic2\", \"Topic2\", \"Topic2\", \"Topic2\", \"Topic2\", \"Topic2\", \"Topic2\", \"Topic2\", \"Topic2\", \"Topic2\", \"Topic2\", \"Topic2\", \"Topic2\", \"Topic2\", \"Topic2\", \"Topic2\", \"Topic2\", \"Topic2\", \"Topic2\", \"Topic2\", \"Topic2\", \"Topic2\", \"Topic2\", \"Topic2\", \"Topic2\", \"Topic2\", \"Topic2\", \"Topic2\", \"Topic2\", \"Topic2\", \"Topic2\", \"Topic2\", \"Topic2\", \"Topic2\", \"Topic2\", \"Topic2\", \"Topic2\", \"Topic2\", \"Topic2\", \"Topic2\", \"Topic2\", \"Topic2\", \"Topic2\", \"Topic2\", \"Topic3\", \"Topic3\", \"Topic3\", \"Topic3\", \"Topic3\", \"Topic3\", \"Topic3\", \"Topic3\", \"Topic3\", \"Topic3\", \"Topic3\", \"Topic3\", \"Topic3\", \"Topic3\", \"Topic3\", \"Topic3\", \"Topic3\", \"Topic3\", \"Topic3\", \"Topic3\", \"Topic3\", \"Topic3\", \"Topic3\", \"Topic3\", \"Topic3\", \"Topic3\", \"Topic3\", \"Topic3\", \"Topic3\", \"Topic3\", \"Topic3\", \"Topic3\", \"Topic3\", \"Topic3\", \"Topic3\", \"Topic3\", \"Topic3\", \"Topic3\", \"Topic3\", \"Topic3\", \"Topic3\", \"Topic3\", \"Topic3\", \"Topic3\", \"Topic3\", \"Topic3\", \"Topic3\", \"Topic3\", \"Topic3\", \"Topic3\", \"Topic3\", \"Topic3\", \"Topic3\", \"Topic3\", \"Topic3\", \"Topic3\", \"Topic3\", \"Topic3\", \"Topic3\", \"Topic3\", \"Topic3\", \"Topic3\", \"Topic3\", \"Topic3\", \"Topic3\", \"Topic4\", \"Topic4\", \"Topic4\", \"Topic4\", \"Topic4\", \"Topic4\", \"Topic4\", \"Topic4\", \"Topic4\", \"Topic4\", \"Topic4\", \"Topic4\", \"Topic4\", \"Topic4\", \"Topic4\", \"Topic4\", \"Topic4\", \"Topic4\", \"Topic4\", \"Topic4\", \"Topic4\", \"Topic4\", \"Topic4\", \"Topic4\", \"Topic4\", \"Topic4\", \"Topic4\", \"Topic4\", \"Topic4\", \"Topic4\", \"Topic4\", \"Topic4\", \"Topic4\", \"Topic4\", \"Topic4\", \"Topic4\", \"Topic4\", \"Topic4\", \"Topic4\", \"Topic4\", \"Topic4\", \"Topic4\", \"Topic4\", \"Topic4\", \"Topic4\", \"Topic4\", \"Topic4\", \"Topic4\", \"Topic4\", \"Topic4\", \"Topic4\", \"Topic4\", \"Topic4\", \"Topic5\", \"Topic5\", \"Topic5\", \"Topic5\", \"Topic5\", \"Topic5\", \"Topic5\", \"Topic5\", \"Topic5\", \"Topic5\", \"Topic5\", \"Topic5\", \"Topic5\", \"Topic5\", \"Topic5\", \"Topic5\", \"Topic5\", \"Topic5\", \"Topic5\", \"Topic5\", \"Topic5\", \"Topic5\", \"Topic5\", \"Topic5\", \"Topic5\", \"Topic5\", \"Topic5\", \"Topic5\", \"Topic5\", \"Topic5\", \"Topic5\", \"Topic5\", \"Topic5\", \"Topic5\", \"Topic5\", \"Topic5\", \"Topic5\", \"Topic5\", \"Topic5\"], \"logprob\": [30.0, 29.0, 28.0, 27.0, 26.0, 25.0, 24.0, 23.0, 22.0, 21.0, 20.0, 19.0, 18.0, 17.0, 16.0, 15.0, 14.0, 13.0, 12.0, 11.0, 10.0, 9.0, 8.0, 7.0, 6.0, 5.0, 4.0, 3.0, 2.0, 1.0, -4.03, -5.3736, -5.7283, -5.9332, -6.1905, -6.2426, -6.2733, -6.2946, -6.2995, -6.3595, -5.9036, -6.4478, -6.4998, -6.5076, -6.5232, -6.5699, -6.5956, -6.6307, -6.6644, -6.7263, -6.7865, -6.7739, -6.8439, -6.8422, -6.9871, -7.0135, -7.0257, -7.0606, -7.0822, -7.1049, -4.4851, -5.7469, -5.6652, -5.1396, -4.827, -5.5523, -5.5875, -6.2322, -4.1392, -4.9229, -5.6567, -3.2687, -4.1021, -4.6731, -4.9407, -4.5825, -4.4244, -3.4756, -3.9306, -5.7735, -3.9645, -4.9166, -5.5196, -5.6151, -3.983, -3.646, -4.4231, -5.2969, -4.4941, -4.6488, -4.2088, -4.3043, -4.9756, -4.4721, -5.2412, -4.8587, -3.8194, -4.3746, -5.0756, -4.5666, -4.6361, -2.9703, -4.2602, -4.3789, -4.5412, -4.7357, -4.8083, -5.1022, -5.3947, -5.4786, -5.5314, -5.5953, -5.6974, -5.8123, -5.8914, -5.9902, -6.1251, -6.1491, -6.1858, -6.2209, -6.2488, -6.307, -6.4652, -6.478, -6.484, -6.4918, -6.4987, -6.5177, -6.5467, -6.6215, -6.6854, -3.9921, -6.0989, -4.213, -3.7119, -4.7296, -6.2623, -5.1089, -6.2726, -5.914, -4.5347, -5.317, -3.6361, -4.2925, -5.2993, -4.8845, -4.6992, -4.3526, -5.4198, -4.8217, -4.0331, -4.1237, -3.8713, -5.1297, -4.6122, -4.8244, -4.9018, -4.706, -4.8963, -5.1377, -4.8602, -3.3213, -4.6225, -4.88, -5.8753, -5.8856, -5.9257, -5.9509, -6.1295, -6.1287, -6.1585, -6.1553, -6.1893, -6.2571, -6.2925, -6.3284, -6.4898, -6.5892, -6.6088, -6.6623, -6.6918, -6.7493, -6.8032, -6.8132, -6.8512, -6.952, -6.9587, -7.0845, -7.1202, -7.1343, -7.3009, -5.2112, -4.6471, -5.9008, -2.0382, -4.8222, -3.5333, -6.1397, -5.509, -4.4531, -5.32, -4.0194, -5.7343, -4.5353, -4.3419, -5.571, -4.6826, -5.6208, -4.7935, -4.4196, -4.4342, -4.1364, -4.3977, -4.2608, -4.8552, -4.2877, -4.5279, -5.5881, -5.5225, -5.2464, -4.9865, -5.0972, -5.017, -5.0928, -5.2399, -5.414, -3.2813, -3.8371, -4.0879, -4.1306, -4.165, -4.2947, -4.4343, -4.4373, -5.316, -5.6179, -5.6845, -5.8845, -6.0301, -6.1178, -6.1857, -6.2399, -6.3091, -6.3231, -6.3449, -6.334, -6.4334, -6.4585, -6.4575, -6.5456, -6.5468, -6.5798, -6.6047, -6.6424, -6.6585, -6.7057, -6.7021, -3.8639, -4.1435, -2.5829, -4.8909, -4.8272, -4.4429, -5.7529, -3.7011, -3.7716, -4.7747, -3.692, -5.2431, -4.9551, -5.3546, -3.8243, -4.6624, -4.8959, -4.9684, -5.24, -5.2749, -5.0354, -5.1233, -3.7061, -3.7938, -4.3363, -4.5221, -4.5959, -4.604, -4.6554, -4.6579, -4.7106, -4.7382, -4.745, -4.7986, -4.8303, -4.8491, -4.8539, -5.012, -5.031, -5.0498, -5.0821, -5.0844, -5.1819, -5.2406, -5.3748, -5.4365, -5.4443, -5.4634, -5.5243, -5.5372, -5.6013, -5.6099, -4.4076, -5.0967, -5.351, -4.2549, -4.3926, -4.581, -4.8693, -5.0988, -5.3332], \"loglift\": [30.0, 29.0, 28.0, 27.0, 26.0, 25.0, 24.0, 23.0, 22.0, 21.0, 20.0, 19.0, 18.0, 17.0, 16.0, 15.0, 14.0, 13.0, 12.0, 11.0, 10.0, 9.0, 8.0, 7.0, 6.0, 5.0, 4.0, 3.0, 2.0, 1.0, 0.7035, 0.7032, 0.7031, 0.703, 0.7029, 0.7028, 0.7028, 0.7028, 0.7028, 0.7028, 0.7027, 0.7027, 0.7026, 0.7026, 0.7026, 0.7026, 0.7025, 0.7025, 0.7025, 0.7024, 0.7023, 0.7023, 0.7023, 0.7023, 0.7021, 0.702, 0.702, 0.702, 0.7019, 0.7019, 0.6771, 0.6855, 0.6775, 0.654, 0.6434, 0.6612, 0.6602, 0.6791, 0.591, 0.6124, 0.6463, 0.4918, 0.5245, 0.566, 0.5852, 0.5549, 0.5344, 0.4482, 0.486, 0.6434, 0.4592, 0.5563, 0.6171, 0.6196, 0.3606, 0.2873, 0.3952, 0.5472, 0.334, 0.3734, 0.2448, 0.2654, 0.4565, 0.2472, 0.4984, 0.268, -0.3384, -0.1272, 0.3776, -0.098, -0.0968, 1.8176, 1.8174, 1.8174, 1.8173, 1.8172, 1.8172, 1.817, 1.8168, 1.8167, 1.8167, 1.8166, 1.8165, 1.8163, 1.8162, 1.8161, 1.8159, 1.8158, 1.8158, 1.8157, 1.8156, 1.8155, 1.8152, 1.8151, 1.8151, 1.8151, 1.815, 1.815, 1.8149, 1.8147, 1.8145, 1.8142, 1.801, 1.6126, 1.518, 1.6053, 1.7857, 1.5721, 1.7769, 1.6862, 1.2262, 1.4614, 0.8325, 1.0077, 1.3791, 1.1129, 0.9979, 0.7742, 1.3937, 1.0231, 0.5062, 0.33, 0.0619, 1.1394, -0.2685, 0.0038, -0.0835, -0.7822, -0.2697, 0.5215, -1.0997, 1.8778, 1.8774, 1.8773, 1.8764, 1.8763, 1.8763, 1.8762, 1.8759, 1.8759, 1.8759, 1.8759, 1.8757, 1.8756, 1.8755, 1.8755, 1.8751, 1.8747, 1.8747, 1.8745, 1.8744, 1.8742, 1.874, 1.8739, 1.8738, 1.8733, 1.873, 1.8727, 1.8725, 1.8724, 1.8714, 1.855, 1.7641, 1.816, 1.4428, 1.6364, 1.4719, 1.7775, 1.6851, 1.4612, 1.6078, 1.2305, 1.6437, 1.2817, 1.1815, 1.5559, 1.1998, 1.5641, 1.1814, 0.9713, 0.5881, 0.2873, 0.3215, 0.0828, 0.5979, -0.3639, -0.0743, 1.2691, 1.0756, 0.1857, -0.5699, -0.2789, -0.5484, -0.3627, -0.1025, -0.1749, 2.2365, 2.2364, 2.2363, 2.2363, 2.2363, 2.2362, 2.2362, 2.2362, 2.2354, 2.235, 2.2349, 2.2344, 2.2341, 2.2338, 2.2337, 2.2334, 2.2333, 2.2333, 2.2331, 2.233, 2.2328, 2.2327, 2.2327, 2.2324, 2.2323, 2.2323, 2.2321, 2.232, 2.2319, 2.2316, 2.2315, 2.0907, 1.8972, 1.6644, 1.8901, 1.8068, 1.6145, 1.9737, 0.8382, 0.798, 1.2652, 0.2412, 1.3793, 1.0701, 1.3902, -0.0638, 0.3428, 0.4949, 0.5551, 0.7668, 0.5507, -0.3162, -1.1996, 2.4882, 2.4881, 2.4879, 2.4878, 2.4877, 2.4877, 2.4877, 2.4877, 2.4876, 2.4876, 2.4876, 2.4876, 2.4875, 2.4875, 2.4875, 2.4873, 2.4873, 2.4873, 2.4873, 2.4872, 2.4871, 2.487, 2.4868, 2.4867, 2.4867, 2.4867, 2.4866, 2.4865, 2.4864, 2.4864, 2.1486, 2.0052, 2.2146, 0.1618, 0.076, -0.8206, -0.0411, 0.9419, 1.827]}, \"token.table\": {\"Topic\": [5, 5, 2, 2, 2, 2, 3, 4, 5, 4, 4, 2, 4, 5, 2, 4, 2, 4, 4, 5, 5, 4, 1, 2, 3, 3, 2, 4, 1, 2, 3, 1, 1, 2, 3, 5, 1, 2, 3, 4, 5, 1, 1, 2, 4, 3, 4, 1, 2, 1, 2, 3, 5, 2, 1, 2, 1, 3, 1, 3, 4, 1, 3, 1, 2, 3, 1, 2, 3, 1, 2, 3, 4, 4, 1, 2, 4, 5, 2, 1, 2, 4, 1, 2, 3, 1, 4, 4, 5, 5, 1, 2, 1, 1, 2, 3, 3, 1, 3, 1, 3, 1, 1, 3, 3, 1, 4, 3, 2, 4, 1, 2, 3, 4, 5, 3, 3, 1, 2, 1, 2, 1, 2, 2, 3, 1, 5, 1, 3, 3, 5, 5, 3, 2, 3, 4, 2, 1, 2, 4, 5, 3, 1, 2, 3, 4, 3, 5, 5, 5, 4, 5, 5, 2, 1, 2, 1, 3, 1, 2, 4, 1, 3, 1, 2, 3, 4, 5, 2, 1, 3, 4, 1, 2, 3, 5, 1, 2, 3, 4, 4, 5, 5, 5, 1, 2, 3, 2, 3, 2, 3, 5, 2, 4, 2, 4, 1, 3, 3, 1, 3, 5, 1, 1, 2, 3, 4, 3, 3, 5, 1, 2, 1, 4, 1, 2, 1, 3, 4, 4, 2, 5, 5, 3, 1, 1, 2, 3, 4, 1, 2, 1, 3, 4, 3, 1, 3, 5, 3, 2, 1, 2, 3, 4, 1, 2, 3, 1, 2, 3, 2, 1, 2, 5, 3, 4, 3, 4, 1, 2, 4, 1, 4, 5, 1, 2, 2, 4, 1, 1, 1, 5, 1, 2, 4, 2, 3, 4, 1, 2, 4, 2, 1, 3, 4, 1, 2, 3, 5, 1, 3, 1, 3, 5, 5, 1, 2, 3, 4, 5, 3, 1, 4, 4, 1, 2, 3, 4, 1, 1, 3, 1, 4, 2, 5, 1, 3, 2, 2, 2, 2, 1, 3, 1, 2, 3, 4, 1, 5, 4, 3, 4, 1, 3, 1, 2, 4, 5, 5, 1, 2, 1, 3, 1, 1, 1, 3, 1, 2, 3, 1, 1, 2, 3, 1, 1, 2, 3, 4, 2, 1, 2, 3, 4, 4, 2, 4, 1, 1, 3, 4, 5, 4, 5, 2, 4, 2, 2, 5, 5, 1, 2, 4, 1, 2, 1, 3, 1, 2, 2, 3, 4, 4, 4, 1, 2, 5, 5, 5, 1, 2, 1, 3, 3, 3, 1, 2, 3, 4, 5, 2, 3, 4, 1, 4, 1, 2, 3, 4, 4], \"Freq\": [0.9998004863757939, 0.9995084373770713, 0.9996920356143472, 0.9990674113473422, 0.9979221819611251, 0.15844082603013618, 0.11727116257348662, 0.012475655592924108, 0.7117361515763203, 0.9957249652183588, 0.9946119172649145, 0.07487726121501853, 0.7122652907617683, 0.21308354932831142, 0.9979226072519848, 0.995430107295373, 0.9990087160987233, 0.9995754667502376, 0.9992539784557186, 0.9985804932620342, 0.9989798626908614, 0.999507497488192, 0.7832539884190143, 0.012939625032882799, 0.2037806090892857, 0.9982619912087238, 0.22920906116164722, 0.7680514154714846, 0.9415847542260981, 0.058335713916490534, 0.9994377324393823, 0.999588669753349, 0.5307702537460385, 0.00975680613503747, 0.44816262846938787, 0.011057713619709133, 0.7746505113280785, 0.07427602609920085, 0.10625598178080123, 0.03220421904542646, 0.012603601047026233, 0.9986604703147725, 0.8443590167953635, 0.0928075186697461, 0.06275556024335212, 0.9991710405730893, 0.9969480295880838, 0.5592605864311107, 0.4406455636122308, 0.4553859934335648, 0.45171105602858647, 0.037974353184776086, 0.05451157150717857, 0.9975151190216164, 0.888481291190235, 0.11153323149243491, 0.9988075955534689, 0.998412287340441, 0.9586009354563907, 0.04117777690413133, 0.9955964090432526, 0.45517453938179847, 0.5436806998171482, 0.718816039126896, 0.005784969059041086, 0.27525689987902474, 0.6468882948642809, 0.35219639789655377, 0.0007468117003743719, 0.13747325646284517, 0.17789350311266394, 0.49836831583622704, 0.18611080600301172, 0.9965109784458378, 0.2540241973375924, 0.7410419055317641, 0.0003311919130868219, 0.004471090826672096, 0.9969867961216134, 0.9988281547709631, 0.9982772165674949, 0.9981790157517966, 0.3453273056948949, 0.6543468339218685, 0.9977483963179029, 0.9987794395262706, 0.9971623102493621, 0.999314944665867, 0.9990938077776034, 0.9981432582716049, 0.4463190308461925, 0.5536045518256243, 0.9993976235195706, 0.6708186195671673, 0.27346606599723355, 0.05545637431385759, 0.9986380235626602, 0.9985424145088845, 0.9979837719024709, 0.957641472181896, 0.042154552842456665, 0.9994963126365733, 0.20857688558282378, 0.7917408309878617, 0.9954266109631227, 0.998574815982872, 0.9954065161470314, 0.998283171897691, 0.9997380464598492, 0.9942130083644977, 0.44915350939282217, 0.2694423011437998, 0.028388560379291293, 0.24694727230523858, 0.006059546513708375, 0.9978860342252321, 0.9973081161449117, 0.5054608441211658, 0.4940460614734048, 0.35454983354914177, 0.6449564566549995, 0.2176639751877328, 0.7823182484831825, 0.9977878618214877, 0.9955985988802283, 0.9744104149057619, 0.02519158259839095, 0.9996528471978946, 0.998255454918137, 0.9945862600689646, 0.9991625685756381, 0.9982253103343621, 0.9936329939649017, 0.2832252882160379, 0.2877448406875704, 0.4286042260503339, 0.9982730962045395, 0.912800620760777, 0.08651606080573587, 0.0004494340821077188, 0.999476123892072, 0.9973321245826308, 0.16439816538916305, 0.22131745282564308, 0.5075038142381125, 0.10652492341464143, 0.23792707417302988, 0.7599972728980235, 0.9980916670501793, 0.9988823799779156, 0.999639961035596, 0.9985983986301531, 0.9995461339867141, 0.9995166970840558, 0.9995385079436749, 0.9985585188399565, 0.35276000656338846, 0.6472163831019281, 0.8554400255789928, 0.13619707026212943, 0.008263642465342684, 0.21442596229858368, 0.7852855822438897, 0.6910877654252224, 0.16299344283157002, 0.04232732505891214, 0.02393377542598173, 0.07966844690407808, 0.9989323341495482, 0.1402504234337954, 0.20902707338690663, 0.6506810510269835, 0.804478161867366, 0.011380315331700442, 0.08649039652092336, 0.09757702629567669, 0.6320942429618728, 0.2259112138840348, 0.14194691111836655, 0.9979103211422548, 0.9946945536963071, 0.9986831003317939, 0.9992703091521088, 0.999269577089522, 0.7811812447702227, 0.034660610497070074, 0.18404581480315574, 0.9996711347231864, 0.9961142585137537, 0.05972816198361094, 0.9397230818754787, 0.9981781115167356, 0.9965742660363877, 0.003241371060437689, 0.998998231578192, 0.9996556232614279, 0.7218273020605156, 0.2780080489438694, 0.9990454817654773, 0.2279339683866102, 0.7633978941202342, 0.008140498870950365, 0.9995330162908423, 0.42030852089031195, 0.0003889944663492012, 0.40397075330364546, 0.17524200709031515, 0.9901045647416822, 0.9998059305140815, 0.9987126133733231, 0.4924246904873151, 0.5074033882968151, 0.9987526986100844, 0.9960575226696139, 0.9760433761068021, 0.02402294544656669, 0.47297784641914514, 0.5233162029308971, 0.003547333848143589, 0.997106159958314, 0.9993855192563555, 0.9981394215158439, 0.9991903564912717, 0.9986252781934583, 0.9987009229767907, 0.4819518241571075, 0.01540485282693951, 0.19109353149608296, 0.3113980964302772, 0.941534248747554, 0.05806580093140535, 0.1831922325766423, 0.6663700127950354, 0.1505218488608079, 0.9980719481217446, 0.29327927684560035, 0.18943330722322826, 0.5158063546078263, 0.9988536843493504, 0.9990052557888328, 0.03748749056707962, 0.16010282429690254, 0.09528070519132736, 0.7067953950668137, 0.8631242230940562, 0.016468612867254498, 0.12055869163079895, 0.2134736454797601, 0.28777084562222566, 0.49845398593231566, 0.9977726012936992, 0.8361026976281744, 0.12399789763329765, 0.03985323225613657, 0.7252032890824607, 0.2748487351317089, 0.9775739197348534, 0.021816208623200765, 0.5548021751542451, 0.44483658232027856, 0.00017765039230043073, 0.9517153081737715, 0.0011638218381825392, 0.04713478444639284, 0.9443693598333391, 0.05520928565179521, 0.8144446699924426, 0.1853605169256131, 0.9984059332627708, 0.9994452081470898, 0.3821468573948288, 0.6168173219358786, 0.1264842982545125, 0.8083996453657972, 0.06449199397166842, 0.9994554187706651, 0.9913087079461961, 0.9971018322829466, 0.6229490030952809, 0.14691514061437838, 0.23009503640340145, 0.9995988690421048, 0.814614592847842, 0.18525245563240264, 0.9990158782830753, 0.44864260781315096, 0.37339191700084345, 0.08839829352360482, 0.0895583761157781, 0.10737591732343636, 0.8924611419746923, 0.09487668007303256, 0.9049775637735413, 0.998393715147596, 0.999593003439109, 0.6452154453634051, 0.06887659906080641, 0.043208301274170476, 0.23726063254113808, 0.005475903527815664, 0.9977971775441434, 0.9983970775854826, 0.9992184726888976, 0.9969559568253853, 0.6335765611818209, 0.07760716660649344, 0.2108609571561832, 0.07790527352047484, 0.99974278018587, 0.861970970162021, 0.1379757384812762, 0.9820804425487607, 0.017635563502559116, 0.9827710576324811, 0.014347022739160307, 0.17471138996616792, 0.8251571728807525, 0.9978080321470533, 0.9978468522421643, 0.9994826186589123, 0.9997260596165148, 0.9986356500647879, 0.9980571646893467, 0.7346600038507767, 0.1494335312492171, 0.11564092653206669, 0.0002194324981633144, 0.9993821681659512, 0.9985426233568153, 0.9998914764554419, 0.13568839682855674, 0.8640308997042605, 0.8935573634171456, 0.10638305203583555, 0.8091715052472424, 0.05409205994967913, 0.10022268290676464, 0.0365311869660157, 0.9983172090254765, 0.9740173461817728, 0.025998556428112145, 0.8715585285987071, 0.1283522435213436, 0.9998573593300855, 0.9990050337030445, 0.9999253803776814, 0.995803197053046, 0.7096919841349917, 0.12415173294302267, 0.16612716766537503, 0.998987891451349, 0.9195296555629334, 0.03708875147868202, 0.04342097734089602, 0.9982364703488199, 0.659539878215215, 0.1727862265048236, 0.03174086603246366, 0.13597406661267958, 0.9992530936554842, 0.18555703691767944, 0.11020241357871811, 0.5510120678935906, 0.15338984592713467, 0.9987515012094255, 0.9607442539725738, 0.03887404495842784, 0.9977125608273234, 0.24509013273542438, 0.21781580575404794, 0.5367739073973669, 0.9986093166514851, 0.9918697660723597, 0.999249893395408, 0.9676630643304712, 0.030499408904398808, 0.9977381717295063, 0.9995411530334409, 0.9995424582628308, 0.9987475725333922, 0.9988575948269579, 0.9978487261652774, 0.9981093204520719, 0.9994884754806705, 0.000655832332992566, 0.3407601609904224, 0.6591969202974645, 0.9991644288372491, 0.9998748199561256, 0.8770827540275771, 0.10276929239111005, 0.01949072786727949, 0.9948920402591286, 0.9993705914869876, 0.9172440831708165, 0.05781466952484807, 0.025012020149047746, 0.9993045150804516, 0.9995872836378541, 0.2991344741488229, 0.7003174277598744, 0.998803883283944, 0.9973194773514549, 0.9962739627084294, 0.9983871823681824, 0.12282386026532884, 0.08188257351021921, 0.731094406341243, 0.04445053990554758, 0.01871601680233582, 0.29126481030332096, 0.28393320180598336, 0.42456678298218636, 0.4357035179977285, 0.5642636398254833, 0.269125259754482, 0.10571448654256278, 0.24641897919428365, 0.37856208737248714, 0.9971329646260201], \"Term\": [\"0\", \"1\", \"100m\", \"10m\", \"1st\", \"2\", \"2\", \"2\", \"2\", \"2020\", \"20m\", \"3\", \"3\", \"3\", \"30m\", \"50m\", \"60m\", \"<\", \">\", \"[\", \"]\", \"^\", \"a\", \"a\", \"a\", \"ago\", \"aju\", \"aju\", \"all\", \"all\", \"am\", \"amazing\", \"an\", \"an\", \"an\", \"an\", \"and\", \"and\", \"and\", \"and\", \"and\", \"any\", \"are\", \"are\", \"are\", \"army\", \"art\", \"as\", \"as\", \"at\", \"at\", \"at\", \"at\", \"august\", \"be\", \"be\", \"beautiful\", \"became\", \"because\", \"because\", \"boom\", \"bts\", \"bts\", \"but\", \"but\", \"but\", \"can\", \"can\", \"can\", \"carat\", \"carat\", \"carat\", \"carat\", \"caratdeul\", \"carats\", \"carats\", \"carats\", \"carats\", \"champ\", \"choreography\", \"close\", \"closer\", \"comeback\", \"comeback\", \"crying\", \"daesang\", \"dear\", \"diamond\", \"dino\", \"dk\", \"do\", \"do\", \"doesn\", \"don\", \"don\", \"don\", \"e\", \"each\", \"earlier\", \"even\", \"even\", \"ever\", \"exo\", \"exo\", \"fanboy\", \"fans\", \"fear\", \"felt\", \"fighting\", \"flower\", \"for\", \"for\", \"for\", \"for\", \"for\", \"found\", \"friend\", \"get\", \"get\", \"give\", \"give\", \"go\", \"go\", \"goal\", \"gomapda\", \"group\", \"group\", \"groups\", \"haha\", \"hahaha\", \"hair\", \"handsome\", \"happened\", \"happy\", \"happy\", \"happy\", \"harder\", \"have\", \"have\", \"have\", \"he\", \"her\", \"here\", \"here\", \"here\", \"here\", \"him\", \"him\", \"hip\", \"his\", \"home\", \"hop\", \"hoshi\", \"hours\", \"how\", \"hwaiting\", \"i\", \"i\", \"if\", \"if\", \"if\", \"im\", \"im\", \"in\", \"in\", \"in\", \"in\", \"in\", \"inkigayo\", \"into\", \"into\", \"into\", \"is\", \"is\", \"is\", \"is\", \"it\", \"it\", \"it\", \"japan\", \"japanese\", \"jeonghan\", \"joshua\", \"jun\", \"just\", \"just\", \"just\", \"keep\", \"knew\", \"l\", \"l\", \"leader\", \"let\", \"let\", \"lets\", \"life\", \"like\", \"like\", \"lmao\", \"lol\", \"lol\", \"lol\", \"lot\", \"love\", \"love\", \"love\", \"love\", \"loyal\", \"m\", \"main\", \"make\", \"make\", \"makes\", \"mama\", \"many\", \"many\", \"me\", \"me\", \"me\", \"melon\", \"million\", \"minghao\", \"mingyu\", \"miss\", \"most\", \"much\", \"much\", \"much\", \"much\", \"music\", \"music\", \"my\", \"my\", \"my\", \"myself\", \"name\", \"name\", \"name\", \"nan\", \"next\", \"nice\", \"nice\", \"nice\", \"nice\", \"not\", \"not\", \"not\", \"now\", \"now\", \"now\", \"october\", \"of\", \"of\", \"of\", \"oh\", \"oh\", \"omg\", \"omg\", \"on\", \"on\", \"on\", \"one\", \"one\", \"one\", \"other\", \"other\", \"our\", \"our\", \"own\", \"people\", \"performance\", \"performance\", \"please\", \"please\", \"please\", \"pls\", \"problem\", \"project\", \"re\", \"re\", \"re\", \"reach\", \"really\", \"really\", \"run\", \"s\", \"s\", \"s\", \"s\", \"same\", \"same\", \"saw\", \"saw\", \"scoups\", \"seungkwan\", \"seventeen\", \"seventeen\", \"seventeen\", \"seventeen\", \"seventeen\", \"she\", \"shows\", \"slip\", \"slipped\", \"so\", \"so\", \"so\", \"so\", \"some\", \"song\", \"song\", \"songs\", \"songs\", \"soon\", \"soon\", \"sorry\", \"sorry\", \"str3am\", \"str3aming\", \"stream\", \"streaming\", \"such\", \"suddenly\", \"t\", \"t\", \"t\", \"t\", \"talented\", \"team\", \"thank\", \"thanks\", \"thanks\", \"that\", \"that\", \"the\", \"the\", \"the\", \"the\", \"the8\", \"their\", \"their\", \"them\", \"them\", \"there\", \"these\", \"they\", \"thinking\", \"this\", \"this\", \"this\", \"those\", \"time\", \"time\", \"time\", \"times\", \"to\", \"to\", \"to\", \"to\", \"today\", \"too\", \"too\", \"too\", \"too\", \"track\", \"trending\", \"trending\", \"true\", \"u\", \"u\", \"u\", \"unit\", \"variety\", \"vernon\", \"vi3ws\", \"vi3ws\", \"view\", \"views\", \"vocal\", \"voice\", \"vote\", \"voting\", \"waiting\", \"want\", \"want\", \"was\", \"was\", \"way\", \"we\", \"week\", \"week\", \"week\", \"weekly\", \"welcome\", \"who\", \"who\", \"who\", \"wonwoo\", \"woozi\", \"work\", \"work\", \"would\", \"wow\", \"x\", \"xd\", \"yeah\", \"yeah\", \"yeah\", \"yeah\", \"yeah\", \"yes\", \"yes\", \"yes\", \"you\", \"you\", \"your\", \"your\", \"your\", \"your\", \"\\u2661\"]}, \"R\": 30, \"lambda.step\": 0.01, \"plot.opts\": {\"xlab\": \"PC1\", \"ylab\": \"PC2\"}, \"topic.order\": [4, 1, 5, 3, 2]};\n",
       "\n",
       "function LDAvis_load_lib(url, callback){\n",
       "  var s = document.createElement('script');\n",
       "  s.src = url;\n",
       "  s.async = true;\n",
       "  s.onreadystatechange = s.onload = callback;\n",
       "  s.onerror = function(){console.warn(\"failed to load library \" + url);};\n",
       "  document.getElementsByTagName(\"head\")[0].appendChild(s);\n",
       "}\n",
       "\n",
       "if(typeof(LDAvis) !== \"undefined\"){\n",
       "   // already loaded: just create the visualization\n",
       "   !function(LDAvis){\n",
       "       new LDAvis(\"#\" + \"ldavis_el33771402474502480165209975210\", ldavis_el33771402474502480165209975210_data);\n",
       "   }(LDAvis);\n",
       "}else if(typeof define === \"function\" && define.amd){\n",
       "   // require.js is available: use it to load d3/LDAvis\n",
       "   require.config({paths: {d3: \"https://d3js.org/d3.v5\"}});\n",
       "   require([\"d3\"], function(d3){\n",
       "      window.d3 = d3;\n",
       "      LDAvis_load_lib(\"https://cdn.jsdelivr.net/gh/bmabey/pyLDAvis@3.3.1/pyLDAvis/js/ldavis.v3.0.0.js\", function(){\n",
       "        new LDAvis(\"#\" + \"ldavis_el33771402474502480165209975210\", ldavis_el33771402474502480165209975210_data);\n",
       "      });\n",
       "    });\n",
       "}else{\n",
       "    // require.js not available: dynamically load d3 & LDAvis\n",
       "    LDAvis_load_lib(\"https://d3js.org/d3.v5.js\", function(){\n",
       "         LDAvis_load_lib(\"https://cdn.jsdelivr.net/gh/bmabey/pyLDAvis@3.3.1/pyLDAvis/js/ldavis.v3.0.0.js\", function(){\n",
       "                 new LDAvis(\"#\" + \"ldavis_el33771402474502480165209975210\", ldavis_el33771402474502480165209975210_data);\n",
       "            })\n",
       "         });\n",
       "}\n",
       "</script>"
      ],
      "text/plain": [
       "<IPython.core.display.HTML object>"
      ]
     },
     "execution_count": 101,
     "metadata": {},
     "output_type": "execute_result"
    }
   ],
   "source": [
    "pyLDAvis.enable_notebook()\n",
    "vis2 = pyLDAvis.gensim_models.prepare(ldamodel, corpus, dictionary)\n",
    "pyLDAvis.display(vis2)"
   ]
  },
  {
   "cell_type": "code",
   "execution_count": 102,
   "metadata": {
    "colab": {
     "base_uri": "https://localhost:8080/",
     "height": 502
    },
    "id": "WN_XkO6F8HJa",
    "outputId": "22e4e917-0d17-4832-9df2-5934c5584680"
   },
   "outputs": [],
   "source": [
    "pyLDAvis.save_html(vis2, path2+'lda_dic.html')"
   ]
  },
  {
   "cell_type": "code",
   "execution_count": 65,
   "metadata": {
    "id": "8d2pey768KRO"
   },
   "outputs": [],
   "source": [
    "gamma, _ = ldamodel.inference(corpus)"
   ]
  },
  {
   "cell_type": "code",
   "execution_count": 67,
   "metadata": {
    "id": "F8LqYOqP1zcm"
   },
   "outputs": [
    {
     "name": "stdout",
     "output_type": "stream",
     "text": [
      "(5, 50446) -> (5, 2)\n"
     ]
    }
   ],
   "source": [
    "# 차원축소?\n",
    "topic_vector = ldamodel.expElogbeta\n",
    "y = PCA(n_components=2).fit_transform(topic_vector)\n",
    "\n",
    "print('{} -> {}'.format(topic_vector.shape, y.shape))\n",
    "# (n_topics, n_terms) -> (n_topics, 2)"
   ]
  },
  {
   "cell_type": "code",
   "execution_count": null,
   "metadata": {},
   "outputs": [],
   "source": []
  },
  {
   "cell_type": "code",
   "execution_count": 68,
   "metadata": {
    "id": "6i2jgSQ3xHt9"
   },
   "outputs": [
    {
     "name": "stdout",
     "output_type": "stream",
     "text": [
      "0 번째 문서의 topic 비율은 [(0, 0.011994521), (1, 0.26214203), (2, 0.10513279), (3, 0.536143), (4, 0.084587656)]\n",
      "1 번째 문서의 topic 비율은 [(0, 0.01064198), (1, 0.010933536), (2, 0.31977916), (3, 0.5824358), (4, 0.076209605)]\n",
      "2 번째 문서의 topic 비율은 [(0, 0.013363313), (1, 0.013503024), (2, 0.013490398), (3, 0.8687154), (4, 0.090927854)]\n",
      "3 번째 문서의 topic 비율은 [(0, 0.039298374), (1, 0.35568476), (2, 0.18949799), (3, 0.3189998), (4, 0.096519075)]\n",
      "4 번째 문서의 topic 비율은 [(3, 0.9688215)]\n"
     ]
    }
   ],
   "source": [
    "for i, topic_list in enumerate(ldamodel[corpus]):\n",
    "    if i==5:\n",
    "        break\n",
    "    print(i,'번째 문서의 topic 비율은',topic_list)"
   ]
  },
  {
   "cell_type": "code",
   "execution_count": 69,
   "metadata": {
    "id": "oZOzXU2ExH4f"
   },
   "outputs": [],
   "source": [
    "def make_topictable_per_doc(ldamodel, corpus):\n",
    "    topic_table = pd.DataFrame()\n",
    "\n",
    "    # 몇 번째 문서인지를 의미하는 문서 번호와 해당 문서의 토픽 비중을 한 줄씩 꺼내온다.\n",
    "    for i, topic_list in enumerate(ldamodel[corpus]):\n",
    "        doc = topic_list[0] if ldamodel.per_word_topics else topic_list            \n",
    "        doc = sorted(doc, key=lambda x: (x[1]), reverse=True)\n",
    "        # 각 문서에 대해서 비중이 높은 토픽순으로 토픽을 정렬한다.\n",
    "        # EX) 정렬 전 0번 문서 : (2번 토픽, 48.5%), (8번 토픽, 25%), (10번 토픽, 5%), (12번 토픽, 21.5%), \n",
    "        # Ex) 정렬 후 0번 문서 : (2번 토픽, 48.5%), (8번 토픽, 25%), (12번 토픽, 21.5%), (10번 토픽, 5%)\n",
    "        # 48 > 25 > 21 > 5 순으로 정렬이 된 것.\n",
    "\n",
    "        # 모든 문서에 대해서 각각 아래를 수행\n",
    "        for j, (topic_num, prop_topic) in enumerate(doc): #  몇 번 토픽인지와 비중을 나눠서 저장한다.\n",
    "            if j == 0:  # 정렬을 한 상태이므로 가장 앞에 있는 것이 가장 비중이 높은 토픽\n",
    "                topic_table = topic_table.append(pd.Series([int(topic_num), round(prop_topic,4), topic_list]), ignore_index=True)\n",
    "                # 가장 비중이 높은 토픽과, 가장 비중이 높은 토픽의 비중과, 전체 토픽의 비중을 저장한다.\n",
    "            else:\n",
    "                break\n",
    "    return(topic_table)"
   ]
  },
  {
   "cell_type": "code",
   "execution_count": 70,
   "metadata": {
    "id": "V3onOpDdxIDX"
   },
   "outputs": [
    {
     "data": {
      "text/html": [
       "<div>\n",
       "<style scoped>\n",
       "    .dataframe tbody tr th:only-of-type {\n",
       "        vertical-align: middle;\n",
       "    }\n",
       "\n",
       "    .dataframe tbody tr th {\n",
       "        vertical-align: top;\n",
       "    }\n",
       "\n",
       "    .dataframe thead th {\n",
       "        text-align: right;\n",
       "    }\n",
       "</style>\n",
       "<table border=\"1\" class=\"dataframe\">\n",
       "  <thead>\n",
       "    <tr style=\"text-align: right;\">\n",
       "      <th></th>\n",
       "      <th>문서 번호</th>\n",
       "      <th>가장 비중이 높은 토픽</th>\n",
       "      <th>가장 높은 토픽의 비중</th>\n",
       "      <th>각 토픽의 비중</th>\n",
       "    </tr>\n",
       "  </thead>\n",
       "  <tbody>\n",
       "    <tr>\n",
       "      <th>0</th>\n",
       "      <td>0</td>\n",
       "      <td>3.0</td>\n",
       "      <td>0.5361</td>\n",
       "      <td>[(0, 0.011994543), (1, 0.2621373), (2, 0.10513...</td>\n",
       "    </tr>\n",
       "    <tr>\n",
       "      <th>1</th>\n",
       "      <td>1</td>\n",
       "      <td>3.0</td>\n",
       "      <td>0.5824</td>\n",
       "      <td>[(0, 0.010641964), (1, 0.010926948), (2, 0.319...</td>\n",
       "    </tr>\n",
       "    <tr>\n",
       "      <th>2</th>\n",
       "      <td>2</td>\n",
       "      <td>3.0</td>\n",
       "      <td>0.8687</td>\n",
       "      <td>[(0, 0.013363313), (1, 0.013503522), (2, 0.013...</td>\n",
       "    </tr>\n",
       "    <tr>\n",
       "      <th>3</th>\n",
       "      <td>3</td>\n",
       "      <td>1.0</td>\n",
       "      <td>0.3557</td>\n",
       "      <td>[(0, 0.039298445), (1, 0.3557071), (2, 0.18948...</td>\n",
       "    </tr>\n",
       "    <tr>\n",
       "      <th>4</th>\n",
       "      <td>4</td>\n",
       "      <td>3.0</td>\n",
       "      <td>0.9688</td>\n",
       "      <td>[(3, 0.96882373)]</td>\n",
       "    </tr>\n",
       "    <tr>\n",
       "      <th>5</th>\n",
       "      <td>5</td>\n",
       "      <td>3.0</td>\n",
       "      <td>0.6695</td>\n",
       "      <td>[(0, 0.015875798), (1, 0.28325585), (2, 0.0156...</td>\n",
       "    </tr>\n",
       "    <tr>\n",
       "      <th>6</th>\n",
       "      <td>6</td>\n",
       "      <td>3.0</td>\n",
       "      <td>0.5778</td>\n",
       "      <td>[(0, 0.09733696), (3, 0.5778384), (4, 0.316652...</td>\n",
       "    </tr>\n",
       "    <tr>\n",
       "      <th>7</th>\n",
       "      <td>7</td>\n",
       "      <td>1.0</td>\n",
       "      <td>0.5324</td>\n",
       "      <td>[(0, 0.01354079), (1, 0.5323985), (2, 0.013841...</td>\n",
       "    </tr>\n",
       "    <tr>\n",
       "      <th>8</th>\n",
       "      <td>8</td>\n",
       "      <td>1.0</td>\n",
       "      <td>0.5398</td>\n",
       "      <td>[(0, 0.0143236155), (1, 0.53979194), (2, 0.014...</td>\n",
       "    </tr>\n",
       "    <tr>\n",
       "      <th>9</th>\n",
       "      <td>9</td>\n",
       "      <td>3.0</td>\n",
       "      <td>0.8396</td>\n",
       "      <td>[(0, 0.010536054), (1, 0.12819965), (2, 0.0110...</td>\n",
       "    </tr>\n",
       "  </tbody>\n",
       "</table>\n",
       "</div>"
      ],
      "text/plain": [
       "   문서 번호  가장 비중이 높은 토픽  가장 높은 토픽의 비중  \\\n",
       "0      0           3.0        0.5361   \n",
       "1      1           3.0        0.5824   \n",
       "2      2           3.0        0.8687   \n",
       "3      3           1.0        0.3557   \n",
       "4      4           3.0        0.9688   \n",
       "5      5           3.0        0.6695   \n",
       "6      6           3.0        0.5778   \n",
       "7      7           1.0        0.5324   \n",
       "8      8           1.0        0.5398   \n",
       "9      9           3.0        0.8396   \n",
       "\n",
       "                                            각 토픽의 비중  \n",
       "0  [(0, 0.011994543), (1, 0.2621373), (2, 0.10513...  \n",
       "1  [(0, 0.010641964), (1, 0.010926948), (2, 0.319...  \n",
       "2  [(0, 0.013363313), (1, 0.013503522), (2, 0.013...  \n",
       "3  [(0, 0.039298445), (1, 0.3557071), (2, 0.18948...  \n",
       "4                                  [(3, 0.96882373)]  \n",
       "5  [(0, 0.015875798), (1, 0.28325585), (2, 0.0156...  \n",
       "6  [(0, 0.09733696), (3, 0.5778384), (4, 0.316652...  \n",
       "7  [(0, 0.01354079), (1, 0.5323985), (2, 0.013841...  \n",
       "8  [(0, 0.0143236155), (1, 0.53979194), (2, 0.014...  \n",
       "9  [(0, 0.010536054), (1, 0.12819965), (2, 0.0110...  "
      ]
     },
     "execution_count": 70,
     "metadata": {},
     "output_type": "execute_result"
    }
   ],
   "source": [
    "topictable = make_topictable_per_doc(ldamodel, corpus)\n",
    "topictable = topictable.reset_index() # 문서 번호을 의미하는 열(column)로 사용하기 위해서 인덱스 열을 하나 더 만든다.\n",
    "topictable.columns = ['문서 번호', '가장 비중이 높은 토픽', '가장 높은 토픽의 비중', '각 토픽의 비중']\n",
    "topictable[:10]"
   ]
  },
  {
   "cell_type": "code",
   "execution_count": 86,
   "metadata": {
    "colab": {
     "base_uri": "https://localhost:8080/",
     "height": 208
    },
    "id": "ukfdHO8ncVon",
    "outputId": "122a076a-7fa3-424e-b426-a7bf64a61183"
   },
   "outputs": [
    {
     "name": "stdout",
     "output_type": "stream",
     "text": [
      "(5,)\n",
      "1.0\n",
      "(5, 50446)\n",
      "0.99999994\n"
     ]
    }
   ],
   "source": [
    "# topic_word = model.components_ # model.components_also works\n",
    "# n_top_words = 5   # TOPIC으로 선정될 단어의 수\n",
    "\n",
    "# for i, topic_dist in enumerate(topic_word):\n",
    "#     topic_words = np.array(tokenized_doc)[np.argsort(topic_dist)][:-(n_top_words+1):-1]\n",
    "#     print(\"Topic {}:{}\".format(i, ' '.join(topic_words)))\n",
    "\n",
    "# dictionary = gensim.corpora.Dictionary(bag)\n",
    "# print('dictionary size : %d' % len(dictionary)) # dictionary size : ????\n",
    "\n",
    "# min_count = 10\n",
    "# word_counter = Counter((word for words in documents for word in words))\n",
    "# removal_word_idxs = {\n",
    "#     dictionary.token2id[word] for word, count in word_counter.items()\n",
    "#     if count < min_count\n",
    "# }\n",
    "\n",
    "# dictionary.filter_tokens(removal_word_idxs)\n",
    "# dictionary.compactify()\n",
    "# print('dictionary size : %d' % len(dictionary)) # dictionary size : \n",
    "\n",
    "# lda_model = LdaModel(bag, id2word=dictionary, num_topics=6)\n",
    "# with open(lda_model_path, 'wb') as f:\n",
    "#     pickle.dump(lda_model, f)\n",
    "\n",
    "def get_topic_term_prob(lda_model):\n",
    "    topic_term_freqs = lda_model.state.get_lambda()\n",
    "    topic_term_prob = topic_term_freqs / topic_term_freqs.sum(axis=1)[:, None]\n",
    "    return topic_term_prob\n",
    "\n",
    "print(ldamodel.alpha.shape) # (n_topics,)\n",
    "print(ldamodel.alpha.sum()) # 1.0\n",
    "\n",
    "topic_term_prob = get_topic_term_prob(ldamodel)\n",
    "print(topic_term_prob.shape)     # (n_topics, n_terms)\n",
    "print(topic_term_prob[0].sum())  # 1.0"
   ]
  },
  {
   "cell_type": "code",
   "execution_count": 87,
   "metadata": {
    "id": "L9lN_OEY9nsX"
   },
   "outputs": [],
   "source": []
  },
  {
   "cell_type": "code",
   "execution_count": null,
   "metadata": {
    "id": "6oX1Dh3SIp3T"
   },
   "outputs": [],
   "source": []
  },
  {
   "cell_type": "code",
   "execution_count": null,
   "metadata": {
    "id": "YAkP1aWx31Sw"
   },
   "outputs": [],
   "source": []
  },
  {
   "cell_type": "code",
   "execution_count": null,
   "metadata": {
    "id": "0UJKCo7Q4byy"
   },
   "outputs": [],
   "source": [
    "# TF_IDF 벡터화\n",
    "\n",
    "tfidf = TfidfVectorizer(ngram_range=(3,6), # 유니그램 바이그램으로 사용\n",
    "                        min_df = 3, # 3회 미만으로 등장하는 토큰은 무시\n",
    "                        max_df =0.95 # 많이 등장한 단어 5%의 토큰도 무시\n",
    "                        )\n",
    "docs_tf = tfidf.fit_transform(docs)\n",
    "\n",
    "\n",
    "# In[68]:\n",
    "# LDA 사용 (tf-idf 기반)\n",
    "lda_tfidf = LatentDirichletAllocation(n_components = 6,\n",
    "                                      random_state = 1,\n",
    "                                      learning_method = 'batch')\n",
    "\n",
    "X_topics = lda_tfidf.fit_transform(docs_tf)\n",
    "\n",
    "\n",
    "# In[37]:\n",
    "\n",
    "\n",
    "# 결과 분석을 위해 각 토픽 당 중요 단어 10개 출력 (tf-idf 기반)\n",
    "n_top_word = 5\n",
    "feature_name = count.get_feature_names()\n",
    "for topic_idx, topic in enumerate(lda_tfidf.components_):\n",
    "  print(\"토픽 %d:\" % (topic_idx+1))\n",
    "  print([feature_name[i] for i in topic.argsort()[:-n_top_word - 1: -1]])\n",
    "\n"
   ]
  },
  {
   "cell_type": "markdown",
   "metadata": {},
   "source": [
    "# rake"
   ]
  },
  {
   "cell_type": "code",
   "execution_count": null,
   "metadata": {
    "id": "_L6Ziot41g1y"
   },
   "outputs": [],
   "source": [
    "# In[38]:\n",
    "\n",
    "\n",
    "get_ipython().system('pip install rake-nltk')\n",
    "\n",
    "\n",
    "# In[39]:\n",
    "\n",
    "\n",
    "from rake_nltk import Rake\n",
    "\n",
    "# raw= pd.read_csv('/content/drive/MyDrive/Colab Notebooks/[공유] Mulcam_Army 공유폴더!/크롤링 한 자료/youtube/영상별 댓글/comments_youtube_aespa.csv',header=None)\n",
    "# raw.columns=['comments','likes']\n",
    "# raw\n",
    "\n",
    "en_sent[:10]\n",
    "\n",
    "text=\". \".join(en_sent)\n",
    "\n",
    "\n",
    "# In[40]:\n",
    "\n",
    "\n",
    "r=Rake()\n",
    "r.extract_keywords_from_text(text)\n",
    "r.get_ranked_phrases_with_scores()[:5]\n",
    "\n",
    "\n",
    "# In[72]:\n",
    "\n",
    "\n",
    "r1=Rake()\n",
    "r1.extract_keywords_from_sentences(en_sent[:10])\n",
    "r1.get_ranked_phrases_with_scores()\n",
    "\n"
   ]
  },
  {
   "cell_type": "markdown",
   "metadata": {},
   "source": [
    "# yake"
   ]
  },
  {
   "cell_type": "code",
   "execution_count": null,
   "metadata": {
    "id": "T0ZhCI1g1mQx"
   },
   "outputs": [],
   "source": [
    "# In[42]:\n",
    "\n",
    "\n",
    "get_ipython().system('pip install git+https://github.com/LIAAD/yake')\n",
    "\n",
    "\n",
    "# In[43]:\n",
    "\n",
    "\n",
    "import yake\n",
    "\n",
    "\n",
    "# In[44]:\n",
    "\n",
    "\n",
    "a=\". \".join(en_sent)\n",
    "\n",
    "\n",
    "# In[ ]:\n",
    "\n",
    "\n",
    "a\n",
    "\n",
    "\n",
    "# In[74]:\n",
    "\n",
    "\n",
    "language = \"en\"\n",
    "max_ngram_size = 2\n",
    "deduplication_thresold = 0.9\n",
    "deduplication_algo = 'seqm'\n",
    "windowSize = 3\n",
    "numOfKeywords = 20\n",
    "\n",
    "custom_kw_extractor = yake.KeywordExtractor(lan=language, n=max_ngram_size, dedupLim=deduplication_thresold, dedupFunc=deduplication_algo, windowsSize=windowSize, top=numOfKeywords, features=None)\n",
    "keywords = custom_kw_extractor.extract_keywords(a)\n",
    "\n",
    "for kw in keywords:\n",
    "    print(kw)\n"
   ]
  },
  {
   "cell_type": "markdown",
   "metadata": {},
   "source": [
    "# pke"
   ]
  },
  {
   "cell_type": "code",
   "execution_count": null,
   "metadata": {
    "id": "izrSsnMb1pZP"
   },
   "outputs": [],
   "source": [
    "# In[46]:\n",
    "\n",
    "\n",
    "get_ipython().system('pip install git+https://github.com/boudinfl/pke.git')\n",
    "get_ipython().system('pip install spacy')\n",
    "get_ipython().system('python3 -m spacy download en')\n",
    "\n",
    "\n",
    "# In[47]:\n",
    "\n",
    "\n",
    "import pke\n",
    "import spacy\n",
    "# nlp = spacy.load(\"en_core_web_sm\")\n",
    "\n",
    "\n",
    "# In[ ]:\n",
    "\n",
    "\n",
    "for i in range(len(en_sent)):\n",
    "\n",
    "    # initialize keyphrase extraction model, here TopicRank\n",
    "    extractor = pke.unsupervised.TopicRank()\n",
    "\n",
    "    # load the content of the document, here document is expected to be in raw\n",
    "    # # format (i.e. a simple text file) and preprocessing is carried out using spacy\n",
    "    extractor.load_document(input=en_sent[i], language='en_core_web_sm')\n",
    "    extractor.candidate_selection(pos={'NOUN'})\n",
    "    extractor.candidate_weighting(threshold=0.74,\n",
    "                                  method='average')\n",
    "    keyphrase_score=[]\n",
    "    for (keyphrase, score) in extractor.get_n_best(n=2, stemming=False):\n",
    "        print(keyphrase, score)\n",
    "        keyphrase_score.extend((keyphrase, score))\n",
    "        \n",
    "\n",
    "\n",
    "# In[ ]:\n",
    "\n",
    "\n",
    "keyphrase_score\n",
    "\n",
    "\n",
    "# In[ ]:\n",
    "\n",
    "\n",
    "with open('/home/lab10/final/key_score.txt', 'w') as f:\n",
    "    for (keyphrase, score) in keyphrase_score:\n",
    "        f.write((keyphrase, score))\n"
   ]
  },
  {
   "cell_type": "markdown",
   "metadata": {},
   "source": [
    "# k-means"
   ]
  },
  {
   "cell_type": "code",
   "execution_count": null,
   "metadata": {
    "id": "dtjwYaFl1tzu"
   },
   "outputs": [],
   "source": [
    "\n",
    "# In[ ]:\n",
    "\n",
    "\n",
    "\n",
    "\n",
    "\n",
    "# In[52]:\n",
    "\n",
    "\n",
    "# 텍스트 단어들의 어근 원형을 추출하기 위해 함수 생성\n",
    "\n",
    "\n",
    "# Tf-idf 벡터화시키면서 cusotmized해준 토큰화+어근추출 방식 tokenizer인자에 넣어주기\n",
    "# 벡터화시킬 Tf-idf 도구 옵션 추가해서 구축\n",
    "# 1,2gram적용, 빈도수 0.05이하, 0.85이상의 빈도수 단어들 제거\n",
    "tfidf_vect = TfidfVectorizer(ngram_range=(1,2),\n",
    "                            min_df=0.05, max_df=0.85)\n",
    "# fit_transform으로 위에서 구축한 도구로 텍스트 벡터화\n",
    "ftr_vect = tfidf_vect.fit_transform(en_sent)\n",
    "\n",
    "\n",
    "# In[53]:\n",
    "\n",
    "\n",
    "# K-means로 6개 군집으로 문서 군집화시키기\n",
    "\n",
    "\n",
    "kmeans = KMeans(n_clusters=6, max_iter=10000, random_state=42)\n",
    "# 비지도 학습이니 feature로만 학습시키고 예측\n",
    "cluster_label = kmeans.fit_predict(ftr_vect)\n",
    "\n",
    "# 군집화한 레이블값들을 document_df 에 추가하기\n",
    "data_en['label'] = cluster_label\n",
    "print(data_en.sort_values(by=['label']))\n",
    "\n",
    "\n",
    "# In[54]:\n",
    "\n",
    "\n",
    "# 문서의 feature(단어별) cluster_centers_확인해보자\n",
    "cluster_centers = kmeans.cluster_centers_\n",
    "print(cluster_centers.shape)\n",
    "print(cluster_centers)\n",
    "# shape의 행은 클러스터 레이블, 열은 벡터화 시킨 feature(단어들)\n",
    "\n",
    "\n",
    "# In[55]:\n",
    "\n",
    "\n",
    "def get_cluster_details(cluster_model, cluster_data, feature_names,\n",
    "                       cluster_num, top_n_features=5):\n",
    "    cluster_details = {}\n",
    "    # 각 클러스터 레이블별 feature들의 center값들 내림차순으로 정렬 후의 인덱스를 반환\n",
    "    center_feature_idx = cluster_model.cluster_centers_.argsort()[:,::-1]\n",
    "    \n",
    "    # 개별 클러스터 레이블별로 \n",
    "    for cluster_num in range(cluster_num):\n",
    "        # 개별 클러스터별 정보를 담을 empty dict할당\n",
    "        cluster_details[cluster_num] = {}\n",
    "        cluster_details[cluster_num]['cluster'] = cluster_num\n",
    "        \n",
    "        # 각 feature별 center값들 정렬한 인덱스 중 상위 5개만 추출\n",
    "        top_ftr_idx = center_feature_idx[cluster_num, :top_n_features]\n",
    "        top_ftr = [feature_names[idx] for idx in top_ftr_idx]\n",
    "        # top_ftr_idx를 활용해서 상위 5개 feature들의 center값들 반환\n",
    "        # 반환하게 되면 array이기 떄문에 리스트로바꾸기\n",
    "        top_ftr_val = cluster_model.cluster_centers_[cluster_num, top_ftr_idx].tolist()\n",
    "        \n",
    "        # cluster_details 딕셔너리에다가 개별 군집 정보 넣어주기\n",
    "        cluster_details[cluster_num]['top_features'] = top_ftr\n",
    "        cluster_details[cluster_num]['top_featrues_value'] = top_ftr_val\n",
    "        # 해당 cluster_num으로 분류된 파일명(문서들) 넣어주기\n",
    "        comment = cluster_data[cluster_data['label']==cluster_num]['comment']\n",
    "        # filenames가 df으로 반환되기 떄문에 값들만 출력해서 array->list로 변환\n",
    "        comment = comment.values.tolist()\n",
    "        cluster_details[cluster_num]['comment'] = comment\n",
    "    \n",
    "    return cluster_details\n",
    "\n",
    "def print_cluster_details(cluster_details):\n",
    "    for cluster_num, cluster_detail in cluster_details.items():\n",
    "        print(f\"#####Cluster Num: {cluster_num}\")\n",
    "        print()\n",
    "        print(\"상위 5개 feature단어들:\\n\", cluster_detail['top_features'])\n",
    "        print()\n",
    "        print(f\"Cluster {cluster_num}으로 분류된 문서들:\\n{cluster_detail['comment'][:5]}\")\n",
    "        print('-'*20)\n",
    "\n",
    "feature_names = tfidf_vect.get_feature_names()\n",
    "cluster_details = get_cluster_details(cluster_model=kmeans,\n",
    "                                     cluster_data=data_en,\n",
    "                                     feature_names=feature_names,\n",
    "                                     cluster_num=6,\n",
    "                                     top_n_features=10)\n",
    "print_cluster_details(cluster_details)\n",
    "\n"
   ]
  },
  {
   "cell_type": "code",
   "execution_count": null,
   "metadata": {
    "id": "Hk6JBhAh1yGP"
   },
   "outputs": [],
   "source": [
    "# In[56]:\n",
    "\n",
    "\n",
    "data_en.head()\n",
    "\n",
    "\n",
    "# In[57]:\n",
    "\n",
    "\n",
    "# 클러스터링된 문서들 중에서 특정 문서를 하나 선택한 후 비슷한 문서 추출\n",
    "from sklearn.metrics.pairwise import cosine_similarity\n",
    "\n",
    "\n",
    "# In[59]:\n",
    "\n",
    "\n",
    "hotel_idx = data_en[data_en['label']==1].index\n",
    "print(\"호텔 카테고리로 클러스터링된 문서들의 인덱스:\\n\",hotel_idx)\n",
    "print()\n",
    "# 호텔 카테고리로 클러스터링 된 문서들의 인덱스 중 하나 선택해 비교 기준으로 삼을 문서 선정\n",
    "comparison_doc = data_en.iloc[hotel_idx[0]]['comment']\n",
    "print(\"##유사도 비교 기준 문서 이름:\",comparison_doc,'##')\n",
    "print()\n",
    "\n",
    "# 위에서 추출한 호텔 카테고리로 클러스터링된 문서들의 인덱스 중 0번인덱스(비교기준문서)제외한\n",
    "# 다른 문서들과의 유사도 측정\n",
    "similarity = cosine_similarity(ftr_vect[hotel_idx[0]], ftr_vect[hotel_idx])\n",
    "# print(similarity)\n"
   ]
  },
  {
   "cell_type": "code",
   "execution_count": null,
   "metadata": {
    "id": "FzvX5fKI11HA"
   },
   "outputs": [],
   "source": [
    "#  In[61]:\n",
    "\n",
    "\n",
    "# 비교기준 문서와 다른 문서들간의 유사도 살펴보기\n",
    "import seaborn as sns\n",
    "import numpy as np\n",
    "import matplotlib.pyplot as plt\n",
    "# array 내림차순으로 정렬한 후 인덱스 반환 [:,::-1] 모든행에 대해서 열을 내림차순으로!\n",
    "sorted_idx = similarity.argsort()[:,::-1]\n",
    "# 비교문서 당사자는 제외한 인덱스 추출\n",
    "sorted_idx = sorted_idx[:, 1:]\n",
    "\n",
    "# 유사도가 큰 순으로 hotel_idx(label=1인 즉, 호텔과관련된 내용의 문서이름들의 index들)에서 재 정렬 \n",
    "# index로 넣으려면 1차원으로 reshape해주기!\n",
    "hotel_sorted_idx = hotel_idx[sorted_idx.reshape(-1,)]\n",
    "# 유사도 행렬값들을 유사도가 큰 순으로 재정렬(비교 문서 당사자는 제외)\n",
    "hotel_sim_values = np.sort(similarity.reshape(-1,))[::-1]\n",
    "hotel_sim_values = hotel_sim_values[1:]\n",
    "# 이렇게 되면 비교문서와 가장 유사한 순으로 '해당문서의index-유사도값' 으로 동일한 위치가 매핑된 두 개의 array!\n",
    "# 그래서 그대로 데이터프레임의 각 칼럼으로 넣어주기\n",
    "# print(hotel_sorted_idx)\n",
    "# print(hotel_sim_values)\n",
    "print()\n",
    "print(\"길이 비교\", len(hotel_sorted_idx), len(hotel_sim_values))\n",
    "print()\n",
    "# 빈 데이터프레임 생성\n",
    "hotel_sim_df = pd.DataFrame()\n",
    "# hotel_sorted_idx 와 hotel_sim_values 매핑시킨 array임\n",
    "hotel_sim_df['comment'] = data_en.iloc[hotel_sorted_idx]['comment']\n",
    "hotel_sim_df['similarity'] = hotel_sim_values\n",
    "\n",
    "plt.figure(figsize=(15,10))\n",
    "sns.barplot(data=hotel_sim_df[:10], x='similarity', y='comment')\n",
    "plt.title(comparison_doc)\n",
    "\n",
    "\n",
    "# In[62]:\n",
    "\n",
    "\n",
    "from collections import Counter\n",
    "\n",
    "def scan_vocabulary(sents, tokenize, min_count=2):\n",
    "    counter = Counter(w for sent in sents for w in tokenize(sent))\n",
    "    counter = {w:c for w,c in counter.items() if c >= min_count}\n",
    "    idx_to_vocab = [w for w, _ in sorted(counter.items(), key=lambda x:-x[1])]\n",
    "    vocab_to_idx = {vocab:idx for idx, vocab in enumerate(idx_to_vocab)}\n",
    "    return idx_to_vocab, vocab_to_idx\n",
    "    \n",
    "from collections import defaultdict\n",
    "\n",
    "def cooccurrence(tokens, vocab_to_idx, window=2, min_cooccurrence=2):\n",
    "    counter = defaultdict(int)\n",
    "    for s, tokens_i in enumerate(tokens):\n",
    "        vocabs = [vocab_to_idx[w] for w in tokens_i if w in vocab_to_idx]\n",
    "        n = len(vocabs)\n",
    "        for i, v in enumerate(vocabs):\n",
    "            if window <= 0:\n",
    "                b, e = 0, n\n",
    "            else:\n",
    "                b = max(0, i - window)\n",
    "                e = min(i + window, n)\n",
    "            for j in range(b, e):\n",
    "                if i == j:\n",
    "                    continue\n",
    "                counter[(v, vocabs[j])] += 1\n",
    "                counter[(vocabs[j], v)] += 1\n",
    "    counter = {k:v for k,v in counter.items() if v >= min_cooccurrence}\n",
    "    n_vocabs = len(vocab_to_idx)\n",
    "    return dict_to_mat(counter, n_vocabs, n_vocabs)\n",
    "from scipy.sparse import csr_matrix\n",
    "\n",
    "def dict_to_mat(d, n_rows, n_cols):\n",
    "    rows, cols, data = [], [], []\n",
    "    for (i, j), v in d.items():\n",
    "        rows.append(i)\n",
    "        cols.append(j)\n",
    "        data.append(v)\n",
    "    return csr_matrix((data, (rows, cols)), shape=(n_rows, n_cols))\n",
    "def word_graph(sents, tokenize=None, min_count=2, window=2, min_cooccurrence=2):\n",
    "    idx_to_vocab, vocab_to_idx = scan_vocabulary(sents, tokenize, min_count)\n",
    "    tokens = [tokenize(sent) for sent in sents]\n",
    "    g = cooccurrence(tokens, vocab_to_idx, window, min_cooccurrence, verbose)\n",
    "    return g, idx_to_vocab\n",
    "import numpy as np\n",
    "from sklearn.preprocessing import normalize\n",
    "\n",
    "def pagerank(x, df=0.85, max_iter=30):\n",
    "    assert 0 < df < 1\n",
    "\n",
    "    # initialize\n",
    "    A = normalize(x, axis=0, norm='l1')\n",
    "    R = np.ones(A.shape[0]).reshape(-1,1)\n",
    "    bias = (1 - df) * np.ones(A.shape[0]).reshape(-1,1)\n",
    "\n",
    "    # iteration\n",
    "    for _ in range(max_iter):\n",
    "        R = df * (A * R) + bias\n",
    "\n",
    "    return R\n",
    "def textrank_keyword(sents, tokenize, min_count, window, min_cooccurrence, df=0.85, max_iter=30, topk=30):\n",
    "    g, idx_to_vocab = word_graph(sents, tokenize, min_count, window, min_cooccurrence)\n",
    "    R = pagerank(g, df, max_iter).reshape(-1)\n",
    "    idxs = R.argsort()[-topk:]\n",
    "    keywords = [(idx_to_vocab[idx], R[idx]) for idx in reversed(idxs)]\n",
    "    return keywords\n",
    "\n",
    "from collections import Counter\n",
    "from scipy.sparse import csr_matrix\n",
    "import math\n",
    "\n",
    "def sent_graph(sents, tokenize, similarity, min_count=2, min_sim=0.3):\n",
    "    _, vocab_to_idx = scan_vocabulary(sents, tokenize, min_count)\n",
    "\n",
    "    tokens = [[w for w in tokenize(sent) if w in vocab_to_idx] for sent in sents]\n",
    "    rows, cols, data = [], [], []\n",
    "    n_sents = len(tokens)\n",
    "    for i, tokens_i in enumerate(tokens):\n",
    "        for j, tokens_j in enumerate(tokens):\n",
    "            if i >= j:\n",
    "                continue\n",
    "            sim = similarity(tokens_i, tokens_j)\n",
    "            if sim < min_sim:\n",
    "                continue\n",
    "            rows.append(i)\n",
    "            cols.append(j)\n",
    "            data.append(sim)\n",
    "    return csr_matrix((data, (rows, cols)), shape=(n_sents, n_sents))\n",
    "\n",
    "def textrank_sent_sim(s1, s2):\n",
    "    n1 = len(s1)\n",
    "    n2 = len(s2)\n",
    "    if (n1 <= 1) or (n2 <= 1):\n",
    "        return 0\n",
    "    common = len(set(s1).intersection(set(s2)))\n",
    "    base = math.log(n1) + math.log(n2)\n",
    "    return common / base\n",
    "\n",
    "def cosine_sent_sim(s1, s2):\n",
    "    if (not s1) or (not s2):\n",
    "        return 0\n",
    "\n",
    "    s1 = Counter(s1)\n",
    "    s2 = Counter(s2)\n",
    "    norm1 = math.sqrt(sum(v ** 2 for v in s1.values()))\n",
    "    norm2 = math.sqrt(sum(v ** 2 for v in s2.values()))\n",
    "    prod = 0\n",
    "    for k, v in s1.items():\n",
    "        prod += v * s2.get(k, 0)\n",
    "    return prod / (norm1 * norm2)\n",
    "def textrank_keysentence(sents, tokenize, min_count, similarity, df=0.85, max_iter=30, topk=5):\n",
    "    g = sent_graph(sents, tokenize, min_count, min_sim, similarity)\n",
    "    R = pagerank(g, df, max_iter).reshape(-1)\n",
    "    idxs = R.argsort()[-topk:]\n",
    "    keysents = [(idx, R[idx], sents[idx]) for idx in reversed(idxs)]\n",
    "    return keysents\n",
    "\n",
    "\n",
    "# In[ ]:\n",
    "\n",
    "\n",
    "\n"
   ]
  }
 ],
 "metadata": {
  "colab": {
   "collapsed_sections": [],
   "name": "eng_analysis",
   "provenance": []
  },
  "kernelspec": {
   "display_name": "Python 3",
   "language": "python",
   "name": "python3"
  },
  "language_info": {
   "codemirror_mode": {
    "name": "ipython",
    "version": 3
   },
   "file_extension": ".py",
   "mimetype": "text/x-python",
   "name": "python",
   "nbconvert_exporter": "python",
   "pygments_lexer": "ipython3",
   "version": "3.7.10"
  }
 },
 "nbformat": 4,
 "nbformat_minor": 1
}
