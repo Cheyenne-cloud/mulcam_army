{
 "cells": [
  {
   "cell_type": "code",
   "execution_count": 1,
   "source": [
    "# 맞춤법 검사기를 활용\r\n",
    "from selenium import webdriver\r\n",
    "from selenium.webdriver.common.keys import Keys\r\n",
    "from bs4 import BeautifulSoup\r\n",
    "import time\r\n",
    "import pandas as pd\r\n",
    "import kss\r\n"
   ],
   "outputs": [
    {
     "output_type": "stream",
     "name": "stderr",
     "text": [
      "[Korean Sentence Splitter]: Initializing Kss...\n"
     ]
    }
   ],
   "metadata": {}
  },
  {
   "cell_type": "code",
   "execution_count": 2,
   "source": [
    "# test 확인 용\r\n",
    "# 완료\r\n",
    "dr = webdriver.Chrome('C:/Users/idf20/Anaconda3/chromedriver.exe')\r\n",
    "url ='http://naver.com/'\r\n",
    "dr.get(url)\r\n",
    "\r\n",
    "elem = dr.find_element_by_name('query')\r\n",
    "elem.send_keys(\"맞춤법 검사기\")\r\n",
    "elem.send_keys(Keys.RETURN)\r\n",
    "\r\n",
    "time.sleep(2)\r\n",
    "\r\n",
    "elem = dr.find_element_by_class_name('txt_gray')\r\n",
    "elem.send_keys(\"아버지가방에들어가신다\")\r\n",
    "\r\n",
    "elem = dr.find_element_by_class_name('btn_check')\r\n",
    "elem.click()\r\n",
    "\r\n",
    "time.sleep(1)\r\n",
    "\r\n",
    "bs = BeautifulSoup(dr.page_source,'html.parser')\r\n",
    "test = bs.select(\"p._result_text.stand_txt\")[0].text\r\n",
    "test"
   ],
   "outputs": [
    {
     "output_type": "execute_result",
     "data": {
      "text/plain": [
       "'아버지가 방에 들어가신다'"
      ]
     },
     "metadata": {},
     "execution_count": 2
    }
   ],
   "metadata": {}
  },
  {
   "cell_type": "code",
   "execution_count": null,
   "source": [
    "# 맞춤법 검사를 하기 위한 글자 수 나누고 \r\n",
    "# 맞춤법 검사해서 텍스트 저장 test\r\n",
    "# 완료\r\n",
    "\r\n",
    "f = open('마마무_wiki.txt','r',encoding='utf-8')\r\n",
    "lines = f.read()\r\n",
    "f.close()\r\n",
    "\r\n",
    "ready_list=[]\r\n",
    "while (len(lines) > 500):\r\n",
    "    temp_str = lines[:500]\r\n",
    "    last_space = temp_str.rfind(\"\\n\")\r\n",
    "    temp_str = lines[0:last_space]\r\n",
    "    print(temp_str)\r\n",
    "    ready_list.append(temp_str)\r\n",
    "    \r\n",
    "    lines = lines[last_space:]\r\n",
    "    \r\n",
    "ready_list.append(lines)\r\n",
    "\r\n",
    "dr = webdriver.Chrome('C:/Users/idf20/Anaconda3/chromedriver.exe')\r\n",
    "url ='http://naver.com/'\r\n",
    "dr.get(url)\r\n",
    "\r\n",
    "elem = dr.find_element_by_name('query')\r\n",
    "elem.send_keys(\"맞춤법 검사기\")\r\n",
    "elem.send_keys(Keys.RETURN)\r\n",
    "\r\n",
    "time.sleep(2)\r\n",
    "\r\n",
    "textarea = dr.find_element_by_class_name('txt_gray')\r\n",
    "\r\n",
    "new_str = ''\r\n",
    "for ready in ready_list:\r\n",
    "    textarea.send_keys(Keys.CONTROL, 'a')\r\n",
    "    textarea.send_keys(ready)\r\n",
    "\r\n",
    "    elem = dr.find_element_by_class_name('btn_check')\r\n",
    "    elem.click()\r\n",
    "\r\n",
    "    time.sleep(1)\r\n",
    "\r\n",
    "    bs = BeautifulSoup(dr.page_source,'html.parser')\r\n",
    "    st = bs.select(\"p._result_text.stand_txt\")[0].text\r\n",
    "    new_str += st\r\n",
    "\r\n",
    "fp = open('refine.txt','w', encoding='utf-8')\r\n",
    "fp.write(new_str)\r\n",
    "fp.close()"
   ],
   "outputs": [],
   "metadata": {}
  },
  {
   "cell_type": "code",
   "execution_count": 3,
   "source": [
    "def automation(file_name):\r\n",
    "    \r\n",
    "    f = open(file_name + '_wiki.txt','r',encoding='utf-8')\r\n",
    "    lines = f.read()\r\n",
    "    f.close()\r\n",
    "    \r\n",
    "    ready_list=[]\r\n",
    "    while (len(lines) > 500):\r\n",
    "        temp_str = lines[:500]\r\n",
    "        last_space = temp_str.rfind(\"\\n\")\r\n",
    "        temp_str = lines[0:last_space]\r\n",
    "        print(temp_str)\r\n",
    "        ready_list.append(temp_str)\r\n",
    "\r\n",
    "        lines = lines[last_space:]\r\n",
    "\r\n",
    "    ready_list.append(lines)\r\n",
    "\r\n",
    "    dr = webdriver.Chrome('C:/Users/idf20/Anaconda3/chromedriver.exe')\r\n",
    "    url ='http://naver.com/'\r\n",
    "    dr.get(url)\r\n",
    "\r\n",
    "    elem = dr.find_element_by_name('query')\r\n",
    "    elem.send_keys(\"맞춤법 검사기\")\r\n",
    "    elem.send_keys(Keys.RETURN)\r\n",
    "\r\n",
    "    time.sleep(2)\r\n",
    "\r\n",
    "    textarea = dr.find_element_by_class_name('txt_gray')\r\n",
    "\r\n",
    "    new_str = ''\r\n",
    "    for ready in ready_list:\r\n",
    "        textarea.send_keys(Keys.CONTROL, 'a')\r\n",
    "        textarea.send_keys(ready)\r\n",
    "\r\n",
    "        elem = dr.find_element_by_class_name('btn_check')\r\n",
    "        elem.click()\r\n",
    "\r\n",
    "        time.sleep(1)\r\n",
    "\r\n",
    "        bs = BeautifulSoup(dr.page_source,'html.parser')\r\n",
    "        st = bs.select(\"p._result_text.stand_txt\")[0].text\r\n",
    "        new_str += st.replace('. ', '.\\n')\r\n",
    "\r\n",
    "    fp = open(file_name + '_refine.txt','w', encoding='utf-8')\r\n",
    "    fp.write(new_str)\r\n",
    "    fp.close()\r\n",
    "    return new_str"
   ],
   "outputs": [],
   "metadata": {}
  },
  {
   "cell_type": "code",
   "execution_count": 4,
   "source": [
    "automation(file_name='김세정')"
   ],
   "outputs": [
    {
     "output_type": "stream",
     "name": "stdout",
     "text": [
      "김세정(金世正, 1996년 8월 28일 ~ )은 젤리피쉬 엔터테인먼트 소속의 대한민국의 가수이자 배우이다. 걸 그룹 구구단과 아이오아이의 전 멤버다. 구구단 해체 이후로 솔로 가수와 배우로서 활동 중이다.\n",
      "\n",
      "학력\n",
      "만경초등학교(전학) → 안양부흥초등학교 (졸업)\n",
      "안양 호계중학교 (졸업)\n",
      "인덕원고등학교 (졸업)\n",
      "한양여자대학교 실용음악과 (재학)\n",
      "\n",
      "생애 및 활동\n",
      "김세정은 1996년 8월 28일 전라북도 김제시 만경읍에서 출생하였으며, 10세 때 경기도 안양시로 이주하여 성장했다. 부모님이 이혼한 후에는 어머니 밑에서 자랐다.\n",
      "\n",
      "PRODUCE 101 참가 전인 2012년에는 SBS의 K팝스타 2에 참가한 적이 있다(TOP35). PRODUCE 101에서 2위를 차지한 후 2016년 5월 4일 I.O.I의 미니 앨범 Chrysalis가 발매되면서 본격적인 음악 활동을 시작했으며, 여러 예능 프로그램에 출연하고 있었다. 같은 해 6월, 9인조 걸 그룹 구구단의 멤버로 데뷔하였으며, 2017년 1월 20~21일 장충체육관에서 진행했던 \"Timeslip IOI\"를 끝으로 1월 31일에 해체한 아이오아이의 활동을 마치고 구구단 멤버로 활동했다. 2020년 12월 31일, 구구단 해체 이후로 솔로 활동과 연기 활동에 전념하고 있다.\n",
      "2018년 7월, 나영, 미나와 함께 유닛 그룹 구구단 세미나로 활동하였다. 2019년 연초, 대만 TTV 설날 특집 프로그램 “2019 초급거성홍백예능대상”(超級巨星紅白藝能大賞)에 유일한 대한민국 가수로 참석하였다. 2020년 3월 17일, 첫 번째 솔로 EP 《화분》을 발매하였다.\n",
      "\n"
     ]
    },
    {
     "output_type": "execute_result",
     "data": {
      "text/plain": [
       "'김세정(金世正, 1996년 8월 28일 ~ )은 젤리피쉬 엔터테인먼트 소속의 대한민국의 가수이자 배우이다.\\n걸 그룹 구구단과 아이오아이의 전 멤버다.\\n구구단 해체 이후로 솔로 가수와 배우로서 활동 중이다.학력만경 초등학교(전학) → 안양부흥초등학교 (졸업)안양 호계중학교 (졸업)인덕원 고등학교 (졸업)한양여자대학교 실용음악과 (재학)생애 및 활동김세정은 1996년 8월 28일 전라북도 김제시 만경읍에서 출생하였으며, 10세 때 경기도 안양시로 이주하여 성장했다.\\n부모님이 이혼한 후에는 어머니 밑에서 자랐다.PRODUCE 101 참가 전인 2012년에는 SBS의 K팝 스타 2에 참가한 적이 있다(TOP35).\\nPRODUCE 101에서 2위를 차지한 후 2016년 5월 4일 I.O.I의 미니 앨범 Chrysalis가 발매되면서 본격적인 음악 활동을 시작했으며, 여러 예능 프로그램에 출연하고 있었다.\\n같은 해 6월, 9인조 걸 그룹 구구단의 멤버로 데뷔하였으며, 2017년 1월 20~21일 장충체육관에서 진행했던 \"Timeslip IOI\"를 끝으로 1월 31일에 해체한 아이오아이의 활동을 마치고 구구단 멤버로 활동했다.\\n2020년 12월 31일, 구구단 해체 이후로 솔로 활동과 연기 활동에 전념하고 있다.2018년 7월, 나영, 미나와 함께 유닛 그룹 구구단 세미나로 활동하였다.\\n2019년 연초, 대만 TTV 설날 특집 프로그램 “2019 초급거성홍백예능대상”(超級巨星紅白藝能大賞)에 유일한 대한민국 가수로 참석하였다.\\n2020년 3월 17일, 첫 번째 솔로 EP 《화분》을 발매하였다.음반EP싱글OST출연 작품드라마진행(MC)방송뮤지컬CF수상 내역가요 프로그램 1위각주외부 링크 위키미디어 공용에 김세정 관련 미디어 분류가 있습니다.김세정 - 인스타그램'"
      ]
     },
     "metadata": {},
     "execution_count": 4
    }
   ],
   "metadata": {}
  },
  {
   "cell_type": "code",
   "execution_count": 5,
   "source": [
    "# 문장 나누기 KSS 랑 Text 파일 비교 해보기\r\n",
    "# 별 차이가 없으므로 txt 파일 읽어오고 \\n 으로 분류하는 것으로 \r\n",
    "# 작업하는 것이 효율이 좋아 보인다.\r\n",
    "\r\n",
    "f = open('김세정_refine.txt','r',encoding='utf-8')\r\n",
    "lines = f.read()\r\n",
    "f.close()\r\n",
    "\r\n",
    "# 문장을 분리하여 리스트로 초기화\r\n",
    "text = [sent for sent in kss.split_sentences(lines)]\r\n",
    "text"
   ],
   "outputs": [
    {
     "output_type": "execute_result",
     "data": {
      "text/plain": [
       "['김세정(金世正, 1996년 8월 28일 ~ )은 젤리피쉬 엔터테인먼트 소속의 대한민국의 가수이자 배우이다.',\n",
       " '걸 그룹 구구단과 아이오아이의 전 멤버다.',\n",
       " '구구단 해체 이후로 솔로 가수와 배우로서 활동 중이다.',\n",
       " '학력만경 초등학교(전학) → 안양부흥초등학교 (졸업)안양 호계중학교 (졸업)인덕원 고등학교 (졸업)한양여자대학교 실용음악과 (재학)생애 및 활동김세정은 1996년 8월 28일 전라북도 김제시 만경읍에서 출생하였으며, 10세 때 경기도 안양시로 이주하여 성장했다.',\n",
       " '부모님이 이혼한 후에는 어머니 밑에서 자랐다.',\n",
       " 'PRODUCE 101 참가 전인 2012년에는 SBS의 K팝 스타 2에 참가한 적이 있다(TOP35).',\n",
       " 'PRODUCE 101에서 2위를 차지한 후 2016년 5월 4일 I.O.I의 미니 앨범 Chrysalis가 발매되면서 본격적인 음악 활동을 시작했으며, 여러 예능 프로그램에 출연하고 있었다.',\n",
       " '같은 해 6월, 9인조 걸 그룹 구구단의 멤버로 데뷔하였으며, 2017년 1월 20~21일 장충체육관에서 진행했던 \"Timeslip IOI\"를 끝으로 1월 31일에 해체한 아이오아이의 활동을 마치고 구구단 멤버로 활동했다.',\n",
       " '2020년 12월 31일, 구구단 해체 이후로 솔로 활동과 연기 활동에 전념하고 있다.',\n",
       " '2018년 7월, 나영, 미나와 함께 유닛 그룹 구구단 세미나로 활동하였다.',\n",
       " '2019년 연초, 대만 TTV 설날 특집 프로그램 “2019 초급거성홍백예능대상”(超級巨星紅白藝能大賞)에 유일한 대한민국 가수로 참석하였다.',\n",
       " '2020년 3월 17일, 첫 번째 솔로 EP 《화분》을 발매하였다.',\n",
       " '음반EP싱글OST출연 작품드라마진행(MC)방송뮤지컬CF수상 내역가요 프로그램 1위각주외부 링크 위키미디어 공용에 김세정 관련 미디어 분류가 있습니다.',\n",
       " '김세정 - 인스타그램']"
      ]
     },
     "metadata": {},
     "execution_count": 5
    }
   ],
   "metadata": {}
  },
  {
   "cell_type": "code",
   "execution_count": 6,
   "source": [
    "lines"
   ],
   "outputs": [
    {
     "output_type": "execute_result",
     "data": {
      "text/plain": [
       "'김세정(金世正, 1996년 8월 28일 ~ )은 젤리피쉬 엔터테인먼트 소속의 대한민국의 가수이자 배우이다.\\n걸 그룹 구구단과 아이오아이의 전 멤버다.\\n구구단 해체 이후로 솔로 가수와 배우로서 활동 중이다.학력만경 초등학교(전학) → 안양부흥초등학교 (졸업)안양 호계중학교 (졸업)인덕원 고등학교 (졸업)한양여자대학교 실용음악과 (재학)생애 및 활동김세정은 1996년 8월 28일 전라북도 김제시 만경읍에서 출생하였으며, 10세 때 경기도 안양시로 이주하여 성장했다.\\n부모님이 이혼한 후에는 어머니 밑에서 자랐다.PRODUCE 101 참가 전인 2012년에는 SBS의 K팝 스타 2에 참가한 적이 있다(TOP35).\\nPRODUCE 101에서 2위를 차지한 후 2016년 5월 4일 I.O.I의 미니 앨범 Chrysalis가 발매되면서 본격적인 음악 활동을 시작했으며, 여러 예능 프로그램에 출연하고 있었다.\\n같은 해 6월, 9인조 걸 그룹 구구단의 멤버로 데뷔하였으며, 2017년 1월 20~21일 장충체육관에서 진행했던 \"Timeslip IOI\"를 끝으로 1월 31일에 해체한 아이오아이의 활동을 마치고 구구단 멤버로 활동했다.\\n2020년 12월 31일, 구구단 해체 이후로 솔로 활동과 연기 활동에 전념하고 있다.2018년 7월, 나영, 미나와 함께 유닛 그룹 구구단 세미나로 활동하였다.\\n2019년 연초, 대만 TTV 설날 특집 프로그램 “2019 초급거성홍백예능대상”(超級巨星紅白藝能大賞)에 유일한 대한민국 가수로 참석하였다.\\n2020년 3월 17일, 첫 번째 솔로 EP 《화분》을 발매하였다.음반EP싱글OST출연 작품드라마진행(MC)방송뮤지컬CF수상 내역가요 프로그램 1위각주외부 링크 위키미디어 공용에 김세정 관련 미디어 분류가 있습니다.김세정 - 인스타그램'"
      ]
     },
     "metadata": {},
     "execution_count": 6
    }
   ],
   "metadata": {}
  },
  {
   "cell_type": "code",
   "execution_count": null,
   "source": [],
   "outputs": [],
   "metadata": {}
  }
 ],
 "metadata": {
  "kernelspec": {
   "display_name": "Python 3",
   "language": "python",
   "name": "python3"
  },
  "language_info": {
   "codemirror_mode": {
    "name": "ipython",
    "version": 3
   },
   "file_extension": ".py",
   "mimetype": "text/x-python",
   "name": "python",
   "nbconvert_exporter": "python",
   "pygments_lexer": "ipython3",
   "version": "3.8.8"
  }
 },
 "nbformat": 4,
 "nbformat_minor": 5
}